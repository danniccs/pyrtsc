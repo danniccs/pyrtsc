{
 "cells": [
  {
   "cell_type": "code",
   "execution_count": 1,
   "metadata": {},
   "outputs": [],
   "source": [
    "import normals_lib\n",
    "import pointareas as pareas\n",
    "import kaolin as kal\n",
    "import torch\n",
    "import numpy as np\n",
    "import meshplot as mp\n",
    "\n",
    "mesh = kal.rep.TriangleMesh.from_obj(\"horse.obj\")"
   ]
  },
  {
   "cell_type": "code",
   "execution_count": 3,
   "metadata": {},
   "outputs": [
    {
     "data": {
      "application/vnd.jupyter.widget-view+json": {
       "model_id": "96b8f854a5644d688eae887af05d9a51",
       "version_major": 2,
       "version_minor": 0
      },
      "text/plain": [
       "Renderer(camera=PerspectiveCamera(children=(DirectionalLight(color='white', intensity=0.6, position=(-4.991888…"
      ]
     },
     "metadata": {},
     "output_type": "display_data"
    }
   ],
   "source": [
    "normals = normals_lib.compute_simple_vertex_normals(mesh)\n",
    "pointareas, cornerareas = pareas.compute_pointareas(mesh)\n",
    "normals_lib.visualize_normals(mesh, normals.cpu())"
   ]
  },
  {
   "cell_type": "code",
   "execution_count": 4,
   "metadata": {},
   "outputs": [],
   "source": [
    "# Calculate principal curvatures and curvature directions\n",
    "import curvature\n",
    "import importlib\n",
    "\n",
    "k1, k2, e1, e2 = curvature.compute_curvatures(mesh, method='cholesky', normals=normals, pointareas=pointareas,\n",
    "                                              cornerareas=cornerareas)"
   ]
  },
  {
   "cell_type": "code",
   "execution_count": null,
   "metadata": {},
   "outputs": [],
   "source": [
    "altk1, altk2, _, _ = curvature.compute_curvatures(mesh, method=\"cholesky\", normals=normals,\n",
    "                                                  pointareas=pointareas, cornerareas=cornerareas)"
   ]
  },
  {
   "cell_type": "code",
   "execution_count": 5,
   "metadata": {},
   "outputs": [],
   "source": [
    "import dcurv\n",
    "\n",
    "dc = dcurv.compute_dcurvs(mesh, method='cholesky', curvs=(k1,k2,e1,e2), normals=normals, pointareas=pointareas,\n",
    "                          cornerareas=cornerareas)"
   ]
  },
  {
   "cell_type": "code",
   "execution_count": 21,
   "metadata": {},
   "outputs": [
    {
     "data": {
      "text/plain": [
       "<module 'dcurv' from '/home/danniccs/rtsc_to_torch/dcurv.py'>"
      ]
     },
     "execution_count": 21,
     "metadata": {},
     "output_type": "execute_result"
    }
   ],
   "source": [
    "importlib.reload(dcurv)"
   ]
  },
  {
   "cell_type": "code",
   "execution_count": 91,
   "metadata": {},
   "outputs": [],
   "source": [
    "DwKr = torch.zeros(12, mesh.vertices.shape[0]).to(device=torch.device('cuda'))\n",
    "kr = torch.zeros(12, mesh.vertices.shape[0]).to(device=torch.device('cuda'))\n",
    "for i in range(0, 12):\n",
    "    DwKr[i], kr[i] = dcurv.compute_DwKr(mesh, normals=normals, curvs=(k1,k2,e1,e2), dcurv=dc, view_coords=viewpos)"
   ]
  },
  {
   "cell_type": "code",
   "execution_count": 92,
   "metadata": {},
   "outputs": [],
   "source": [
    "for i in range(0, 12):\n",
    "    kupper = int(DwKr[i].shape[0] * 0.95)\n",
    "    klower = int(DwKr[i].shape[0] * 0.05)\n",
    "    dwupper, _ = torch.kthvalue(DwKr[i], kupper)\n",
    "    dwlower, _ = torch.kthvalue(DwKr[i], klower)\n",
    "    DwKr[i][DwKr[i] > dwupper] = dwupper\n",
    "    DwKr[i][DwKr[i] < dwlower] = dwlower\n",
    "    kupper = int(kr[i].shape[0] * 0.95)\n",
    "    klower = int(kr[i].shape[0] * 0.05)\n",
    "    krupper, _ = torch.kthvalue(kr[i], kupper)\n",
    "    krlower, _ = torch.kthvalue(kr[i], klower)\n",
    "    kr[i][kr[i] > krupper] = krupper\n",
    "    kr[i][kr[i] < krlower] = krlower"
   ]
  },
  {
   "cell_type": "code",
   "execution_count": 6,
   "metadata": {},
   "outputs": [],
   "source": [
    "kupper = int(k1.shape[0] * 0.95)\n",
    "klower = int(k1.shape[0] * 0.05)\n",
    "dwupper, _ = torch.kthvalue(k1, kupper)\n",
    "dwlower, _ = torch.kthvalue(k1, klower)\n",
    "k1[k1 > dwupper] = dwupper\n",
    "k1[k1 < dwlower] = dwlower\n",
    "kupper = int(k2.shape[0] * 0.95)\n",
    "klower = int(k2.shape[0] * 0.05)\n",
    "krupper, _ = torch.kthvalue(k2, kupper)\n",
    "krlower, _ = torch.kthvalue(k2, klower)\n",
    "k2[k2 > krupper] = krupper\n",
    "k2[k2 < krlower] = krlower"
   ]
  },
  {
   "cell_type": "code",
   "execution_count": 22,
   "metadata": {},
   "outputs": [],
   "source": [
    "import shared_algs\n",
    "ndotv = torch.zeros(12, mesh.vertices.shape[0]).to(device=torch.device('cuda'))\n",
    "krf = torch.zeros(12, mesh.vertices.shape[0]).to(device=torch.device('cuda'))\n",
    "sctest_num = torch.zeros(12, mesh.vertices.shape[0]).to(device=torch.device('cuda'))\n",
    "sctest_den = torch.zeros(12, mesh.vertices.shape[0]).to(device=torch.device('cuda'))\n",
    "sctest = torch.zeros(12, mesh.vertices.shape[0]).to(device=torch.device('cuda'))\n",
    "\n",
    "tridc = tridc.cuda()\n",
    "for i in range(0, 12):\n",
    "    ndotv[i], krf[i], _, sctest_num[i], sctest_den[i] = shared_algs.compute_perview(mesh, normals=normals,\n",
    "                                                                                    curvs=(trik1,trik2,trie1,trie2),\n",
    "                                                                                    dcurv=tridc,\n",
    "                                                                                    view_coords=viewpos)\n",
    "    sctest[i] = sctest_num[i] / sctest_den[i]"
   ]
  },
  {
   "cell_type": "code",
   "execution_count": 23,
   "metadata": {},
   "outputs": [],
   "source": [
    "for i in range(0, 12):\n",
    "    #sctest_den[i][sctest_den[i] == 0] = 0.01\n",
    "    kupper = int(sctest[i].shape[0] * 0.95)\n",
    "    klower = int(sctest[i].shape[0] * 0.05)\n",
    "    scupper, _ = torch.kthvalue(sctest[i], kupper)\n",
    "    sclower, _ = torch.kthvalue(sctest[i], klower)\n",
    "    sctest[i][sctest[i] > scupper] = scupper\n",
    "    sctest[i][sctest[i] < sclower] = sclower\n",
    "    \n",
    "    kupper = int(krf[i].shape[0] * 0.95)\n",
    "    klower = int(krf[i].shape[0] * 0.05)\n",
    "    scupper, _ = torch.kthvalue(krf[i], kupper)\n",
    "    sclower, _ = torch.kthvalue(krf[i], klower)\n",
    "    krf[i][krf[i] > scupper] = scupper\n",
    "    krf[i][krf[i] < sclower] = sclower"
   ]
  },
  {
   "cell_type": "code",
   "execution_count": 86,
   "metadata": {},
   "outputs": [
    {
     "data": {
      "application/vnd.jupyter.widget-view+json": {
       "model_id": "e21fcd104bd3425187c9de00900988f8",
       "version_major": 2,
       "version_minor": 0
      },
      "text/plain": [
       "HBox(children=(Output(), Output()))"
      ]
     },
     "metadata": {},
     "output_type": "display_data"
    }
   ],
   "source": [
    "mp.plot(mesh.vertices.numpy(), mesh.faces.numpy(), c=DwKr[0].to(device=torch.device('cpu')).numpy(),\n",
    "        shading={'colormap': \"jet_r\"})"
   ]
  }
 ],
 "metadata": {
  "kernelspec": {
   "display_name": "Python 3",
   "language": "python",
   "name": "python3"
  },
  "language_info": {
   "codemirror_mode": {
    "name": "ipython",
    "version": 3
   },
   "file_extension": ".py",
   "mimetype": "text/x-python",
   "name": "python",
   "nbconvert_exporter": "python",
   "pygments_lexer": "ipython3",
   "version": "3.6.12"
  }
 },
 "nbformat": 4,
 "nbformat_minor": 4
}
