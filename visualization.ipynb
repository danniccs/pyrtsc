{
 "cells": [
  {
   "cell_type": "code",
   "execution_count": 1,
   "metadata": {},
   "outputs": [],
   "source": [
    "import normals_lib\n",
    "import pointareas as pareas\n",
    "import kaolin as kal\n",
    "import torch\n",
    "import numpy as np\n",
    "import meshplot as mp\n",
    "import seaborn as sns\n",
    "import pandas as pd\n",
    "import matplotlib.pyplot as plt\n",
    "import open3d as o3d\n",
    "\n",
    "%matplotlib tk\n",
    "#mesh = kal.rep.TriangleMesh.from_obj(\"model.obj\") # Modelo de una esfera\n",
    "#mesh = kal.rep.TriangleMesh.from_obj(\"brain.obj\")\n",
    "#mesh = kal.rep.TriangleMesh.from_obj(\"bunny.obj\")\n",
    "#mesh = kal.rep.TriangleMesh.from_obj(\"cow.obj\")\n",
    "mesh = kal.rep.TriangleMesh.from_obj(\"horse.obj\")\n",
    "#mesh = kal.rep.TriangleMesh.from_obj(\"maxplanck.obj\")"
   ]
  },
  {
   "cell_type": "code",
   "execution_count": 90,
   "metadata": {},
   "outputs": [],
   "source": [
    "viewpos = torch.zeros(mesh.vertices.shape)\n",
    "with open(\"/home/danniccs/rtsc-1.6/viewpos\", \"r\") as myfile:\n",
    "    l = myfile.readline()\n",
    "    for i in range(0, viewpos.shape[0]):\n",
    "        viewpos[i] = torch.tensor([float(n) for n in l[1:-2].split(',')])\n",
    "viewpos = viewpos.cuda()"
   ]
  },
  {
   "cell_type": "code",
   "execution_count": 89,
   "metadata": {},
   "outputs": [],
   "source": [
    "viewcoords = torch.load('view_coordinates.pt')"
   ]
  },
  {
   "cell_type": "code",
   "execution_count": 3,
   "metadata": {},
   "outputs": [
    {
     "data": {
      "application/vnd.jupyter.widget-view+json": {
       "model_id": "96b8f854a5644d688eae887af05d9a51",
       "version_major": 2,
       "version_minor": 0
      },
      "text/plain": [
       "Renderer(camera=PerspectiveCamera(children=(DirectionalLight(color='white', intensity=0.6, position=(-4.991888…"
      ]
     },
     "metadata": {},
     "output_type": "display_data"
    }
   ],
   "source": [
    "normals = normals_lib.compute_simple_vertex_normals(mesh)\n",
    "pointareas, cornerareas = pareas.compute_pointareas(mesh)\n",
    "normals_lib.visualize_normals(mesh, normals.cpu())"
   ]
  },
  {
   "cell_type": "code",
   "execution_count": 4,
   "metadata": {},
   "outputs": [],
   "source": [
    "# Calculate principal curvatures and curvature directions\n",
    "import curvature\n",
    "import importlib\n",
    "\n",
    "k1, k2, e1, e2 = curvature.compute_curvatures(mesh, method='cholesky', normals=normals, pointareas=pointareas,\n",
    "                                              cornerareas=cornerareas)"
   ]
  },
  {
   "cell_type": "code",
   "execution_count": null,
   "metadata": {},
   "outputs": [],
   "source": [
    "altk1, altk2, _, _ = curvature.compute_curvatures(mesh, method=\"cholesky\", normals=normals,\n",
    "                                                  pointareas=pointareas, cornerareas=cornerareas)"
   ]
  },
  {
   "cell_type": "code",
   "execution_count": 5,
   "metadata": {},
   "outputs": [],
   "source": [
    "import dcurv\n",
    "\n",
    "dc = dcurv.compute_dcurvs(mesh, method='cholesky', curvs=(k1,k2,e1,e2), normals=normals, pointareas=pointareas,\n",
    "                          cornerareas=cornerareas)"
   ]
  },
  {
   "cell_type": "code",
   "execution_count": 21,
   "metadata": {},
   "outputs": [
    {
     "data": {
      "text/plain": [
       "<module 'dcurv' from '/home/danniccs/rtsc_to_torch/dcurv.py'>"
      ]
     },
     "execution_count": 21,
     "metadata": {},
     "output_type": "execute_result"
    }
   ],
   "source": [
    "importlib.reload(dcurv)"
   ]
  },
  {
   "cell_type": "code",
   "execution_count": 91,
   "metadata": {},
   "outputs": [],
   "source": [
    "DwKr = torch.zeros(12, mesh.vertices.shape[0]).to(device=torch.device('cuda'))\n",
    "kr = torch.zeros(12, mesh.vertices.shape[0]).to(device=torch.device('cuda'))\n",
    "for i in range(0, 12):\n",
    "    DwKr[i], kr[i] = dcurv.compute_DwKr(mesh, normals=normals, curvs=(k1,k2,e1,e2), dcurv=dc, view_coords=viewpos)"
   ]
  },
  {
   "cell_type": "code",
   "execution_count": 92,
   "metadata": {},
   "outputs": [],
   "source": [
    "for i in range(0, 12):\n",
    "    kupper = int(DwKr[i].shape[0] * 0.95)\n",
    "    klower = int(DwKr[i].shape[0] * 0.05)\n",
    "    dwupper, _ = torch.kthvalue(DwKr[i], kupper)\n",
    "    dwlower, _ = torch.kthvalue(DwKr[i], klower)\n",
    "    DwKr[i][DwKr[i] > dwupper] = dwupper\n",
    "    DwKr[i][DwKr[i] < dwlower] = dwlower\n",
    "    kupper = int(kr[i].shape[0] * 0.95)\n",
    "    klower = int(kr[i].shape[0] * 0.05)\n",
    "    krupper, _ = torch.kthvalue(kr[i], kupper)\n",
    "    krlower, _ = torch.kthvalue(kr[i], klower)\n",
    "    kr[i][kr[i] > krupper] = krupper\n",
    "    kr[i][kr[i] < krlower] = krlower"
   ]
  },
  {
   "cell_type": "code",
   "execution_count": 22,
   "metadata": {},
   "outputs": [],
   "source": [
    "DwKr_alt = torch.zeros(12, mesh.vertices.shape[0]).to(device=torch.device('cuda'))\n",
    "kr_alt = torch.zeros(12, mesh.vertices.shape[0]).to(device=torch.device('cuda'))\n",
    "for i in range(0, 12):\n",
    "    DwKr_alt[i], kr_alt[i] = dcurv.compute_DwKr_alt(mesh, normals=normals, curvs=(k1,k2,e1,e2), dcurv=dc,\n",
    "                                                    view_coords=viewpos)\n",
    "    kupper = int(DwKr_alt[i].shape[0] * 0.95)\n",
    "    klower = int(DwKr_alt[i].shape[0] * 0.05)\n",
    "    dwupper, _ = torch.kthvalue(DwKr_alt[i], kupper)\n",
    "    dwlower, _ = torch.kthvalue(DwKr_alt[i], klower)\n",
    "    DwKr_alt[i][DwKr_alt[i] > dwupper] = dwupper\n",
    "    DwKr_alt[i][DwKr_alt[i] < dwlower] = dwlower\n",
    "    kupper = int(kr_alt[i].shape[0] * 0.95)\n",
    "    klower = int(kr_alt[i].shape[0] * 0.05)\n",
    "    krupper, _ = torch.kthvalue(kr_alt[i], kupper)\n",
    "    krlower, _ = torch.kthvalue(kr_alt[i], klower)\n",
    "    kr_alt[i][kr_alt[i] > krupper] = krupper\n",
    "    kr_alt[i][kr_alt[i] < krlower] = krlower"
   ]
  },
  {
   "cell_type": "code",
   "execution_count": 6,
   "metadata": {},
   "outputs": [],
   "source": [
    "kupper = int(k1.shape[0] * 0.95)\n",
    "klower = int(k1.shape[0] * 0.05)\n",
    "dwupper, _ = torch.kthvalue(k1, kupper)\n",
    "dwlower, _ = torch.kthvalue(k1, klower)\n",
    "k1[k1 > dwupper] = dwupper\n",
    "k1[k1 < dwlower] = dwlower\n",
    "kupper = int(k2.shape[0] * 0.95)\n",
    "klower = int(k2.shape[0] * 0.05)\n",
    "krupper, _ = torch.kthvalue(k2, kupper)\n",
    "krlower, _ = torch.kthvalue(k2, klower)\n",
    "k2[k2 > krupper] = krupper\n",
    "k2[k2 < krlower] = krlower"
   ]
  },
  {
   "cell_type": "code",
   "execution_count": 7,
   "metadata": {},
   "outputs": [],
   "source": [
    "kupper = int(altk1.shape[0] * 0.95)\n",
    "klower = int(altk1.shape[0] * 0.05)\n",
    "dwupper, _ = torch.kthvalue(altk1, kupper)\n",
    "dwlower, _ = torch.kthvalue(altk1, klower)\n",
    "altk1[altk1 > dwupper] = dwupper\n",
    "altk1[altk1 < dwlower] = dwlower\n",
    "kupper = int(altk2.shape[0] * 0.95)\n",
    "klower = int(altk2.shape[0] * 0.05)\n",
    "krupper, _ = torch.kthvalue(altk2, kupper)\n",
    "krlower, _ = torch.kthvalue(altk2, klower)\n",
    "altk2[altk2 > krupper] = krupper\n",
    "altk2[altk2 < krlower] = krlower"
   ]
  },
  {
   "cell_type": "code",
   "execution_count": 8,
   "metadata": {},
   "outputs": [],
   "source": [
    "trik1 = torch.zeros(k1.shape).cuda()\n",
    "trik2 = torch.zeros(k2.shape).cuda()\n",
    "trie1 = torch.zeros(e1.shape).cuda()\n",
    "trie2 = torch.zeros(e2.shape).cuda()\n",
    "\n",
    "with open(\"/home/danniccs/rtsc-1.6/k1curv\", \"r\") as myfile:\n",
    "    for i in range(0, k1.shape[0]):\n",
    "        l = myfile.readline()\n",
    "        trik1[i] = float(l)\n",
    "\n",
    "with open(\"/home/danniccs/rtsc-1.6/k2curv\", \"r\") as myfile:\n",
    "    for i in range(0, k2.shape[0]):\n",
    "        l = myfile.readline()\n",
    "        trik2[i] = float(l)\n",
    "\n",
    "with open(\"/home/danniccs/rtsc-1.6/pdir1\", \"r\") as myfile:\n",
    "    for i in range(0, e1.shape[0]):\n",
    "        l = myfile.readline()\n",
    "        trie1[i] = torch.tensor([float(n) for n in l[1:-2].split(',')])\n",
    "\n",
    "with open(\"/home/danniccs/rtsc-1.6/pdir2\", \"r\") as myfile:\n",
    "    for i in range(0, e2.shape[0]):\n",
    "        l = myfile.readline()\n",
    "        trie2[i] = torch.tensor([float(n) for n in l[1:-2].split(',')])"
   ]
  },
  {
   "cell_type": "code",
   "execution_count": 93,
   "metadata": {},
   "outputs": [],
   "source": [
    "tridc = torch.zeros(dc.shape)\n",
    "dwtri = torch.zeros(12, mesh.vertices.shape[0]).to(device=torch.device('cuda'))\n",
    "krtri = torch.zeros(12, mesh.vertices.shape[0]).to(device=torch.device('cuda'))\n",
    "with open(\"/home/danniccs/rtsc-1.6/dcurv\", \"r\") as myfile:\n",
    "    for i in range(0, dc.shape[0]):\n",
    "        l = myfile.readline()\n",
    "        tridc[i] = torch.tensor([float(n) for n in l[1:-2].split(',')])\n",
    "\n",
    "for i in range(0, 12):\n",
    "    dwtri[i], krtri[i] = dcurv.compute_DwKr(mesh, normals=normals, curvs=(trik1,trik2,trie1,trie2),\n",
    "                                            dcurv=tridc.cuda(), view_coords=viewpos)"
   ]
  },
  {
   "cell_type": "code",
   "execution_count": 94,
   "metadata": {},
   "outputs": [],
   "source": [
    "for i in range(0, 12):\n",
    "    kupper = int(dwtri[i].shape[0] * 0.95)\n",
    "    klower = int(dwtri[i].shape[0] * 0.05)\n",
    "    dwupper, _ = torch.kthvalue(dwtri[i], kupper)\n",
    "    dwlower, _ = torch.kthvalue(dwtri[i], klower)\n",
    "    dwtri[i][dwtri[i] > dwupper] = dwupper\n",
    "    dwtri[i][dwtri[i] < dwlower] = dwlower\n",
    "    kupper = int(krtri[i].shape[0] * 0.95)\n",
    "    klower = int(krtri[i].shape[0] * 0.05)\n",
    "    dwupper, _ = torch.kthvalue(krtri[i], kupper)\n",
    "    dwlower, _ = torch.kthvalue(krtri[i], klower)\n",
    "    krtri[i][krtri[i] > dwupper] = dwupper\n",
    "    krtri[i][krtri[i] < dwlower] = dwlower"
   ]
  },
  {
   "cell_type": "code",
   "execution_count": 22,
   "metadata": {},
   "outputs": [],
   "source": [
    "import shared_algs\n",
    "ndotv = torch.zeros(12, mesh.vertices.shape[0]).to(device=torch.device('cuda'))\n",
    "krf = torch.zeros(12, mesh.vertices.shape[0]).to(device=torch.device('cuda'))\n",
    "sctest_num = torch.zeros(12, mesh.vertices.shape[0]).to(device=torch.device('cuda'))\n",
    "sctest_den = torch.zeros(12, mesh.vertices.shape[0]).to(device=torch.device('cuda'))\n",
    "sctest = torch.zeros(12, mesh.vertices.shape[0]).to(device=torch.device('cuda'))\n",
    "\n",
    "tridc = tridc.cuda()\n",
    "for i in range(0, 12):\n",
    "    ndotv[i], krf[i], _, sctest_num[i], sctest_den[i] = shared_algs.compute_perview(mesh, normals=normals,\n",
    "                                                                                    curvs=(trik1,trik2,trie1,trie2),\n",
    "                                                                                    dcurv=tridc,\n",
    "                                                                                    view_coords=viewpos)\n",
    "    sctest[i] = sctest_num[i] / sctest_den[i]"
   ]
  },
  {
   "cell_type": "code",
   "execution_count": 23,
   "metadata": {},
   "outputs": [],
   "source": [
    "for i in range(0, 12):\n",
    "    #sctest_den[i][sctest_den[i] == 0] = 0.01\n",
    "    kupper = int(sctest[i].shape[0] * 0.95)\n",
    "    klower = int(sctest[i].shape[0] * 0.05)\n",
    "    scupper, _ = torch.kthvalue(sctest[i], kupper)\n",
    "    sclower, _ = torch.kthvalue(sctest[i], klower)\n",
    "    sctest[i][sctest[i] > scupper] = scupper\n",
    "    sctest[i][sctest[i] < sclower] = sclower\n",
    "    \n",
    "    kupper = int(krf[i].shape[0] * 0.95)\n",
    "    klower = int(krf[i].shape[0] * 0.05)\n",
    "    scupper, _ = torch.kthvalue(krf[i], kupper)\n",
    "    sclower, _ = torch.kthvalue(krf[i], klower)\n",
    "    krf[i][krf[i] > scupper] = scupper\n",
    "    krf[i][krf[i] < sclower] = sclower"
   ]
  },
  {
   "cell_type": "code",
   "execution_count": 24,
   "metadata": {},
   "outputs": [],
   "source": [
    "trisctest = torch.zeros(sctest[0].shape)\n",
    "\n",
    "with open(\"/home/danniccs/rtsc-1.6/sctest\", \"r\") as myfile:\n",
    "    for i in range(0, trisctest.shape[0]):\n",
    "        l = myfile.readline()\n",
    "        trisctest[i] = float(l)\n",
    "\n",
    "kupper = int(trisctest.shape[0] * 0.95)\n",
    "klower = int(trisctest.shape[0] * 0.05)\n",
    "scupper, _ = torch.kthvalue(trisctest, kupper)\n",
    "sclower, _ = torch.kthvalue(trisctest, klower)\n",
    "trisctest[trisctest > scupper] = scupper\n",
    "trisctest[trisctest < sclower] = sclower"
   ]
  },
  {
   "cell_type": "code",
   "execution_count": 10,
   "metadata": {},
   "outputs": [],
   "source": [
    "kupper = int(trik1.shape[0] * 0.95)\n",
    "klower = int(trik1.shape[0] * 0.05)\n",
    "dwupper, _ = torch.kthvalue(trik1, kupper)\n",
    "dwlower, _ = torch.kthvalue(trik1, klower)\n",
    "trik1[trik1 > dwupper] = dwupper\n",
    "trik1[trik1 < dwlower] = dwlower\n",
    "kupper = int(trik2.shape[0] * 0.95)\n",
    "klower = int(trik2.shape[0] * 0.05)\n",
    "krupper, _ = torch.kthvalue(trik2, kupper)\n",
    "krlower, _ = torch.kthvalue(trik2, klower)\n",
    "trik2[trik2 > krupper] = krupper\n",
    "trik2[trik2 < krlower] = krlower"
   ]
  },
  {
   "cell_type": "code",
   "execution_count": 57,
   "metadata": {},
   "outputs": [],
   "source": [
    "import matplotlib.colors as mlcol\n",
    "import matplotlib.cm as cm\n",
    "\n",
    "nmalizer = mlcol.Normalize()\n",
    "scmap = cm.ScalarMappable(norm=nmalizer, cmap=plt.get_cmap(\"jet\"))\n",
    "mesh_rgba = scmap.to_rgba(DwKr[0].cpu().numpy())\n",
    "mesh_rgba = np.delete(mesh_rgba, 3, 1)"
   ]
  },
  {
   "cell_type": "code",
   "execution_count": 8,
   "metadata": {},
   "outputs": [
    {
     "data": {
      "application/vnd.jupyter.widget-view+json": {
       "model_id": "c846d5405ec24387a5488589706d8d0a",
       "version_major": 2,
       "version_minor": 0
      },
      "text/plain": [
       "HBox(children=(Output(), Output()))"
      ]
     },
     "metadata": {},
     "output_type": "display_data"
    }
   ],
   "source": [
    "mp.jupyter()\n",
    "d = mp.subplot(mesh.vertices.numpy(), mesh.faces.numpy(), c=k1.cpu().numpy(),\n",
    "            shading={'colormap': \"jet_r\"}, s=[1,2,0])\n",
    "mp.subplot(mesh.vertices.numpy(), mesh.faces.numpy(), c=altk1.cpu().numpy(),\n",
    "            shading={'colormap': \"jet_r\"}, s=[1,2,1], data=d)"
   ]
  },
  {
   "cell_type": "code",
   "execution_count": 9,
   "metadata": {
    "scrolled": false
   },
   "outputs": [
    {
     "data": {
      "application/vnd.jupyter.widget-view+json": {
       "model_id": "f50c32ed882d43b79aaa7237bff28544",
       "version_major": 2,
       "version_minor": 0
      },
      "text/plain": [
       "HBox(children=(Output(), Output()))"
      ]
     },
     "metadata": {},
     "output_type": "display_data"
    }
   ],
   "source": [
    "d = mp.subplot(mesh.vertices.numpy(), mesh.faces.numpy(), c=k2.to(device=torch.device('cpu')).numpy(),\n",
    "            shading={'colormap': \"jet_r\"}, s=[1,2,0])\n",
    "mp.subplot(mesh.vertices.numpy(), mesh.faces.numpy(), c=altk2.to(device=torch.device('cpu')).numpy(),\n",
    "            shading={'colormap': \"jet_r\"}, s=[1,2,1], data=d)"
   ]
  },
  {
   "cell_type": "code",
   "execution_count": 86,
   "metadata": {
    "scrolled": false
   },
   "outputs": [
    {
     "data": {
      "application/vnd.jupyter.widget-view+json": {
       "model_id": "a602d6deb38e4f0fa0c0d8d228597c58",
       "version_major": 2,
       "version_minor": 0
      },
      "text/plain": [
       "HBox(children=(Output(), Output()))"
      ]
     },
     "metadata": {},
     "output_type": "display_data"
    }
   ],
   "source": [
    "d = mp.subplot(mesh.vertices.numpy(), mesh.faces.numpy(), c=e1.to(device=torch.device('cpu')).numpy(),\n",
    "               s=[1,2,0])\n",
    "mp.subplot(mesh.vertices.numpy(), mesh.faces.numpy(), c=trie1.to(device=torch.device('cpu')).numpy(),\n",
    "               s=[1,2,1], data=d)"
   ]
  },
  {
   "cell_type": "code",
   "execution_count": 86,
   "metadata": {},
   "outputs": [
    {
     "data": {
      "application/vnd.jupyter.widget-view+json": {
       "model_id": "e21fcd104bd3425187c9de00900988f8",
       "version_major": 2,
       "version_minor": 0
      },
      "text/plain": [
       "HBox(children=(Output(), Output()))"
      ]
     },
     "metadata": {},
     "output_type": "display_data"
    }
   ],
   "source": [
    "d = mp.subplot(mesh.vertices.numpy(), mesh.faces.numpy(), c=DwKr[0].to(device=torch.device('cpu')).numpy(),\n",
    "            shading={'colormap': \"jet_r\"}, s=[1,2,0])\n",
    "mp.subplot(mesh.vertices.numpy(), mesh.faces.numpy(), c=dwtri[1].to(device=torch.device('cpu')).numpy(),\n",
    "            shading={'colormap': \"jet_r\"}, s=[1,2,1], data=d)"
   ]
  },
  {
   "cell_type": "code",
   "execution_count": 128,
   "metadata": {},
   "outputs": [
    {
     "data": {
      "application/vnd.jupyter.widget-view+json": {
       "model_id": "f88cd41192b64559af184ed5b0a9e4f3",
       "version_major": 2,
       "version_minor": 0
      },
      "text/plain": [
       "Renderer(camera=PerspectiveCamera(children=(DirectionalLight(color='white', intensity=0.6, position=(-4.991888…"
      ]
     },
     "metadata": {},
     "output_type": "display_data"
    }
   ],
   "source": [
    "d = mp.plot(mesh.vertices.numpy(), mesh.faces.numpy(), c=kr[0].to(device=torch.device('cpu')).numpy(),\n",
    "            shading={'colormap': \"jet_r\"}, plot=mp.Viewer({}), return_plot=True)\n",
    "d._orbit.autoRotate = True\n",
    "d._orbit.autoRotateSpeed = 5\n",
    "d._orbit.rotateSpeed = 5\n",
    "d.update_object()\n",
    "d._renderer.controls = [d._orbit]\n",
    "display(d._renderer)"
   ]
  },
  {
   "cell_type": "code",
   "execution_count": 98,
   "metadata": {},
   "outputs": [
    {
     "data": {
      "application/vnd.jupyter.widget-view+json": {
       "model_id": "048ed7fa7db746c7ac4a1c93816c56d6",
       "version_major": 2,
       "version_minor": 0
      },
      "text/plain": [
       "HBox(children=(Output(), Output()))"
      ]
     },
     "metadata": {},
     "output_type": "display_data"
    },
    {
     "name": "stdout",
     "output_type": "stream",
     "text": [
      "<meshplot.plot.Subplot object at 0x7fbc08fce0b8>\n"
     ]
    }
   ],
   "source": [
    "d = mp.subplot(mesh.vertices.numpy(), mesh.faces.numpy(), c=kr[0].to(device=torch.device('cpu')).numpy(),\n",
    "            shading={'colormap': \"jet_r\"}, s=[1,2,0])\n",
    "mp.subplot(mesh.vertices.numpy(), mesh.faces.numpy(), c=krtri[1].to(device=torch.device('cpu')).numpy(),\n",
    "            shading={'colormap': \"jet_r\"}, s=[1,2,1], data=d)"
   ]
  },
  {
   "cell_type": "code",
   "execution_count": 27,
   "metadata": {},
   "outputs": [
    {
     "data": {
      "application/vnd.jupyter.widget-view+json": {
       "model_id": "972618aefa174c938b669213271c1e20",
       "version_major": 2,
       "version_minor": 0
      },
      "text/plain": [
       "HBox(children=(Output(), Output()))"
      ]
     },
     "metadata": {},
     "output_type": "display_data"
    }
   ],
   "source": [
    "d = mp.subplot(mesh.vertices.numpy(), mesh.faces.numpy(), c=DwKr[0].to(device=torch.device('cpu')).numpy(),\n",
    "            shading={'colormap': \"jet_r\"}, s=[1,2,0])\n",
    "mp.subplot(mesh.vertices.numpy(), mesh.faces.numpy(), c=sctest[0].to(device=torch.device('cpu')).numpy(),\n",
    "            shading={'colormap': \"jet_r\"}, s=[1,2,1], data=d)"
   ]
  },
  {
   "cell_type": "code",
   "execution_count": 28,
   "metadata": {},
   "outputs": [
    {
     "data": {
      "application/vnd.jupyter.widget-view+json": {
       "model_id": "0b6b4d7972ac42ec89bef14efbbec338",
       "version_major": 2,
       "version_minor": 0
      },
      "text/plain": [
       "HBox(children=(Output(), Output()))"
      ]
     },
     "metadata": {},
     "output_type": "display_data"
    }
   ],
   "source": [
    "d = mp.subplot(mesh.vertices.numpy(), mesh.faces.numpy(), c=sctest[0].to(device=torch.device('cpu')).numpy(),\n",
    "            shading={'colormap': \"jet_r\"}, s=[1,2,0])\n",
    "mp.subplot(mesh.vertices.numpy(), mesh.faces.numpy(), c=trisctest.to(device=torch.device('cpu')).numpy(),\n",
    "            shading={'colormap': \"jet_r\"}, s=[1,2,1], data=d)"
   ]
  },
  {
   "cell_type": "code",
   "execution_count": 167,
   "metadata": {},
   "outputs": [
    {
     "data": {
      "text/plain": [
       "Text(0.5, 1.0, 'rtsc')"
      ]
     },
     "execution_count": 167,
     "metadata": {},
     "output_type": "execute_result"
    }
   ],
   "source": [
    "fig, axes = plt.subplots(1, 2, sharey=True)\n",
    "fig.suptitle('Comparación de distribuciones de DwKr\\n')\n",
    "\n",
    "hplot = sns.histplot(ax=axes[0], data=DwKr[0].cpu().numpy())\n",
    "hplot.set(xlabel='Valor de DwKr')\n",
    "axes[0].set_title('pyrtsc')\n",
    "\n",
    "hplot = sns.histplot(ax=axes[1], data=dwtri[0].cpu().numpy())\n",
    "hplot.set(xlabel='Valor de DwKr')\n",
    "axes[1].set_title('rtsc')\n",
    "#plt.show()"
   ]
  },
  {
   "cell_type": "code",
   "execution_count": 62,
   "metadata": {},
   "outputs": [
    {
     "data": {
      "text/plain": [
       "Text(0.5, 1.0, 'Comparación de distribuciones de DwKr')"
      ]
     },
     "execution_count": 62,
     "metadata": {},
     "output_type": "execute_result"
    }
   ],
   "source": [
    "sns.set_theme(style=\"whitegrid\")\n",
    "\n",
    "df = pd.DataFrame(np.array([DwKr[0].cpu().numpy(), dwtri[0].cpu().numpy()]).transpose(), columns=['pyrtsc', 'rtsc'])\n",
    "bplot = sns.boxplot(data=df)\n",
    "bplot.set(ylabel='Valor de DwKr')\n",
    "bplot.set_title('Comparación de distribuciones de DwKr')\n",
    "#plt.show()"
   ]
  },
  {
   "cell_type": "code",
   "execution_count": null,
   "metadata": {},
   "outputs": [],
   "source": [
    "fig, axes = plt.subplots(1, 2, sharey=True)\n",
    "fig.suptitle('Comparación de distribuciones de DwKr y sctest\\n')\n",
    "sns.set_theme(style=\"white\")\n",
    "\n",
    "hplot = sns.histplot(ax=axes[0], data=DwKr[0].cpu().numpy())\n",
    "hplot.set(xlabel='Valor de DwKr')\n",
    "\n",
    "hplot = sns.histplot(ax=axes[1], data=sctest[0].cpu().numpy())\n",
    "hplot.set(xlabel='Valor de sctest')\n",
    "#plt.show()"
   ]
  },
  {
   "cell_type": "code",
   "execution_count": 11,
   "metadata": {},
   "outputs": [
    {
     "data": {
      "text/plain": [
       "[Text(0, 0.5, 'Valor de sctest')]"
      ]
     },
     "execution_count": 11,
     "metadata": {},
     "output_type": "execute_result"
    }
   ],
   "source": [
    "fig, axes = plt.subplots(1, 2, sharey=False)\n",
    "fig.suptitle('Comparación de distribuciones de DwKr y sctest\\n')\n",
    "sns.set_theme(style=\"whitegrid\")\n",
    "\n",
    "bplot = sns.boxplot(ax=axes[0], y=DwKr[0].cpu().numpy())\n",
    "bplot.set(ylabel='Valor de DwKr')\n",
    "\n",
    "bplot = sns.boxplot(ax=axes[1], y=sctest[0].cpu().numpy())\n",
    "bplot.set(ylabel='Valor de sctest')\n",
    "#plt.show()"
   ]
  },
  {
   "cell_type": "code",
   "execution_count": 115,
   "metadata": {},
   "outputs": [
    {
     "data": {
      "text/plain": [
       "Text(0.5, 1.0, 'rtsc')"
      ]
     },
     "execution_count": 115,
     "metadata": {},
     "output_type": "execute_result"
    }
   ],
   "source": [
    "fig, axes = plt.subplots(1, 2, sharey=True)\n",
    "fig.suptitle('Comparación de distribuciones de curvaturas radiales\\n')\n",
    "sns.set_theme(style=\"white\")\n",
    "\n",
    "hplot = sns.histplot(ax=axes[0], data=kr[0].cpu().numpy())\n",
    "hplot.set(xlabel='Valor de kr')\n",
    "axes[0].set_title('pyrtsc')\n",
    "\n",
    "hplot = sns.histplot(ax=axes[1], data=krtri[0].cpu().numpy())\n",
    "hplot.set(xlabel='Valor de kr')\n",
    "axes[1].set_title('rtsc')\n",
    "#plt.show()"
   ]
  },
  {
   "cell_type": "code",
   "execution_count": 66,
   "metadata": {},
   "outputs": [
    {
     "data": {
      "text/plain": [
       "Text(0.5, 1.0, 'Comparación de distribuciones de kr')"
      ]
     },
     "execution_count": 66,
     "metadata": {},
     "output_type": "execute_result"
    }
   ],
   "source": [
    "sns.set_theme(style=\"whitegrid\")\n",
    "\n",
    "df = pd.DataFrame(np.array([kr[0].cpu().numpy(), krtri[0].cpu().numpy()]).transpose(), columns=['pyrtsc', 'rtsc'])\n",
    "bplot = sns.boxplot(data=df)\n",
    "bplot.set(ylabel='Valor de kr')\n",
    "bplot.set_title('Comparación de distribuciones de kr')\n",
    "#plt.show()"
   ]
  },
  {
   "cell_type": "code",
   "execution_count": 12,
   "metadata": {},
   "outputs": [
    {
     "data": {
      "text/plain": [
       "Text(0.5, 1.0, 'Cholesky')"
      ]
     },
     "execution_count": 12,
     "metadata": {},
     "output_type": "execute_result"
    }
   ],
   "source": [
    "fig, axes = plt.subplots(1, 2, sharey=True)\n",
    "fig.suptitle('Comparación de distribuciones de curvatura principal k1\\n')\n",
    "\n",
    "hplot = sns.histplot(ax=axes[0], data=k1.cpu().numpy())\n",
    "hplot.set(xlabel='Valor de k1')\n",
    "axes[0].set_title('lstsq')\n",
    "\n",
    "hplot = sns.histplot(ax=axes[1], data=altk1.cpu().numpy())\n",
    "hplot.set(xlabel='Valor de k1')\n",
    "axes[1].set_title('Cholesky')\n",
    "#plt.show()"
   ]
  },
  {
   "cell_type": "code",
   "execution_count": 7,
   "metadata": {},
   "outputs": [
    {
     "data": {
      "text/plain": [
       "Text(0.5, 1.0, 'Cholesky')"
      ]
     },
     "execution_count": 7,
     "metadata": {},
     "output_type": "execute_result"
    }
   ],
   "source": [
    "fig, axes = plt.subplots(1, 2, sharey=True)\n",
    "fig.suptitle('Comparación de distribuciones de curvatura principal k2\\n')\n",
    "\n",
    "hplot = sns.histplot(ax=axes[0], data=k2.cpu().numpy())\n",
    "hplot.set(xlabel='Valor de k2')\n",
    "axes[0].set_title('lstsq')\n",
    "\n",
    "hplot = sns.histplot(ax=axes[1], data=altk2.cpu().numpy())\n",
    "hplot.set(xlabel='Valor de k2')\n",
    "axes[1].set_title('Cholesky')\n",
    "#plt.show()"
   ]
  },
  {
   "cell_type": "code",
   "execution_count": 49,
   "metadata": {},
   "outputs": [],
   "source": [
    "fig, axes = plt.subplots(1, 2)\n",
    "\n",
    "hplot = sns.histplot(data=e1.cpu().numpy(), ax=axes[0])\n",
    "\n",
    "hplot = sns.histplot(data=trie1.cpu().numpy(), ax=axes[1])"
   ]
  },
  {
   "cell_type": "code",
   "execution_count": 18,
   "metadata": {},
   "outputs": [
    {
     "data": {
      "text/plain": [
       "[Text(0, 0.5, '')]"
      ]
     },
     "execution_count": 18,
     "metadata": {},
     "output_type": "execute_result"
    }
   ],
   "source": [
    "fig, axes = plt.subplots(1, 2, subplot_kw=dict(projection=\"polar\"))\n",
    "\n",
    "theta = np.arccos(e1[:,2].cpu().numpy())\n",
    "df = pd.DataFrame(theta, columns=['theta'])\n",
    "hplot = sns.histplot(data=df, ax=axes[0])\n",
    "axes[0].set_rlabel_position(270)\n",
    "axes[0].set(ylabel=\"\")\n",
    "\n",
    "tritheta = np.arccos(trie1[:,2].cpu().numpy())\n",
    "tridf = pd.DataFrame(tritheta, columns=['theta'])\n",
    "hplot = sns.histplot(data=tridf, ax=axes[1])\n",
    "axes[1].set_rlabel_position(270)\n",
    "axes[1].set(ylabel=\"\")"
   ]
  },
  {
   "cell_type": "code",
   "execution_count": 19,
   "metadata": {},
   "outputs": [
    {
     "data": {
      "text/plain": [
       "[Text(0, 0.5, '')]"
      ]
     },
     "execution_count": 19,
     "metadata": {},
     "output_type": "execute_result"
    }
   ],
   "source": [
    "fig, axes = plt.subplots(1, 2, subplot_kw=dict(projection=\"polar\"))\n",
    "\n",
    "phi = np.arctan2(e1[:,1].cpu().numpy(), e1[:,0].cpu().numpy())\n",
    "df = pd.DataFrame(phi, columns=['phi'])\n",
    "hplot = sns.histplot(data=df, ax=axes[0])\n",
    "axes[0].set_rlabel_position(270)\n",
    "axes[0].set(ylabel=\"\")\n",
    "\n",
    "triphi = np.arctan2(trie1[:,1].cpu().numpy(), trie1[:,0].cpu().numpy())\n",
    "tridf = pd.DataFrame(triphi, columns=['phi'])\n",
    "hplot = sns.histplot(data=tridf, ax=axes[1])\n",
    "axes[1].set_rlabel_position(270)\n",
    "axes[1].set(ylabel=\"\")"
   ]
  },
  {
   "cell_type": "code",
   "execution_count": 30,
   "metadata": {},
   "outputs": [],
   "source": [
    "from mpl_toolkits.axes_grid1 import make_axes_locatable\n",
    "\n",
    "ax = plt.subplot()\n",
    "ax.set_axis_off()\n",
    "dset = DwKr[0].cpu().numpy()\n",
    "im = ax.imshow(np.expand_dims(np.linspace(np.floor(dset.min()), np.ceil(dset.max()), 50), 1),\n",
    "               cmap=plt.get_cmap(\"jet_r\"))\n",
    "\n",
    "# create an axes on the right side of ax. The width of cax will be 5%\n",
    "# of ax and the padding between cax and ax will be fixed at 0.05 inch.\n",
    "divider = make_axes_locatable(ax)\n",
    "cax = divider.append_axes(\"right\", size=\"5%\", pad=0.1)\n",
    "\n",
    "plt.colorbar(im, cax=cax)\n",
    "\n",
    "plt.show()"
   ]
  },
  {
   "cell_type": "code",
   "execution_count": 10,
   "metadata": {},
   "outputs": [
    {
     "name": "stdout",
     "output_type": "stream",
     "text": [
      "{'cow': [16.080965301, 16.00931484099999, 16.41002288599998, 15.940427124000053, 16.09649451899986, 16.031626481000785, 16.00473958099974, 15.965231146000406, 16.308280651000132, 16.043601514999864], 'brain': [100.92670668099998, 101.28925802399999, 100.36651987599998, 100.33858868900006, 101.04065844299976, 101.3302612940006, 101.28351850800027, 100.690533555, 101.28376479500002, 101.06968883900026], 'bunny': [186.666959565, 186.50333699200007, 185.30018377400006, 185.32369976400014, 186.90193626400014, 186.99818353400042, 185.48347873399962, 186.36609706699983, 186.21869161799987, 185.4308589049997], 'horse': [256.89135172699997, 256.7492589249998, 257.09431783800005, 258.6008604660001, 258.65404698400016, 259.2155534169997, 257.3367465559995, 259.56159619400023, 257.59126116100015, 257.36840205599947], 'maxplanck': [259.607598521, 260.04117358300005, 260.09948306399974, 261.72596415499993, 262.36485469599984, 262.0512081630004, 260.2602813409994, 263.2174520569997, 261.05102675299986, 260.13818749499933]}\n",
      "{'cow': [14.177878935, 14.332419283000036, 14.32233650000012, 14.23644449099993, 14.052199585999915, 14.540499340000224, 14.139036124000086, 14.06268209100017, 14.051712634000069, 14.206127686999935], 'brain': [90.245810514, 90.87060715300004, 89.49461534800002, 89.83413101899987, 88.9984661450003, 89.3841222609999, 88.23617311199996, 88.39637545499954, 88.32050854099998, 88.96998173300017], 'bunny': [168.08285155700003, 164.627659192, 164.483499123, 163.69431178500008, 162.48881060899976, 163.09266775199967, 161.9946396969999, 162.640657594, 162.40757231599946, 163.52688814900011], 'horse': [234.01529840499995, 226.2724538079999, 226.7535758879999, 226.4255794679998, 224.4257857710004, 225.8717296109994, 225.09020425200015, 225.00073284100017, 225.7405699639994, 225.71973853800046], 'maxplanck': [240.890272031, 229.67003261299988, 230.440231841, 227.871415651, 226.86282198799972, 228.43034970200006, 228.1116276040002, 227.58348582500003, 228.69275915300022, 226.74305727000046]}\n"
     ]
    }
   ],
   "source": [
    "import pickle\n",
    "\n",
    "with open(\"./curvtimes\", \"rb\") as myfile:\n",
    "    speedDict = pickle.load(myfile)\n",
    "\n",
    "with open(\"./curvtimes_chol\", \"rb\") as myfile:\n",
    "    speedDictChol = pickle.load(myfile)"
   ]
  },
  {
   "cell_type": "code",
   "execution_count": 35,
   "metadata": {},
   "outputs": [
    {
     "name": "stdout",
     "output_type": "stream",
     "text": [
      "[16.08907040450008, 100.9619498704001, 186.11934262169999, 257.90633953239995, 261.05572298279986]\n",
      "[14.212133667100048, 89.27507912809997, 163.70395577739993, 226.53156685459993, 229.52960536780006]\n"
     ]
    },
    {
     "data": {
      "text/html": [
       "<div>\n",
       "<style scoped>\n",
       "    .dataframe tbody tr th:only-of-type {\n",
       "        vertical-align: middle;\n",
       "    }\n",
       "\n",
       "    .dataframe tbody tr th {\n",
       "        vertical-align: top;\n",
       "    }\n",
       "\n",
       "    .dataframe thead th {\n",
       "        text-align: right;\n",
       "    }\n",
       "</style>\n",
       "<table border=\"1\" class=\"dataframe\">\n",
       "  <thead>\n",
       "    <tr style=\"text-align: right;\">\n",
       "      <th></th>\n",
       "      <th>lstsq</th>\n",
       "      <th>cholesky</th>\n",
       "    </tr>\n",
       "  </thead>\n",
       "  <tbody>\n",
       "    <tr>\n",
       "      <th>5804.0</th>\n",
       "      <td>16.089070</td>\n",
       "      <td>14.212134</td>\n",
       "    </tr>\n",
       "    <tr>\n",
       "      <th>36752.0</th>\n",
       "      <td>100.961950</td>\n",
       "      <td>89.275079</td>\n",
       "    </tr>\n",
       "    <tr>\n",
       "      <th>69451.0</th>\n",
       "      <td>186.119343</td>\n",
       "      <td>163.703956</td>\n",
       "    </tr>\n",
       "    <tr>\n",
       "      <th>96964.0</th>\n",
       "      <td>257.906340</td>\n",
       "      <td>226.531567</td>\n",
       "    </tr>\n",
       "    <tr>\n",
       "      <th>98260.0</th>\n",
       "      <td>261.055723</td>\n",
       "      <td>229.529605</td>\n",
       "    </tr>\n",
       "  </tbody>\n",
       "</table>\n",
       "</div>"
      ],
      "text/plain": [
       "              lstsq    cholesky\n",
       "5804.0    16.089070   14.212134\n",
       "36752.0  100.961950   89.275079\n",
       "69451.0  186.119343  163.703956\n",
       "96964.0  257.906340  226.531567\n",
       "98260.0  261.055723  229.529605"
      ]
     },
     "execution_count": 35,
     "metadata": {},
     "output_type": "execute_result"
    }
   ],
   "source": [
    "avgTimes = []\n",
    "for k,v in speedDict.items():\n",
    "    avgTimes.append(np.mean(v))\n",
    "\n",
    "print(avgTimes)\n",
    "    \n",
    "avgTimesChol = []\n",
    "for k,v in speedDictChol.items():\n",
    "    avgTimesChol.append(np.mean(v))\n",
    "\n",
    "print(avgTimesChol)\n",
    "\n",
    "face_nums = []\n",
    "with open(\"/home/danniccs/rtsc_to_torch/face_numbers\", \"r\") as myfile:\n",
    "    for i in range(0, 5):\n",
    "        l = myfile.readline()\n",
    "        face_nums.append(float(l))\n",
    "\n",
    "avgTimesAll = np.array([avgTimes, avgTimesChol], ndmin=2)\n",
    "avgTimesAll = avgTimesAll.transpose()\n",
    "#df = pd.DataFrame(avgTimesAll, columns=['Cow', 'Brain', 'Bunny', 'Horse', 'Max Planck'])\n",
    "df = pd.DataFrame(avgTimesAll, columns=['lstsq', 'cholesky'], index=face_nums)\n",
    "linplot = sns.lineplot(data=df, dashes=[(1,2),(1,2)], markers=True)\n",
    "linplot.set(xlabel='Número de caras', ylabel='Tiempo de cálculo de curvaturas (segundos)')\n",
    "linplot.set_title('Tiempos de cálculo de curvaturas')\n",
    "\n",
    "df"
   ]
  }
 ],
 "metadata": {
  "kernelspec": {
   "display_name": "Python 3",
   "language": "python",
   "name": "python3"
  },
  "language_info": {
   "codemirror_mode": {
    "name": "ipython",
    "version": 3
   },
   "file_extension": ".py",
   "mimetype": "text/x-python",
   "name": "python",
   "nbconvert_exporter": "python",
   "pygments_lexer": "ipython3",
   "version": "3.6.12"
  }
 },
 "nbformat": 4,
 "nbformat_minor": 4
}
