{
 "cells": [
  {
   "cell_type": "code",
   "execution_count": 55,
   "metadata": {},
   "outputs": [],
   "source": [
    "import normals_lib\n",
    "import pointareas\n",
    "import kaolin as kal\n",
    "import torch\n",
    "import numpy as np\n",
    "import meshplot as mp\n",
    "\n",
    "#mesh = kal.rep.TriangleMesh.from_obj(\"model.obj\") # Modelo de una esfera\n",
    "#mesh = kal.rep.TriangleMesh.from_obj(\"cow.obj\") # Modelo de vaca\n",
    "#mesh = kal.rep.TriangleMesh.from_obj(\"torus.obj\")\n",
    "mesh = kal.rep.TriangleMesh.from_obj(\"simplified_bunny.obj\")"
   ]
  },
  {
   "cell_type": "code",
   "execution_count": 56,
   "metadata": {},
   "outputs": [],
   "source": [
    "view_coords = torch.load(\"view_coordinates.pt\").to(device=torch.device('cuda'))\n",
    "verts = mesh.vertices.clone()\n",
    "xmed = torch.median(verts[:,0])\n",
    "ymed = torch.median(verts[:,1])\n",
    "zmed = torch.median(verts[:,2])\n",
    "verts[:,0] -= xmed\n",
    "verts[:,1] -= ymed\n",
    "verts[:,2] -= zmed\n",
    "verts /= torch.max(torch.norm(verts, dim=1))\n",
    "mesh.vertices = verts"
   ]
  },
  {
   "cell_type": "code",
   "execution_count": 57,
   "metadata": {},
   "outputs": [
    {
     "data": {
      "application/vnd.jupyter.widget-view+json": {
       "model_id": "883a890cfc61438a99cd9fe0e85014a9",
       "version_major": 2,
       "version_minor": 0
      },
      "text/plain": [
       "Renderer(camera=PerspectiveCamera(children=(DirectionalLight(color='white', intensity=0.6, position=(0.1351746…"
      ]
     },
     "metadata": {},
     "output_type": "display_data"
    }
   ],
   "source": [
    "normals = normals_lib.compute_simple_vertex_normals(mesh).to(device=torch.device('cpu'))\n",
    "pointareas, cornerareas = pointareas.compute_pointareas(mesh)\n",
    "normals_lib.visualize_normals(mesh, normals)\n",
    "normals = normals.to(device=torch.device('cuda'))"
   ]
  },
  {
   "cell_type": "code",
   "execution_count": 58,
   "metadata": {},
   "outputs": [],
   "source": [
    "# Calculate principal curvatures and curvature directions\n",
    "import curvature\n",
    "\n",
    "k1, k2, e1, e2 = curvature.compute_curvatures(mesh, normals=normals, pointareas=pointareas,\n",
    "                                              cornerareas=cornerareas)"
   ]
  },
  {
   "cell_type": "code",
   "execution_count": 59,
   "metadata": {},
   "outputs": [],
   "source": [
    "import dcurv\n",
    "\n",
    "dc = dcurv.compute_dcurvs(mesh, curvs=(k1,k2,e1,e2), normals=normals, pointareas=pointareas,\n",
    "                          cornerareas=cornerareas)"
   ]
  },
  {
   "cell_type": "code",
   "execution_count": 81,
   "metadata": {},
   "outputs": [
    {
     "data": {
      "text/plain": [
       "<module 'dcurv' from '/home/danniccs/rtsc_to_torch/dcurv.py'>"
      ]
     },
     "execution_count": 81,
     "metadata": {},
     "output_type": "execute_result"
    }
   ],
   "source": [
    "import importlib\n",
    "importlib.reload(dcurv)"
   ]
  },
  {
   "cell_type": "code",
   "execution_count": 113,
   "metadata": {},
   "outputs": [],
   "source": [
    "DwKr = torch.zeros(12, mesh.vertices.shape[0]).to(device=torch.device('cuda'))\n",
    "kr = torch.zeros(12, mesh.vertices.shape[0]).to(device=torch.device('cuda'))\n",
    "for i in range(0, 12):\n",
    "    DwKr[i], kr[i] = dcurv.compute_DwKr(mesh, normals=normals, curvs=(k1,k2,e1,e2), dcurv=dc,\n",
    "                                        view_coords=view_coords[i])"
   ]
  },
  {
   "cell_type": "code",
   "execution_count": 47,
   "metadata": {},
   "outputs": [],
   "source": [
    "tridc = torch.zeros(dc.shape)\n",
    "with open(\"/home/danniccs/rtsc-1.6/dcurv\", \"r\") as myfile:\n",
    "    for i in range(0, dc.shape[0]):\n",
    "        l = myfile.readline()\n",
    "        tridc[i] = torch.tensor([float(n) for n in l[1:-2].split(',')])\n",
    "DwKrtri, krtri = dcurv.compute_DwKr(mesh, normals=normals, curvs=(k1,k2,e1,e2), dcurv=tridc.to(device=torch.device('cuda')))"
   ]
  },
  {
   "cell_type": "code",
   "execution_count": 83,
   "metadata": {},
   "outputs": [
    {
     "name": "stdout",
     "output_type": "stream",
     "text": [
      "tensor(-27759.0547, device='cuda:0')\n",
      "tensor(20.0489, device='cuda:0')\n",
      "tensor(23948.0566, device='cuda:0')\n",
      "tensor(2.9970, device='cuda:0')\n",
      "tensor(-54.9730, device='cuda:0')\n",
      "tensor(70.8708, device='cuda:0')\n"
     ]
    }
   ],
   "source": [
    "print(DwKr[0].min())\n",
    "print(DwKr[0].mean())\n",
    "print(DwKr[0].max())\n",
    "print(kr[0].mean())\n",
    "print(kr[0].min())\n",
    "print(kr[0].max())"
   ]
  },
  {
   "cell_type": "code",
   "execution_count": 7,
   "metadata": {},
   "outputs": [],
   "source": [
    "dwkr_copy = DwKr.clone()"
   ]
  },
  {
   "cell_type": "code",
   "execution_count": 55,
   "metadata": {},
   "outputs": [
    {
     "data": {
      "text/plain": [
       "tensor(nan, device='cuda:0')"
      ]
     },
     "execution_count": 55,
     "metadata": {},
     "output_type": "execute_result"
    }
   ],
   "source": [
    "#DwKr = dwkr_copy\n",
    "(DwKr[0][DwKr[0] > DwKr[0].mean()]).sum()\n",
    "DwKr[0]\n",
    "DwKr[0].mean()"
   ]
  },
  {
   "cell_type": "code",
   "execution_count": 40,
   "metadata": {},
   "outputs": [],
   "source": [
    "import matplotlib\n",
    "matplotlib.use('TkAgg')\n",
    "plt = matplotlib.pyplot\n",
    "import math\n",
    "DwKr[0][DwKr[0] >= DwKr[0].mean() * 2] = DwKr[0].mean() * 1.5\n",
    "DwKr[0][DwKr[0].mean() * 0.5 >= DwKr[0]] = DwKr[0].mean() * 0.5\n",
    "DwKr[0][torch.isinf(DwKr[0])] = 0.0\n",
    "n, bins, patches = plt.hist(DwKr[0].cpu())\n",
    "plt.show()"
   ]
  },
  {
   "cell_type": "code",
   "execution_count": 30,
   "metadata": {},
   "outputs": [
    {
     "data": {
      "application/vnd.jupyter.widget-view+json": {
       "model_id": "48bc2f3edf7f44b0bae344738932b4ee",
       "version_major": 2,
       "version_minor": 0
      },
      "text/plain": [
       "Renderer(camera=PerspectiveCamera(children=(DirectionalLight(color='white', intensity=0.6, position=(0.1351746…"
      ]
     },
     "metadata": {},
     "output_type": "display_data"
    },
    {
     "data": {
      "text/plain": [
       "<meshplot.Viewer.Viewer at 0x7fa34b523c18>"
      ]
     },
     "execution_count": 30,
     "metadata": {},
     "output_type": "execute_result"
    }
   ],
   "source": [
    "mp.plot(mesh.vertices.numpy(), mesh.faces.numpy(), c=(k2 * k1).to(device=torch.device('cpu')).numpy(),\n",
    "            shading={'colormap': \"jet\"})"
   ]
  },
  {
   "cell_type": "code",
   "execution_count": 87,
   "metadata": {},
   "outputs": [
    {
     "data": {
      "application/vnd.jupyter.widget-view+json": {
       "model_id": "1d3dcb65744849ac92660d47c7a20318",
       "version_major": 2,
       "version_minor": 0
      },
      "text/plain": [
       "Renderer(camera=PerspectiveCamera(children=(DirectionalLight(color='white', intensity=0.6, position=(0.1351746…"
      ]
     },
     "metadata": {},
     "output_type": "display_data"
    },
    {
     "data": {
      "text/plain": [
       "<meshplot.Viewer.Viewer at 0x7f60663e92e8>"
      ]
     },
     "execution_count": 87,
     "metadata": {},
     "output_type": "execute_result"
    }
   ],
   "source": [
    "mp.plot(mesh.vertices.numpy(), mesh.faces.numpy(), c=k1.to(device=torch.device('cpu')).numpy(),\n",
    "            shading={'colormap': \"jet\"})"
   ]
  },
  {
   "cell_type": "code",
   "execution_count": 122,
   "metadata": {},
   "outputs": [],
   "source": [
    "import shared_algs\n",
    "importlib.reload(shared_algs)\n",
    "ndotv, krf, viewdir, sctest_num, _ = shared_algs.compute_perview(mesh, normals=normals, curvs=(k1,k2,e1,e2),\n",
    "                                                                 dcurv=dc, view_coords=view_coords[3])\n",
    "w = viewdir - normals * ndotv[:,None]"
   ]
  },
  {
   "cell_type": "code",
   "execution_count": 123,
   "metadata": {},
   "outputs": [
    {
     "name": "stdout",
     "output_type": "stream",
     "text": [
      "tensor(-143.9539, device='cuda:0')\n",
      "tensor(154.6957, device='cuda:0')\n",
      "tensor(1.7263, device='cuda:0')\n"
     ]
    },
    {
     "data": {
      "application/vnd.jupyter.widget-view+json": {
       "model_id": "9d1ffcdc39c64752b4925b3c4b00625d",
       "version_major": 2,
       "version_minor": 0
      },
      "text/plain": [
       "Renderer(camera=PerspectiveCamera(children=(DirectionalLight(color='white', intensity=0.6, position=(0.1351746…"
      ]
     },
     "metadata": {},
     "output_type": "display_data"
    },
    {
     "data": {
      "text/plain": [
       "<meshplot.Viewer.Viewer at 0x7fd946c2b4a8>"
      ]
     },
     "execution_count": 123,
     "metadata": {},
     "output_type": "execute_result"
    }
   ],
   "source": [
    "scupper = sctest_num.mean() + abs(sctest_num.mean() * 3)\n",
    "sclower = sctest_num.mean() - abs(sctest_num.mean() * 3)\n",
    "kupper = int(sctest_num.shape[0] * 0.9)\n",
    "klower = int(sctest_num.shape[0] * 0.1)\n",
    "scupper, _ = torch.kthvalue(sctest_num, kupper)\n",
    "sclower, _ = torch.kthvalue(sctest_num, klower)\n",
    "sctest_num[sctest_num > scupper] = scupper\n",
    "sctest_num[sctest_num < sclower] = sclower\n",
    "print(sctest_num.min())\n",
    "print(sctest_num.max())\n",
    "print(sctest_num.mean())\n",
    "mp.plot(mesh.vertices.numpy(), mesh.faces.numpy(), c=sctest_num.to(device=torch.device('cpu')).numpy(),\n",
    "        shading={'colormap': \"jet_r\"})"
   ]
  },
  {
   "cell_type": "code",
   "execution_count": 114,
   "metadata": {},
   "outputs": [
    {
     "data": {
      "application/vnd.jupyter.widget-view+json": {
       "model_id": "67ffc1215eae468495d907731fd0a836",
       "version_major": 2,
       "version_minor": 0
      },
      "text/plain": [
       "Renderer(camera=PerspectiveCamera(children=(DirectionalLight(color='white', intensity=0.6, position=(0.1351746…"
      ]
     },
     "metadata": {},
     "output_type": "display_data"
    }
   ],
   "source": [
    "for i in range(3, 4):\n",
    "    kupper = int(DwKr[i].shape[0] * 0.9)\n",
    "    klower = int(DwKr[i].shape[0] * 0.1)\n",
    "    dwupper, _ = torch.kthvalue(DwKr[i], kupper)\n",
    "    dwlower, _ = torch.kthvalue(DwKr[i], klower)\n",
    "    DwKr[i][DwKr[i] > dwupper] = dwupper\n",
    "    DwKr[i][DwKr[i] < dwlower] = dwlower\n",
    "    mp.plot(mesh.vertices.numpy(), mesh.faces.numpy(), c=DwKr[i].to(device=torch.device('cpu')).numpy(),\n",
    "            shading={'colormap': \"jet\"})"
   ]
  },
  {
   "cell_type": "code",
   "execution_count": 115,
   "metadata": {},
   "outputs": [
    {
     "data": {
      "application/vnd.jupyter.widget-view+json": {
       "model_id": "9744d0f455a142e7ace378378935a47d",
       "version_major": 2,
       "version_minor": 0
      },
      "text/plain": [
       "Renderer(camera=PerspectiveCamera(children=(DirectionalLight(color='white', intensity=0.6, position=(0.1351746…"
      ]
     },
     "metadata": {},
     "output_type": "display_data"
    }
   ],
   "source": [
    "for i in range(3, 4):\n",
    "    kupper = int(kr[i].shape[0] * 0.9)\n",
    "    klower = int(kr[i].shape[0] * 0.1)\n",
    "    krupper, _ = torch.kthvalue(kr[i], kupper)\n",
    "    krlower, _ = torch.kthvalue(kr[i], klower)\n",
    "    kr[i][kr[i] > krupper] = krupper\n",
    "    mp.plot(mesh.vertices.numpy(), mesh.faces.numpy(), c=kr[i].to(device=torch.device('cpu')).numpy(),\n",
    "            shading={'colormap': \"jet\"})"
   ]
  },
  {
   "cell_type": "code",
   "execution_count": 33,
   "metadata": {},
   "outputs": [
    {
     "data": {
      "text/plain": [
       "tensor(4.8217, device='cuda:0')"
      ]
     },
     "execution_count": 33,
     "metadata": {},
     "output_type": "execute_result"
    }
   ],
   "source": [
    "kr[2].max()"
   ]
  },
  {
   "cell_type": "code",
   "execution_count": 11,
   "metadata": {},
   "outputs": [
    {
     "data": {
      "text/plain": [
       "tensor([[ 2.0000e+00,  0.0000e+00,  0.0000e+00],\n",
       "        [ 1.7321e+00,  0.0000e+00,  1.0000e+00],\n",
       "        [ 1.0000e+00,  0.0000e+00,  1.7321e+00],\n",
       "        [ 1.2246e-16,  0.0000e+00,  2.0000e+00],\n",
       "        [-1.0000e+00,  0.0000e+00,  1.7321e+00],\n",
       "        [-1.7321e+00,  0.0000e+00,  1.0000e+00],\n",
       "        [-2.0000e+00,  0.0000e+00,  2.4493e-16],\n",
       "        [-1.7321e+00,  0.0000e+00, -1.0000e+00],\n",
       "        [-1.0000e+00,  0.0000e+00, -1.7321e+00],\n",
       "        [-3.6739e-16,  0.0000e+00, -2.0000e+00],\n",
       "        [ 1.0000e+00,  0.0000e+00, -1.7321e+00],\n",
       "        [ 1.7321e+00,  0.0000e+00, -1.0000e+00]], device='cuda:0')"
      ]
     },
     "execution_count": 11,
     "metadata": {},
     "output_type": "execute_result"
    }
   ],
   "source": [
    "view_coords"
   ]
  },
  {
   "cell_type": "code",
   "execution_count": 9,
   "metadata": {},
   "outputs": [
    {
     "data": {
      "application/vnd.jupyter.widget-view+json": {
       "model_id": "57fe2bb718ad4042a5a8cf0688763f0f",
       "version_major": 2,
       "version_minor": 0
      },
      "text/plain": [
       "Renderer(camera=PerspectiveCamera(children=(DirectionalLight(color='white', intensity=0.6, position=(0.1172533…"
      ]
     },
     "metadata": {},
     "output_type": "display_data"
    },
    {
     "data": {
      "text/plain": [
       "<meshplot.Viewer.Viewer at 0x7f3f32a39d68>"
      ]
     },
     "execution_count": 9,
     "metadata": {},
     "output_type": "execute_result"
    }
   ],
   "source": [
    "mp.plot(mesh.vertices.numpy(), mesh.faces.numpy(), c=mesh.vertices[:,1].to(device=torch.device('cpu')).numpy(),\n",
    "        shading={'colormap': \"jet\"})"
   ]
  },
  {
   "cell_type": "code",
   "execution_count": null,
   "metadata": {},
   "outputs": [],
   "source": []
  }
 ],
 "metadata": {
  "kernelspec": {
   "display_name": "Python 3",
   "language": "python",
   "name": "python3"
  },
  "language_info": {
   "codemirror_mode": {
    "name": "ipython",
    "version": 3
   },
   "file_extension": ".py",
   "mimetype": "text/x-python",
   "name": "python",
   "nbconvert_exporter": "python",
   "pygments_lexer": "ipython3",
   "version": "3.6.12"
  }
 },
 "nbformat": 4,
 "nbformat_minor": 4
}
