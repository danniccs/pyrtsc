{
 "cells": [
  {
   "cell_type": "code",
   "execution_count": 15,
   "metadata": {},
   "outputs": [],
   "source": [
    "import normals_lib\n",
    "import pointareas\n",
    "import kaolin as kal\n",
    "import torch\n",
    "import numpy as np\n",
    "import meshplot as mp\n",
    "\n",
    "#mesh = kal.rep.TriangleMesh.from_obj(\"model.obj\") # Modelo de una esfera\n",
    "#mesh = kal.rep.TriangleMesh.from_obj(\"cow.obj\") # Modelo de vaca\n",
    "mesh = kal.rep.TriangleMesh.from_obj(\"torus.obj\")\n",
    "#mesh = kal.rep.TriangleMesh.from_obj(\"simplified_bunny.obj\")"
   ]
  },
  {
   "cell_type": "code",
   "execution_count": 16,
   "metadata": {},
   "outputs": [],
   "source": [
    "view_coords = torch.load(\"view_coordinates.pt\").to(device=torch.device('cuda'))\n",
    "verts = mesh.vertices.clone()\n",
    "xmed = torch.median(verts[:,0])\n",
    "ymed = torch.median(verts[:,1])\n",
    "zmed = torch.median(verts[:,2])\n",
    "verts[:,0] -= xmed\n",
    "verts[:,1] -= ymed\n",
    "verts[:,2] -= zmed\n",
    "verts /= torch.max(torch.norm(verts, dim=1))\n",
    "mesh.vertices = verts"
   ]
  },
  {
   "cell_type": "code",
   "execution_count": 17,
   "metadata": {},
   "outputs": [
    {
     "data": {
      "application/vnd.jupyter.widget-view+json": {
       "model_id": "68cdddfb8ee0409ab1df0ccfd112529d",
       "version_major": 2,
       "version_minor": 0
      },
      "text/plain": [
       "Renderer(camera=PerspectiveCamera(children=(DirectionalLight(color='white', intensity=0.6, position=(0.0, 0.0,…"
      ]
     },
     "metadata": {},
     "output_type": "display_data"
    }
   ],
   "source": [
    "normals = normals_lib.compute_simple_vertex_normals(mesh).to(device=torch.device('cpu'))\n",
    "pointareas, cornerareas = pointareas.compute_pointareas(mesh)\n",
    "normals_lib.visualize_normals(mesh, normals)\n",
    "normals = normals.to(device=torch.device('cuda'))"
   ]
  },
  {
   "cell_type": "code",
   "execution_count": 47,
   "metadata": {},
   "outputs": [],
   "source": [
    "# Calculate principal curvatures and curvature directions\n",
    "import curvature\n",
    "import importlib\n",
    "\n",
    "importlib.reload(curvature)\n",
    "\n",
    "k1, k2, e1, e2 = curvature.compute_curvatures(mesh, normals=normals, pointareas=pointareas,\n",
    "                                              cornerareas=cornerareas)"
   ]
  },
  {
   "cell_type": "code",
   "execution_count": 27,
   "metadata": {},
   "outputs": [],
   "source": [
    "import dcurv\n",
    "\n",
    "dc = dcurv.compute_dcurvs(mesh, curvs=(k1,k2,e1,e2), normals=normals, pointareas=pointareas,\n",
    "                          cornerareas=cornerareas)"
   ]
  },
  {
   "cell_type": "code",
   "execution_count": 25,
   "metadata": {},
   "outputs": [
    {
     "data": {
      "text/plain": [
       "<module 'dcurv' from '/home/danniccs/rtsc_to_torch/dcurv.py'>"
      ]
     },
     "execution_count": 25,
     "metadata": {},
     "output_type": "execute_result"
    }
   ],
   "source": [
    "importlib.reload(dcurv)"
   ]
  },
  {
   "cell_type": "code",
   "execution_count": 28,
   "metadata": {},
   "outputs": [],
   "source": [
    "DwKr = torch.zeros(12, mesh.vertices.shape[0]).to(device=torch.device('cuda'))\n",
    "kr = torch.zeros(12, mesh.vertices.shape[0]).to(device=torch.device('cuda'))\n",
    "for i in range(0, 12):\n",
    "    DwKr[i], kr[i] = dcurv.compute_DwKr(mesh, normals=normals, curvs=(k1,k2,e1,e2), dcurv=dc,\n",
    "                                        view_coords=view_coords[i])"
   ]
  },
  {
   "cell_type": "code",
   "execution_count": null,
   "metadata": {},
   "outputs": [],
   "source": [
    "import matplotlib\n",
    "matplotlib.use('TkAgg')\n",
    "plt = matplotlib.pyplot\n",
    "n, bins, patches = plt.hist(DwKr[0].cpu())\n",
    "plt.show()"
   ]
  },
  {
   "cell_type": "code",
   "execution_count": 29,
   "metadata": {},
   "outputs": [
    {
     "data": {
      "application/vnd.jupyter.widget-view+json": {
       "model_id": "a093144edf1849b89593dd585cba9f17",
       "version_major": 2,
       "version_minor": 0
      },
      "text/plain": [
       "Renderer(camera=PerspectiveCamera(children=(DirectionalLight(color='white', intensity=0.6, position=(0.0, 0.0,…"
      ]
     },
     "metadata": {},
     "output_type": "display_data"
    }
   ],
   "source": [
    "for i in range(3, 4):\n",
    "    kupper = int(DwKr[i].shape[0] * 0.9)\n",
    "    klower = int(DwKr[i].shape[0] * 0.1)\n",
    "    dwupper, _ = torch.kthvalue(DwKr[i], kupper)\n",
    "    dwlower, _ = torch.kthvalue(DwKr[i], klower)\n",
    "    DwKr[i][DwKr[i] > dwupper] = dwupper\n",
    "    DwKr[i][DwKr[i] < dwlower] = dwlower\n",
    "    mp.plot(mesh.vertices.numpy(), mesh.faces.numpy(), c=DwKr[i].to(device=torch.device('cpu')).numpy(),\n",
    "            shading={'colormap': \"jet_r\"})"
   ]
  },
  {
   "cell_type": "code",
   "execution_count": 47,
   "metadata": {},
   "outputs": [],
   "source": [
    "tridc = torch.zeros(dc.shape)\n",
    "with open(\"/home/danniccs/rtsc-1.6/dcurv\", \"r\") as myfile:\n",
    "    for i in range(0, dc.shape[0]):\n",
    "        l = myfile.readline()\n",
    "        tridc[i] = torch.tensor([float(n) for n in l[1:-2].split(',')])\n",
    "DwKrtri, krtri = dcurv.compute_DwKr(mesh, normals=normals, curvs=(k1,k2,e1,e2), dcurv=tridc.to(device=torch.device('cuda')))"
   ]
  },
  {
   "cell_type": "code",
   "execution_count": 55,
   "metadata": {},
   "outputs": [
    {
     "name": "stdout",
     "output_type": "stream",
     "text": [
      "tensor(4.8505, device='cuda:0')\n",
      "tensor(3.7923, device='cuda:0')\n"
     ]
    }
   ],
   "source": [
    "trie1 = torch.zeros(e1.shape).cuda()\n",
    "trik1 = torch.zeros(k1.shape).cuda()\n",
    "with open(\"/home/danniccs/rtsc-1.6/pdir1\", \"r\") as myfile:\n",
    "    for i in range(0, e1.shape[0]):\n",
    "        l = myfile.readline()\n",
    "        trie1[i] = torch.tensor([float(n) for n in l[1:-2].split(',')])\n",
    "\n",
    "with open(\"/home/danniccs/rtsc-1.6/k1curv\", \"r\") as myfile:\n",
    "    for i in range(0, k1.shape[0]):\n",
    "        l = myfile.readline()[:-1]\n",
    "        trik1[i] = float(l)\n",
    "\n",
    "print(k1.max())\n",
    "print(trik1.max())"
   ]
  },
  {
   "cell_type": "code",
   "execution_count": 51,
   "metadata": {},
   "outputs": [
    {
     "data": {
      "application/vnd.jupyter.widget-view+json": {
       "model_id": "e9f067e96e7640738e07a8f1ff887784",
       "version_major": 2,
       "version_minor": 0
      },
      "text/plain": [
       "Renderer(camera=PerspectiveCamera(children=(DirectionalLight(color='white', intensity=0.6, position=(0.0, 0.0,…"
      ]
     },
     "metadata": {},
     "output_type": "display_data"
    },
    {
     "data": {
      "text/plain": [
       "<meshplot.Viewer.Viewer at 0x7f4033b16630>"
      ]
     },
     "execution_count": 51,
     "metadata": {},
     "output_type": "execute_result"
    }
   ],
   "source": [
    "mp.plot(mesh.vertices.numpy(), mesh.faces.numpy(), c=trik1.to(device=torch.device('cpu')).numpy())\n",
    "        #shading={'colormap': \"jet\"})"
   ]
  },
  {
   "cell_type": "code",
   "execution_count": 52,
   "metadata": {},
   "outputs": [
    {
     "data": {
      "application/vnd.jupyter.widget-view+json": {
       "model_id": "acbb54fdd8d64c5c8d7f100f450e7e5f",
       "version_major": 2,
       "version_minor": 0
      },
      "text/plain": [
       "Renderer(camera=PerspectiveCamera(children=(DirectionalLight(color='white', intensity=0.6, position=(0.0, 0.0,…"
      ]
     },
     "metadata": {},
     "output_type": "display_data"
    },
    {
     "data": {
      "text/plain": [
       "<meshplot.Viewer.Viewer at 0x7f4033ac04a8>"
      ]
     },
     "execution_count": 52,
     "metadata": {},
     "output_type": "execute_result"
    }
   ],
   "source": [
    "mp.plot(mesh.vertices.numpy(), mesh.faces.numpy(), c=k1.to(device=torch.device('cpu')).numpy())"
   ]
  },
  {
   "cell_type": "code",
   "execution_count": 31,
   "metadata": {},
   "outputs": [
    {
     "data": {
      "application/vnd.jupyter.widget-view+json": {
       "model_id": "c382f1651daf41b9804f12939e4d9491",
       "version_major": 2,
       "version_minor": 0
      },
      "text/plain": [
       "Renderer(camera=PerspectiveCamera(children=(DirectionalLight(color='white', intensity=0.6, position=(0.0, 0.0,…"
      ]
     },
     "metadata": {},
     "output_type": "display_data"
    },
    {
     "data": {
      "text/plain": [
       "<meshplot.Viewer.Viewer at 0x7f4059658390>"
      ]
     },
     "execution_count": 31,
     "metadata": {},
     "output_type": "execute_result"
    }
   ],
   "source": [
    "mp.plot(mesh.vertices.numpy(), mesh.faces.numpy(), c=k2.to(device=torch.device('cpu')).numpy(),\n",
    "            shading={'colormap': \"jet\"})"
   ]
  },
  {
   "cell_type": "code",
   "execution_count": 35,
   "metadata": {},
   "outputs": [],
   "source": [
    "import shared_algs\n",
    "importlib.reload(shared_algs)\n",
    "ndotv = torch.zeros(12, mesh.vertices.shape[0]).to(device=torch.device('cuda'))\n",
    "krf = torch.zeros(12, mesh.vertices.shape[0]).to(device=torch.device('cuda'))\n",
    "sctest_num = torch.zeros(12, mesh.vertices.shape[0]).to(device=torch.device('cuda'))\n",
    "\n",
    "for i in range(0, 12):\n",
    "    ndotv[i], krf[i], _, sctest_num[i], _ = shared_algs.compute_perview(mesh, normals=normals, curvs=(k1,k2,e1,e2),\n",
    "                                                                        dcurv=dc, view_coords=view_coords[i])"
   ]
  },
  {
   "cell_type": "code",
   "execution_count": 36,
   "metadata": {},
   "outputs": [
    {
     "data": {
      "application/vnd.jupyter.widget-view+json": {
       "model_id": "960ad9b01a8d417285f71e0a98dc136b",
       "version_major": 2,
       "version_minor": 0
      },
      "text/plain": [
       "Renderer(camera=PerspectiveCamera(children=(DirectionalLight(color='white', intensity=0.6, position=(0.0, 0.0,…"
      ]
     },
     "metadata": {},
     "output_type": "display_data"
    }
   ],
   "source": [
    "for i in range(3, 4):\n",
    "    kupper = int(sctest_num[i].shape[0] * 0.9)\n",
    "    klower = int(sctest_num[i].shape[0] * 0.1)\n",
    "    scupper, _ = torch.kthvalue(sctest_num[i], kupper)\n",
    "    sclower, _ = torch.kthvalue(sctest_num[i], klower)\n",
    "    sctest_num[i][sctest_num[i] > scupper] = scupper\n",
    "    sctest_num[i][sctest_num[i] < sclower] = sclower\n",
    "    mp.plot(mesh.vertices.numpy(), mesh.faces.numpy(), c=sctest_num[i].to(device=torch.device('cpu')).numpy(),\n",
    "            shading={'colormap': \"jet_r\"})"
   ]
  },
  {
   "cell_type": "code",
   "execution_count": 115,
   "metadata": {},
   "outputs": [
    {
     "data": {
      "application/vnd.jupyter.widget-view+json": {
       "model_id": "9744d0f455a142e7ace378378935a47d",
       "version_major": 2,
       "version_minor": 0
      },
      "text/plain": [
       "Renderer(camera=PerspectiveCamera(children=(DirectionalLight(color='white', intensity=0.6, position=(0.1351746…"
      ]
     },
     "metadata": {},
     "output_type": "display_data"
    }
   ],
   "source": [
    "for i in range(3, 4):\n",
    "    kupper = int(kr[i].shape[0] * 0.9)\n",
    "    klower = int(kr[i].shape[0] * 0.1)\n",
    "    krupper, _ = torch.kthvalue(kr[i], kupper)\n",
    "    krlower, _ = torch.kthvalue(kr[i], klower)\n",
    "    kr[i][kr[i] > krupper] = krupper\n",
    "    mp.plot(mesh.vertices.numpy(), mesh.faces.numpy(), c=kr[i].to(device=torch.device('cpu')).numpy(),\n",
    "            shading={'colormap': \"jet\"})"
   ]
  },
  {
   "cell_type": "code",
   "execution_count": 33,
   "metadata": {},
   "outputs": [
    {
     "data": {
      "text/plain": [
       "tensor(4.8217, device='cuda:0')"
      ]
     },
     "execution_count": 33,
     "metadata": {},
     "output_type": "execute_result"
    }
   ],
   "source": [
    "kr[2].max()"
   ]
  },
  {
   "cell_type": "code",
   "execution_count": 11,
   "metadata": {},
   "outputs": [
    {
     "data": {
      "text/plain": [
       "tensor([[ 2.0000e+00,  0.0000e+00,  0.0000e+00],\n",
       "        [ 1.7321e+00,  0.0000e+00,  1.0000e+00],\n",
       "        [ 1.0000e+00,  0.0000e+00,  1.7321e+00],\n",
       "        [ 1.2246e-16,  0.0000e+00,  2.0000e+00],\n",
       "        [-1.0000e+00,  0.0000e+00,  1.7321e+00],\n",
       "        [-1.7321e+00,  0.0000e+00,  1.0000e+00],\n",
       "        [-2.0000e+00,  0.0000e+00,  2.4493e-16],\n",
       "        [-1.7321e+00,  0.0000e+00, -1.0000e+00],\n",
       "        [-1.0000e+00,  0.0000e+00, -1.7321e+00],\n",
       "        [-3.6739e-16,  0.0000e+00, -2.0000e+00],\n",
       "        [ 1.0000e+00,  0.0000e+00, -1.7321e+00],\n",
       "        [ 1.7321e+00,  0.0000e+00, -1.0000e+00]], device='cuda:0')"
      ]
     },
     "execution_count": 11,
     "metadata": {},
     "output_type": "execute_result"
    }
   ],
   "source": [
    "view_coords"
   ]
  },
  {
   "cell_type": "code",
   "execution_count": 9,
   "metadata": {},
   "outputs": [
    {
     "data": {
      "application/vnd.jupyter.widget-view+json": {
       "model_id": "57fe2bb718ad4042a5a8cf0688763f0f",
       "version_major": 2,
       "version_minor": 0
      },
      "text/plain": [
       "Renderer(camera=PerspectiveCamera(children=(DirectionalLight(color='white', intensity=0.6, position=(0.1172533…"
      ]
     },
     "metadata": {},
     "output_type": "display_data"
    },
    {
     "data": {
      "text/plain": [
       "<meshplot.Viewer.Viewer at 0x7f3f32a39d68>"
      ]
     },
     "execution_count": 9,
     "metadata": {},
     "output_type": "execute_result"
    }
   ],
   "source": [
    "mp.plot(mesh.vertices.numpy(), mesh.faces.numpy(), c=mesh.vertices[:,1].to(device=torch.device('cpu')).numpy(),\n",
    "        shading={'colormap': \"jet\"})"
   ]
  },
  {
   "cell_type": "code",
   "execution_count": null,
   "metadata": {},
   "outputs": [],
   "source": []
  }
 ],
 "metadata": {
  "kernelspec": {
   "display_name": "Python 3",
   "language": "python",
   "name": "python3"
  },
  "language_info": {
   "codemirror_mode": {
    "name": "ipython",
    "version": 3
   },
   "file_extension": ".py",
   "mimetype": "text/x-python",
   "name": "python",
   "nbconvert_exporter": "python",
   "pygments_lexer": "ipython3",
   "version": "3.6.12"
  }
 },
 "nbformat": 4,
 "nbformat_minor": 4
}
