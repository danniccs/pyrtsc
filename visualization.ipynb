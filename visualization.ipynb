{
 "cells": [
  {
   "cell_type": "code",
   "execution_count": 1,
   "metadata": {},
   "outputs": [],
   "source": [
    "import normals_lib\n",
    "import pointareas\n",
    "import kaolin as kal\n",
    "import torch\n",
    "import numpy as np\n",
    "import meshplot as mp\n",
    "\n",
    "#mesh = kal.rep.TriangleMesh.from_obj(\"model.obj\") # Modelo de una esfera\n",
    "#mesh = kal.rep.TriangleMesh.from_obj(\"cow.obj\") # Modelo de vaca\n",
    "#mesh = kal.rep.TriangleMesh.from_obj(\"torus.obj\")\n",
    "mesh = kal.rep.TriangleMesh.from_obj(\"simplified_bunny.obj\")"
   ]
  },
  {
   "cell_type": "code",
   "execution_count": 2,
   "metadata": {},
   "outputs": [],
   "source": [
    "view_coords = torch.load(\"view_coordinates.pt\").to(device=torch.device('cuda'))\n",
    "verts = mesh.vertices.clone()\n",
    "xmed = torch.median(verts[:,0])\n",
    "ymed = torch.median(verts[:,1])\n",
    "zmed = torch.median(verts[:,2])\n",
    "verts[:,0] -= xmed\n",
    "verts[:,1] -= ymed\n",
    "verts[:,2] -= zmed\n",
    "verts /= torch.max(torch.norm(verts, dim=1))\n",
    "mesh.vertices = verts"
   ]
  },
  {
   "cell_type": "code",
   "execution_count": 3,
   "metadata": {},
   "outputs": [
    {
     "data": {
      "application/vnd.jupyter.widget-view+json": {
       "model_id": "bb162f85f2134bdda0c427b7629bd195",
       "version_major": 2,
       "version_minor": 0
      },
      "text/plain": [
       "Renderer(camera=PerspectiveCamera(children=(DirectionalLight(color='white', intensity=0.6, position=(0.1351746…"
      ]
     },
     "metadata": {},
     "output_type": "display_data"
    }
   ],
   "source": [
    "normals = normals_lib.compute_simple_vertex_normals(mesh).cpu()\n",
    "pointareas, cornerareas = pointareas.compute_pointareas(mesh)\n",
    "normals_lib.visualize_normals(mesh, normals)\n",
    "normals = normals.to(device=torch.device('cuda'))"
   ]
  },
  {
   "cell_type": "code",
   "execution_count": 4,
   "metadata": {},
   "outputs": [],
   "source": [
    "# Calculate principal curvatures and curvature directions\n",
    "import curvature\n",
    "import importlib\n",
    "\n",
    "importlib.reload(curvature)\n",
    "\n",
    "k1, k2, e1, e2 = curvature.compute_curvatures(mesh, normals=normals, pointareas=pointareas,\n",
    "                                              cornerareas=cornerareas)"
   ]
  },
  {
   "cell_type": "code",
   "execution_count": 5,
   "metadata": {},
   "outputs": [],
   "source": [
    "import dcurv\n",
    "\n",
    "dc = dcurv.compute_dcurvs(mesh, curvs=(k1,k2,e1,e2), normals=normals, pointareas=pointareas,\n",
    "                          cornerareas=cornerareas)"
   ]
  },
  {
   "cell_type": "code",
   "execution_count": 80,
   "metadata": {},
   "outputs": [
    {
     "data": {
      "text/plain": [
       "<module 'dcurv' from '/home/danniccs/rtsc_to_torch/dcurv.py'>"
      ]
     },
     "execution_count": 80,
     "metadata": {},
     "output_type": "execute_result"
    }
   ],
   "source": [
    "importlib.reload(dcurv)"
   ]
  },
  {
   "cell_type": "code",
   "execution_count": 52,
   "metadata": {},
   "outputs": [],
   "source": [
    "DwKr = torch.zeros(12, mesh.vertices.shape[0]).to(device=torch.device('cuda'))\n",
    "kr = torch.zeros(12, mesh.vertices.shape[0]).to(device=torch.device('cuda'))\n",
    "for i in range(0, 12):\n",
    "    DwKr[i], kr[i] = dcurv.compute_DwKr(mesh, normals=normals, curvs=(k1,k2,e1,e2), dcurv=dc,\n",
    "                                        view_coords=view_coords[i])\n",
    "    kupper = int(DwKr[i].shape[0] * 0.9)\n",
    "    klower = int(DwKr[i].shape[0] * 0.1)\n",
    "    dwupper, _ = torch.kthvalue(DwKr[i], kupper)\n",
    "    dwlower, _ = torch.kthvalue(DwKr[i], klower)\n",
    "    DwKr[i][DwKr[i] > dwupper] = dwupper\n",
    "    DwKr[i][DwKr[i] < dwlower] = dwlower\n",
    "    kupper = int(kr[i].shape[0] * 0.9)\n",
    "    klower = int(kr[i].shape[0] * 0.1)\n",
    "    krupper, _ = torch.kthvalue(kr[i], kupper)\n",
    "    krlower, _ = torch.kthvalue(kr[i], klower)\n",
    "    #kr[i][kr[i] > krupper] = krupper\n",
    "    #kr[i][kr[i] < krlower] = krlower"
   ]
  },
  {
   "cell_type": "code",
   "execution_count": 81,
   "metadata": {},
   "outputs": [],
   "source": [
    "DwKr_alt = torch.zeros(12, mesh.vertices.shape[0]).to(device=torch.device('cuda'))\n",
    "kr_alt = torch.zeros(12, mesh.vertices.shape[0]).to(device=torch.device('cuda'))\n",
    "for i in range(0, 12):\n",
    "    DwKr_alt[i], kr_alt[i] = dcurv.compute_DwKr_alt(mesh, normals=normals, curvs=(k1,k2,e1,e2), dcurv=dc,\n",
    "                                                    view_coords=view_coords[i])\n",
    "    kupper = int(DwKr_alt[i].shape[0] * 0.9)\n",
    "    klower = int(DwKr_alt[i].shape[0] * 0.1)\n",
    "    dwupper, _ = torch.kthvalue(DwKr_alt[i], kupper)\n",
    "    dwlower, _ = torch.kthvalue(DwKr_alt[i], klower)\n",
    "    DwKr_alt[i][DwKr_alt[i] > dwupper] = dwupper\n",
    "    DwKr_alt[i][DwKr_alt[i] < dwlower] = dwlower\n",
    "    kupper = int(kr_alt[i].shape[0] * 0.9)\n",
    "    klower = int(kr_alt[i].shape[0] * 0.1)\n",
    "    krupper, _ = torch.kthvalue(kr_alt[i], kupper)\n",
    "    krlower, _ = torch.kthvalue(kr_alt[i], klower)\n",
    "    #kr_alt[i][kr_alt[i] > krupper] = krupper\n",
    "    #kr_alt[i][kr_alt[i] < krlower] = krlower"
   ]
  },
  {
   "cell_type": "code",
   "execution_count": 55,
   "metadata": {},
   "outputs": [],
   "source": [
    "import shared_algs\n",
    "importlib.reload(shared_algs)\n",
    "ndotv = torch.zeros(12, mesh.vertices.shape[0]).to(device=torch.device('cuda'))\n",
    "krf = torch.zeros(12, mesh.vertices.shape[0]).to(device=torch.device('cuda'))\n",
    "sctest_num = torch.zeros(12, mesh.vertices.shape[0]).to(device=torch.device('cuda'))\n",
    "\n",
    "for i in range(0, 12):\n",
    "    ndotv[i], krf[i], _, sctest_num[i], _ = shared_algs.compute_perview(mesh, normals=normals, curvs=(k1,k2,e1,e2),\n",
    "                                                                        dcurv=dc, view_coords=view_coords[i])\n",
    "    kupper = int(sctest_num[i].shape[0] * 0.9)\n",
    "    klower = int(sctest_num[i].shape[0] * 0.1)\n",
    "    scupper, _ = torch.kthvalue(sctest_num[i], kupper)\n",
    "    sclower, _ = torch.kthvalue(sctest_num[i], klower)\n",
    "    sctest_num[i][sctest_num[i] > scupper] = scupper\n",
    "    sctest_num[i][sctest_num[i] < sclower] = sclower"
   ]
  },
  {
   "cell_type": "code",
   "execution_count": 84,
   "metadata": {},
   "outputs": [
    {
     "data": {
      "application/vnd.jupyter.widget-view+json": {
       "model_id": "0ac37a8a7c684bd38722ab4fca7e36cf",
       "version_major": 2,
       "version_minor": 0
      },
      "text/plain": [
       "HBox(children=(Output(), Output()))"
      ]
     },
     "metadata": {},
     "output_type": "display_data"
    },
    {
     "data": {
      "application/vnd.jupyter.widget-view+json": {
       "model_id": "44d7a58531cc4f22bf4f966aa9621838",
       "version_major": 2,
       "version_minor": 0
      },
      "text/plain": [
       "HBox(children=(Output(), Output()))"
      ]
     },
     "metadata": {},
     "output_type": "display_data"
    }
   ],
   "source": [
    "d = mp.subplot(mesh.vertices.numpy(), mesh.faces.numpy(), c=DwKr[0].to(device=torch.device('cpu')).numpy(),\n",
    "            shading={'colormap': \"jet_r\"}, s=[2,2,0])\n",
    "mp.subplot(mesh.vertices.numpy(), mesh.faces.numpy(), c=DwKr_alt[0].to(device=torch.device('cpu')).numpy(),\n",
    "            shading={'colormap': \"jet_r\"}, s=[2,2,1], data=d)\n",
    "mp.subplot(mesh.vertices.numpy(), mesh.faces.numpy(), c=sctest_num[0].to(device=torch.device('cpu')).numpy(),\n",
    "            shading={'colormap': \"jet_r\"}, s=[2,2,2], data=d)\n",
    "mp.subplot(mesh.vertices.numpy(), mesh.faces.numpy(), c=kr[0].to(device=torch.device('cpu')).numpy(),\n",
    "            shading={'colormap': \"jet_r\"}, s=[2,2,3], data=d)"
   ]
  },
  {
   "cell_type": "code",
   "execution_count": 85,
   "metadata": {},
   "outputs": [
    {
     "data": {
      "application/vnd.jupyter.widget-view+json": {
       "model_id": "98e9b6a66c5d4a7aaac70d8b45a10c9e",
       "version_major": 2,
       "version_minor": 0
      },
      "text/plain": [
       "HBox(children=(Output(), Output()))"
      ]
     },
     "metadata": {},
     "output_type": "display_data"
    },
    {
     "data": {
      "application/vnd.jupyter.widget-view+json": {
       "model_id": "e80373d85fe9451e927a241c540a4ba7",
       "version_major": 2,
       "version_minor": 0
      },
      "text/plain": [
       "HBox(children=(Output(), Output()))"
      ]
     },
     "metadata": {},
     "output_type": "display_data"
    }
   ],
   "source": [
    "d = mp.subplot(mesh.vertices.numpy(), mesh.faces.numpy(), c=DwKr[1].to(device=torch.device('cpu')).numpy(),\n",
    "            shading={'colormap': \"jet_r\"}, s=[2,2,0])\n",
    "mp.subplot(mesh.vertices.numpy(), mesh.faces.numpy(), c=DwKr_alt[1].to(device=torch.device('cpu')).numpy(),\n",
    "            shading={'colormap': \"jet_r\"}, s=[2,2,1], data=d)\n",
    "mp.subplot(mesh.vertices.numpy(), mesh.faces.numpy(), c=sctest_num[1].to(device=torch.device('cpu')).numpy(),\n",
    "            shading={'colormap': \"jet_r\"}, s=[2,2,2], data=d)\n",
    "mp.subplot(mesh.vertices.numpy(), mesh.faces.numpy(), c=kr[1].to(device=torch.device('cpu')).numpy(),\n",
    "            shading={'colormap': \"jet_r\"}, s=[2,2,3], data=d)"
   ]
  },
  {
   "cell_type": "code",
   "execution_count": 86,
   "metadata": {},
   "outputs": [
    {
     "data": {
      "application/vnd.jupyter.widget-view+json": {
       "model_id": "ac1c528835ca4aee907f4e9f2b6e03e6",
       "version_major": 2,
       "version_minor": 0
      },
      "text/plain": [
       "HBox(children=(Output(), Output()))"
      ]
     },
     "metadata": {},
     "output_type": "display_data"
    },
    {
     "data": {
      "application/vnd.jupyter.widget-view+json": {
       "model_id": "9b3823b9829a4e06a85bdc665681391b",
       "version_major": 2,
       "version_minor": 0
      },
      "text/plain": [
       "HBox(children=(Output(), Output()))"
      ]
     },
     "metadata": {},
     "output_type": "display_data"
    }
   ],
   "source": [
    "d = mp.subplot(mesh.vertices.numpy(), mesh.faces.numpy(), c=DwKr[2].to(device=torch.device('cpu')).numpy(),\n",
    "            shading={'colormap': \"jet_r\"}, s=[2,2,0])\n",
    "mp.subplot(mesh.vertices.numpy(), mesh.faces.numpy(), c=DwKr_alt[2].to(device=torch.device('cpu')).numpy(),\n",
    "            shading={'colormap': \"jet_r\"}, s=[2,2,1], data=d)\n",
    "mp.subplot(mesh.vertices.numpy(), mesh.faces.numpy(), c=sctest_num[2].to(device=torch.device('cpu')).numpy(),\n",
    "            shading={'colormap': \"jet_r\"}, s=[2,2,2], data=d)\n",
    "mp.subplot(mesh.vertices.numpy(), mesh.faces.numpy(), c=kr[2].to(device=torch.device('cpu')).numpy(),\n",
    "            shading={'colormap': \"jet_r\"}, s=[2,2,3], data=d)"
   ]
  },
  {
   "cell_type": "code",
   "execution_count": 95,
   "metadata": {},
   "outputs": [
    {
     "data": {
      "application/vnd.jupyter.widget-view+json": {
       "model_id": "14df1f60e11e4f0b8950ee2107532d94",
       "version_major": 2,
       "version_minor": 0
      },
      "text/plain": [
       "HBox(children=(Output(), Output()))"
      ]
     },
     "metadata": {},
     "output_type": "display_data"
    },
    {
     "data": {
      "application/vnd.jupyter.widget-view+json": {
       "model_id": "93123502aae8410da0e0d17d2a258dec",
       "version_major": 2,
       "version_minor": 0
      },
      "text/plain": [
       "HBox(children=(Output(), Output()))"
      ]
     },
     "metadata": {},
     "output_type": "display_data"
    }
   ],
   "source": [
    "d = mp.subplot(mesh.vertices.numpy(), mesh.faces.numpy(), c=DwKr[3].to(device=torch.device('cpu')).numpy(),\n",
    "            shading={'colormap': \"jet_r\"}, s=[2,2,0])\n",
    "mp.subplot(mesh.vertices.numpy(), mesh.faces.numpy(), c=DwKr_alt[3].to(device=torch.device('cpu')).numpy(),\n",
    "            shading={'colormap': \"jet_r\"}, s=[2,2,1], data=d)\n",
    "mp.subplot(mesh.vertices.numpy(), mesh.faces.numpy(), c=sctest_num[3].to(device=torch.device('cpu')).numpy(),\n",
    "            shading={'colormap': \"jet_r\"}, s=[2,2,2], data=d)\n",
    "mp.subplot(mesh.vertices.numpy(), mesh.faces.numpy(), c=kr[3].to(device=torch.device('cpu')).numpy(),\n",
    "            shading={'colormap': \"jet_r\"}, s=[2,2,3], data=d)"
   ]
  },
  {
   "cell_type": "code",
   "execution_count": 94,
   "metadata": {},
   "outputs": [
    {
     "data": {
      "application/vnd.jupyter.widget-view+json": {
       "model_id": "7581702beb4544c8b22513683b31355f",
       "version_major": 2,
       "version_minor": 0
      },
      "text/plain": [
       "HBox(children=(Output(), Output()))"
      ]
     },
     "metadata": {},
     "output_type": "display_data"
    },
    {
     "data": {
      "application/vnd.jupyter.widget-view+json": {
       "model_id": "13322b63347c41c2a19bc7d1d7edd7a4",
       "version_major": 2,
       "version_minor": 0
      },
      "text/plain": [
       "HBox(children=(Output(), Output()))"
      ]
     },
     "metadata": {},
     "output_type": "display_data"
    }
   ],
   "source": [
    "d = mp.subplot(mesh.vertices.numpy(), mesh.faces.numpy(), c=DwKr[4].to(device=torch.device('cpu')).numpy(),\n",
    "            shading={'colormap': \"jet_r\"}, s=[2,2,0])\n",
    "mp.subplot(mesh.vertices.numpy(), mesh.faces.numpy(), c=DwKr_alt[4].to(device=torch.device('cpu')).numpy(),\n",
    "            shading={'colormap': \"jet_r\"}, s=[2,2,1], data=d)\n",
    "mp.subplot(mesh.vertices.numpy(), mesh.faces.numpy(), c=sctest_num[4].to(device=torch.device('cpu')).numpy(),\n",
    "            shading={'colormap': \"jet_r\"}, s=[2,2,2], data=d)\n",
    "mp.subplot(mesh.vertices.numpy(), mesh.faces.numpy(), c=kr[4].to(device=torch.device('cpu')).numpy(),\n",
    "            shading={'colormap': \"jet_r\"}, s=[2,2,3], data=d)"
   ]
  },
  {
   "cell_type": "code",
   "execution_count": 87,
   "metadata": {},
   "outputs": [
    {
     "data": {
      "application/vnd.jupyter.widget-view+json": {
       "model_id": "5bd63c8bb12948c28282cfa8712b81c4",
       "version_major": 2,
       "version_minor": 0
      },
      "text/plain": [
       "HBox(children=(Output(), Output()))"
      ]
     },
     "metadata": {},
     "output_type": "display_data"
    },
    {
     "data": {
      "application/vnd.jupyter.widget-view+json": {
       "model_id": "9d7fa232b2bd49628bf0ba91a3e4b7f2",
       "version_major": 2,
       "version_minor": 0
      },
      "text/plain": [
       "HBox(children=(Output(), Output()))"
      ]
     },
     "metadata": {},
     "output_type": "display_data"
    }
   ],
   "source": [
    "d = mp.subplot(mesh.vertices.numpy(), mesh.faces.numpy(), c=DwKr[5].to(device=torch.device('cpu')).numpy(),\n",
    "            shading={'colormap': \"jet_r\"}, s=[2,2,0])\n",
    "mp.subplot(mesh.vertices.numpy(), mesh.faces.numpy(), c=DwKr_alt[5].to(device=torch.device('cpu')).numpy(),\n",
    "            shading={'colormap': \"jet_r\"}, s=[2,2,1], data=d)\n",
    "mp.subplot(mesh.vertices.numpy(), mesh.faces.numpy(), c=sctest_num[5].to(device=torch.device('cpu')).numpy(),\n",
    "            shading={'colormap': \"jet_r\"}, s=[2,2,2], data=d)\n",
    "mp.subplot(mesh.vertices.numpy(), mesh.faces.numpy(), c=kr[5].to(device=torch.device('cpu')).numpy(),\n",
    "            shading={'colormap': \"jet_r\"}, s=[2,2,3], data=d)"
   ]
  },
  {
   "cell_type": "code",
   "execution_count": 88,
   "metadata": {},
   "outputs": [
    {
     "data": {
      "application/vnd.jupyter.widget-view+json": {
       "model_id": "2124fa4d69dd4d45bcc9bd092154172a",
       "version_major": 2,
       "version_minor": 0
      },
      "text/plain": [
       "HBox(children=(Output(), Output()))"
      ]
     },
     "metadata": {},
     "output_type": "display_data"
    },
    {
     "data": {
      "application/vnd.jupyter.widget-view+json": {
       "model_id": "dd3fbae336324dcf87acf1b15ad7548d",
       "version_major": 2,
       "version_minor": 0
      },
      "text/plain": [
       "HBox(children=(Output(), Output()))"
      ]
     },
     "metadata": {},
     "output_type": "display_data"
    }
   ],
   "source": [
    "d = mp.subplot(mesh.vertices.numpy(), mesh.faces.numpy(), c=DwKr[6].to(device=torch.device('cpu')).numpy(),\n",
    "            shading={'colormap': \"jet_r\"}, s=[2,2,0])\n",
    "mp.subplot(mesh.vertices.numpy(), mesh.faces.numpy(), c=DwKr_alt[6].to(device=torch.device('cpu')).numpy(),\n",
    "            shading={'colormap': \"jet_r\"}, s=[2,2,1], data=d)\n",
    "mp.subplot(mesh.vertices.numpy(), mesh.faces.numpy(), c=sctest_num[6].to(device=torch.device('cpu')).numpy(),\n",
    "            shading={'colormap': \"jet_r\"}, s=[2,2,2], data=d)\n",
    "mp.subplot(mesh.vertices.numpy(), mesh.faces.numpy(), c=kr[6].to(device=torch.device('cpu')).numpy(),\n",
    "            shading={'colormap': \"jet_r\"}, s=[2,2,3], data=d)"
   ]
  },
  {
   "cell_type": "code",
   "execution_count": 89,
   "metadata": {},
   "outputs": [
    {
     "data": {
      "application/vnd.jupyter.widget-view+json": {
       "model_id": "314fa65581c14ecda743e3b45a403603",
       "version_major": 2,
       "version_minor": 0
      },
      "text/plain": [
       "HBox(children=(Output(), Output()))"
      ]
     },
     "metadata": {},
     "output_type": "display_data"
    },
    {
     "data": {
      "application/vnd.jupyter.widget-view+json": {
       "model_id": "e13e10eb520a423688ca992731a1ca9d",
       "version_major": 2,
       "version_minor": 0
      },
      "text/plain": [
       "HBox(children=(Output(), Output()))"
      ]
     },
     "metadata": {},
     "output_type": "display_data"
    }
   ],
   "source": [
    "d = mp.subplot(mesh.vertices.numpy(), mesh.faces.numpy(), c=DwKr[7].to(device=torch.device('cpu')).numpy(),\n",
    "            shading={'colormap': \"jet_r\"}, s=[2,2,0])\n",
    "mp.subplot(mesh.vertices.numpy(), mesh.faces.numpy(), c=DwKr_alt[7].to(device=torch.device('cpu')).numpy(),\n",
    "            shading={'colormap': \"jet_r\"}, s=[2,2,1], data=d)\n",
    "mp.subplot(mesh.vertices.numpy(), mesh.faces.numpy(), c=sctest_num[7].to(device=torch.device('cpu')).numpy(),\n",
    "            shading={'colormap': \"jet_r\"}, s=[2,2,2], data=d)\n",
    "mp.subplot(mesh.vertices.numpy(), mesh.faces.numpy(), c=kr[7].to(device=torch.device('cpu')).numpy(),\n",
    "            shading={'colormap': \"jet_r\"}, s=[2,2,3], data=d)"
   ]
  },
  {
   "cell_type": "code",
   "execution_count": 90,
   "metadata": {},
   "outputs": [
    {
     "data": {
      "application/vnd.jupyter.widget-view+json": {
       "model_id": "139b6fcf1e3f48ba98633c52ce086505",
       "version_major": 2,
       "version_minor": 0
      },
      "text/plain": [
       "HBox(children=(Output(), Output()))"
      ]
     },
     "metadata": {},
     "output_type": "display_data"
    },
    {
     "data": {
      "application/vnd.jupyter.widget-view+json": {
       "model_id": "83e62127b12047f5b2f0d1eb2e9e3da4",
       "version_major": 2,
       "version_minor": 0
      },
      "text/plain": [
       "HBox(children=(Output(), Output()))"
      ]
     },
     "metadata": {},
     "output_type": "display_data"
    }
   ],
   "source": [
    "d = mp.subplot(mesh.vertices.numpy(), mesh.faces.numpy(), c=DwKr[8].to(device=torch.device('cpu')).numpy(),\n",
    "            shading={'colormap': \"jet_r\"}, s=[2,2,0])\n",
    "mp.subplot(mesh.vertices.numpy(), mesh.faces.numpy(), c=DwKr_alt[8].to(device=torch.device('cpu')).numpy(),\n",
    "            shading={'colormap': \"jet_r\"}, s=[2,2,1], data=d)\n",
    "mp.subplot(mesh.vertices.numpy(), mesh.faces.numpy(), c=sctest_num[8].to(device=torch.device('cpu')).numpy(),\n",
    "            shading={'colormap': \"jet_r\"}, s=[2,2,2], data=d)\n",
    "mp.subplot(mesh.vertices.numpy(), mesh.faces.numpy(), c=kr[8].to(device=torch.device('cpu')).numpy(),\n",
    "            shading={'colormap': \"jet_r\"}, s=[2,2,3], data=d)"
   ]
  },
  {
   "cell_type": "code",
   "execution_count": 91,
   "metadata": {},
   "outputs": [
    {
     "data": {
      "application/vnd.jupyter.widget-view+json": {
       "model_id": "d3b4d4b1945d4f1496da3abfea2d48f1",
       "version_major": 2,
       "version_minor": 0
      },
      "text/plain": [
       "HBox(children=(Output(), Output()))"
      ]
     },
     "metadata": {},
     "output_type": "display_data"
    },
    {
     "data": {
      "application/vnd.jupyter.widget-view+json": {
       "model_id": "a3429649d4bc4ec5ae4cdf564cac4ae5",
       "version_major": 2,
       "version_minor": 0
      },
      "text/plain": [
       "HBox(children=(Output(), Output()))"
      ]
     },
     "metadata": {},
     "output_type": "display_data"
    }
   ],
   "source": [
    "d = mp.subplot(mesh.vertices.numpy(), mesh.faces.numpy(), c=DwKr[9].to(device=torch.device('cpu')).numpy(),\n",
    "            shading={'colormap': \"jet_r\"}, s=[2,2,0])\n",
    "mp.subplot(mesh.vertices.numpy(), mesh.faces.numpy(), c=DwKr_alt[9].to(device=torch.device('cpu')).numpy(),\n",
    "            shading={'colormap': \"jet_r\"}, s=[2,2,1], data=d)\n",
    "mp.subplot(mesh.vertices.numpy(), mesh.faces.numpy(), c=sctest_num[9].to(device=torch.device('cpu')).numpy(),\n",
    "            shading={'colormap': \"jet_r\"}, s=[2,2,2], data=d)\n",
    "mp.subplot(mesh.vertices.numpy(), mesh.faces.numpy(), c=kr[9].to(device=torch.device('cpu')).numpy(),\n",
    "            shading={'colormap': \"jet_r\"}, s=[2,2,3], data=d)"
   ]
  },
  {
   "cell_type": "code",
   "execution_count": 92,
   "metadata": {},
   "outputs": [
    {
     "data": {
      "application/vnd.jupyter.widget-view+json": {
       "model_id": "ce4f8f3ec8df445ab54a8e67a8b4d2a6",
       "version_major": 2,
       "version_minor": 0
      },
      "text/plain": [
       "HBox(children=(Output(), Output()))"
      ]
     },
     "metadata": {},
     "output_type": "display_data"
    },
    {
     "data": {
      "application/vnd.jupyter.widget-view+json": {
       "model_id": "aa69386625004d3e9932a8c01d05c729",
       "version_major": 2,
       "version_minor": 0
      },
      "text/plain": [
       "HBox(children=(Output(), Output()))"
      ]
     },
     "metadata": {},
     "output_type": "display_data"
    }
   ],
   "source": [
    "d = mp.subplot(mesh.vertices.numpy(), mesh.faces.numpy(), c=DwKr[10].to(device=torch.device('cpu')).numpy(),\n",
    "            shading={'colormap': \"jet_r\"}, s=[2,2,0])\n",
    "mp.subplot(mesh.vertices.numpy(), mesh.faces.numpy(), c=DwKr_alt[10].to(device=torch.device('cpu')).numpy(),\n",
    "            shading={'colormap': \"jet_r\"}, s=[2,2,1], data=d)\n",
    "mp.subplot(mesh.vertices.numpy(), mesh.faces.numpy(), c=sctest_num[10].to(device=torch.device('cpu')).numpy(),\n",
    "            shading={'colormap': \"jet_r\"}, s=[2,2,2], data=d)\n",
    "mp.subplot(mesh.vertices.numpy(), mesh.faces.numpy(), c=kr[10].to(device=torch.device('cpu')).numpy(),\n",
    "            shading={'colormap': \"jet_r\"}, s=[2,2,3], data=d)"
   ]
  },
  {
   "cell_type": "code",
   "execution_count": 93,
   "metadata": {},
   "outputs": [
    {
     "data": {
      "application/vnd.jupyter.widget-view+json": {
       "model_id": "e289e8cac15744738e253af4db8ca841",
       "version_major": 2,
       "version_minor": 0
      },
      "text/plain": [
       "HBox(children=(Output(), Output()))"
      ]
     },
     "metadata": {},
     "output_type": "display_data"
    },
    {
     "data": {
      "application/vnd.jupyter.widget-view+json": {
       "model_id": "1d6e85df83674d5e8233fb7d54cd9c4f",
       "version_major": 2,
       "version_minor": 0
      },
      "text/plain": [
       "HBox(children=(Output(), Output()))"
      ]
     },
     "metadata": {},
     "output_type": "display_data"
    }
   ],
   "source": [
    "d = mp.subplot(mesh.vertices.numpy(), mesh.faces.numpy(), c=DwKr[11].to(device=torch.device('cpu')).numpy(),\n",
    "            shading={'colormap': \"jet_r\"}, s=[2,2,0])\n",
    "mp.subplot(mesh.vertices.numpy(), mesh.faces.numpy(), c=DwKr_alt[11].to(device=torch.device('cpu')).numpy(),\n",
    "            shading={'colormap': \"jet_r\"}, s=[2,2,1], data=d)\n",
    "mp.subplot(mesh.vertices.numpy(), mesh.faces.numpy(), c=sctest_num[1].to(device=torch.device('cpu')).numpy(),\n",
    "            shading={'colormap': \"jet_r\"}, s=[2,2,2], data=d)\n",
    "mp.subplot(mesh.vertices.numpy(), mesh.faces.numpy(), c=kr[11].to(device=torch.device('cpu')).numpy(),\n",
    "            shading={'colormap': \"jet_r\"}, s=[2,2,3], data=d)"
   ]
  },
  {
   "cell_type": "code",
   "execution_count": 110,
   "metadata": {},
   "outputs": [],
   "source": [
    "import matplotlib\n",
    "matplotlib.use('TkAgg')\n",
    "#%matplotlib inline\n",
    "plt = matplotlib.pyplot\n",
    "\n",
    "for i in [0, 3, 6, 9]:\n",
    "    plt.figure(i)\n",
    "    plt.xlabel(\"DwKr\")\n",
    "    plt.ylabel(\"Número\")\n",
    "    plt.title(\"Histograma de DwKr\")\n",
    "    plt.axis([int(DwKr[i].min().item()), int(DwKr[i].max().item()), 0, 0.02])\n",
    "    n, bins, patches = plt.hist(DwKr[i].cpu().numpy(), 20, density=True)\n",
    "\n",
    "plt.show()"
   ]
  },
  {
   "cell_type": "code",
   "execution_count": 8,
   "metadata": {},
   "outputs": [],
   "source": [
    "tridc = torch.zeros(dc.shape)\n",
    "dwtri = torch.zeros(12, mesh.vertices.shape[0]).to(device=torch.device('cuda'))\n",
    "krtri = torch.zeros(12, mesh.vertices.shape[0]).to(device=torch.device('cuda'))\n",
    "with open(\"/home/danniccs/rtsc-1.6/dcurv\", \"r\") as myfile:\n",
    "    for i in range(0, dc.shape[0]):\n",
    "        l = myfile.readline()\n",
    "        tridc[i] = torch.tensor([float(n) for n in l[1:-2].split(',')])\n",
    "\n",
    "for i in range(0, 12):\n",
    "    dwtri[i], krtri[i] = dcurv.compute_DwKr(mesh, normals=normals, curvs=(k1,k2,e1,e2), dcurv=tridc.cuda(),\n",
    "                                            view_coords=view_coords[i])"
   ]
  },
  {
   "cell_type": "code",
   "execution_count": 12,
   "metadata": {},
   "outputs": [
    {
     "data": {
      "application/vnd.jupyter.widget-view+json": {
       "model_id": "4100819e2e7c4be7b4c50b38d91fa525",
       "version_major": 2,
       "version_minor": 0
      },
      "text/plain": [
       "Renderer(camera=PerspectiveCamera(children=(DirectionalLight(color='white', intensity=0.6, position=(0.0, 0.0,…"
      ]
     },
     "metadata": {},
     "output_type": "display_data"
    }
   ],
   "source": [
    "for i in range(0, 1):\n",
    "    kupper = int(dwtri[i].shape[0] * 0.9)\n",
    "    klower = int(dwtri[i].shape[0] * 0.1)\n",
    "    dwupper, _ = torch.kthvalue(dwtri[i], kupper)\n",
    "    dwlower, _ = torch.kthvalue(dwtri[i], klower)\n",
    "    dwtri[i][dwtri[i] > dwupper] = dwupper\n",
    "    dwtri[i][dwtri[i] < dwlower] = dwlower\n",
    "    mp.plot(mesh.vertices.numpy(), mesh.faces.numpy(), c=dwtri[i].to(device=torch.device('cpu')).numpy(),\n",
    "            shading={'colormap': \"jet_r\"})"
   ]
  },
  {
   "cell_type": "code",
   "execution_count": 20,
   "metadata": {},
   "outputs": [
    {
     "name": "stdout",
     "output_type": "stream",
     "text": [
      "tensor(4.6814, device='cuda:0')\n",
      "tensor(3.6558, device='cuda:0')\n"
     ]
    }
   ],
   "source": [
    "trie1 = torch.zeros(e1.shape).cuda()\n",
    "trik1 = torch.zeros(k1.shape).cuda()\n",
    "with open(\"/home/danniccs/rtsc-1.6/pdir1\", \"r\") as myfile:\n",
    "    for i in range(0, e1.shape[0]):\n",
    "        l = myfile.readline()\n",
    "        trie1[i] = torch.tensor([float(n) for n in l[1:-2].split(',')])\n",
    "\n",
    "with open(\"/home/danniccs/rtsc-1.6/k1curv\", \"r\") as myfile:\n",
    "    for i in range(0, k1.shape[0]):\n",
    "        l = myfile.readline()[:-1]\n",
    "        trik1[i] = float(l)\n",
    "\n",
    "print(k1.mean())\n",
    "print(trik1.mean())"
   ]
  },
  {
   "cell_type": "code",
   "execution_count": 21,
   "metadata": {},
   "outputs": [
    {
     "data": {
      "application/vnd.jupyter.widget-view+json": {
       "model_id": "c31027a61f6647049f69bef53f7ee4e4",
       "version_major": 2,
       "version_minor": 0
      },
      "text/plain": [
       "Renderer(camera=PerspectiveCamera(children=(DirectionalLight(color='white', intensity=0.6, position=(0.0, 0.0,…"
      ]
     },
     "metadata": {},
     "output_type": "display_data"
    },
    {
     "data": {
      "text/plain": [
       "<meshplot.Viewer.Viewer at 0x7f6c6ae69ac8>"
      ]
     },
     "execution_count": 21,
     "metadata": {},
     "output_type": "execute_result"
    }
   ],
   "source": [
    "mp.plot(mesh.vertices.numpy(), mesh.faces.numpy(), c=trik1.to(device=torch.device('cpu')).numpy())\n",
    "        #shading={'colormap': \"jet\"})"
   ]
  },
  {
   "cell_type": "code",
   "execution_count": 22,
   "metadata": {},
   "outputs": [
    {
     "data": {
      "application/vnd.jupyter.widget-view+json": {
       "model_id": "b117311a224a43fabdb973f12a66e3f2",
       "version_major": 2,
       "version_minor": 0
      },
      "text/plain": [
       "Renderer(camera=PerspectiveCamera(children=(DirectionalLight(color='white', intensity=0.6, position=(0.0, 0.0,…"
      ]
     },
     "metadata": {},
     "output_type": "display_data"
    },
    {
     "data": {
      "text/plain": [
       "<meshplot.Viewer.Viewer at 0x7f6c6ae697f0>"
      ]
     },
     "execution_count": 22,
     "metadata": {},
     "output_type": "execute_result"
    }
   ],
   "source": [
    "mp.plot(mesh.vertices.numpy(), mesh.faces.numpy(), c=k1.to(device=torch.device('cpu')).numpy())"
   ]
  },
  {
   "cell_type": "code",
   "execution_count": 31,
   "metadata": {},
   "outputs": [
    {
     "data": {
      "application/vnd.jupyter.widget-view+json": {
       "model_id": "c382f1651daf41b9804f12939e4d9491",
       "version_major": 2,
       "version_minor": 0
      },
      "text/plain": [
       "Renderer(camera=PerspectiveCamera(children=(DirectionalLight(color='white', intensity=0.6, position=(0.0, 0.0,…"
      ]
     },
     "metadata": {},
     "output_type": "display_data"
    },
    {
     "data": {
      "text/plain": [
       "<meshplot.Viewer.Viewer at 0x7f4059658390>"
      ]
     },
     "execution_count": 31,
     "metadata": {},
     "output_type": "execute_result"
    }
   ],
   "source": [
    "mp.plot(mesh.vertices.numpy(), mesh.faces.numpy(), c=k2.to(device=torch.device('cpu')).numpy(),\n",
    "            shading={'colormap': \"jet\"})"
   ]
  },
  {
   "cell_type": "code",
   "execution_count": null,
   "metadata": {},
   "outputs": [],
   "source": []
  }
 ],
 "metadata": {
  "kernelspec": {
   "display_name": "Python 3",
   "language": "python",
   "name": "python3"
  },
  "language_info": {
   "codemirror_mode": {
    "name": "ipython",
    "version": 3
   },
   "file_extension": ".py",
   "mimetype": "text/x-python",
   "name": "python",
   "nbconvert_exporter": "python",
   "pygments_lexer": "ipython3",
   "version": "3.6.12"
  }
 },
 "nbformat": 4,
 "nbformat_minor": 4
}
