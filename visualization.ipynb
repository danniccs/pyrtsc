{
 "cells": [
  {
   "cell_type": "markdown",
   "metadata": {},
   "source": [
    "First we load our mesh. We will be using kaolin and our bunny model."
   ]
  },
  {
   "cell_type": "code",
   "execution_count": 1,
   "metadata": {},
   "outputs": [],
   "source": [
    "import kaolin as kal\n",
    "import torch\n",
    "import numpy as np\n",
    "import meshplot as mp\n",
    "\n",
    "mesh = kal.rep.TriangleMesh.from_obj(\"bunny.obj\")"
   ]
  },
  {
   "cell_type": "markdown",
   "metadata": {},
   "source": [
    "Now, we can compute the normals at each vertex."
   ]
  },
  {
   "cell_type": "code",
   "execution_count": 2,
   "metadata": {
    "scrolled": true
   },
   "outputs": [
    {
     "data": {
      "application/vnd.jupyter.widget-view+json": {
       "model_id": "803222cc9a7b4526a303fc76bb6bd809",
       "version_major": 2,
       "version_minor": 0
      },
      "text/plain": [
       "Renderer(camera=PerspectiveCamera(children=(DirectionalLight(color='white', intensity=0.6, position=(-0.016840…"
      ]
     },
     "metadata": {},
     "output_type": "display_data"
    },
    {
     "data": {
      "text/plain": [
       "<meshplot.Viewer.Viewer at 0x7f5385b36320>"
      ]
     },
     "execution_count": 2,
     "metadata": {},
     "output_type": "execute_result"
    }
   ],
   "source": [
    "import normals_lib\n",
    "normals = normals_lib.compute_simple_normals(mesh)\n",
    "mp.plot(mesh.vertices.numpy(), mesh.faces.numpy(), c=normals.numpy())"
   ]
  },
  {
   "cell_type": "markdown",
   "metadata": {},
   "source": [
    "Next, we calculate weights, called pointareas and cornerareas, which we will later\n",
    "use to calculate the curvature of the mesh."
   ]
  },
  {
   "cell_type": "code",
   "execution_count": 3,
   "metadata": {},
   "outputs": [],
   "source": [
    "import pointareas as pareas\n",
    "pointareas, cornerareas = pareas.compute_pointareas(mesh)"
   ]
  },
  {
   "cell_type": "markdown",
   "metadata": {},
   "source": [
    "Now we can calculate the principal curvatures and directions. If the normals, pointareas and cornerareas are\n",
    "not passed as parameters, _compute_curvatures_ will calculate them."
   ]
  },
  {
   "cell_type": "code",
   "execution_count": 4,
   "metadata": {},
   "outputs": [],
   "source": [
    "import curvature\n",
    "\n",
    "k1, k2, e1, e2 = curvature.compute_curvatures(mesh, normals=normals, pointareas=pointareas,\n",
    "                                              cornerareas=cornerareas)\n",
    "\n",
    "# You can also use torch.lstsq to compute curvatures, but cholesky is the recommended method.\n",
    "# k1, k2, e1, e2 = curvature.compute_curvatures(mesh, method='lstsq', normals=normals, pointareas=pointareas,\n",
    "#                                               cornerareas=cornerareas)"
   ]
  },
  {
   "cell_type": "markdown",
   "metadata": {},
   "source": [
    "Next, we can calculate the derivative of curvature tensor (__C__) at each vertex of the mesh."
   ]
  },
  {
   "cell_type": "code",
   "execution_count": 5,
   "metadata": {},
   "outputs": [],
   "source": [
    "import dcurv\n",
    "\n",
    "dc = dcurv.compute_dcurvs(mesh, curvs=(k1,k2,e1,e2), normals=normals, pointareas=pointareas,\n",
    "                          cornerareas=cornerareas)"
   ]
  },
  {
   "cell_type": "markdown",
   "metadata": {},
   "source": [
    "We can also calculate the radial curvature and directional derivatives of the radial curvature. There is a default camera position, but one can also be passed as a parameter. It must be a torch tensor of size 3."
   ]
  },
  {
   "cell_type": "code",
   "execution_count": 6,
   "metadata": {},
   "outputs": [],
   "source": [
    "DwKr, kr = dcurv.compute_DwKr(mesh, normals=normals, curvs=(k1,k2,e1,e2), dcurv=dc)"
   ]
  },
  {
   "cell_type": "markdown",
   "metadata": {},
   "source": [
    "We can also calculate the sctest value that is used in _rtsc_ for drawing Suggestive Contours.\n",
    "As with _compute_DwKr_, a camera position can be defined."
   ]
  },
  {
   "cell_type": "code",
   "execution_count": 7,
   "metadata": {},
   "outputs": [],
   "source": [
    "import perview\n",
    "\n",
    "ndotv, krf, _, sctest = perview.compute_perview(mesh, normals=normals, curvs=(k1,k2,e1,e2), dcurv=dc)"
   ]
  },
  {
   "cell_type": "markdown",
   "metadata": {},
   "source": [
    "We threshold the values of the results in order to allow for easier visualization."
   ]
  },
  {
   "cell_type": "code",
   "execution_count": 8,
   "metadata": {},
   "outputs": [],
   "source": [
    "kupper = int(k1.shape[0] * 0.95)\n",
    "klower = int(k1.shape[0] * 0.05)\n",
    "dwupper, _ = torch.kthvalue(k1, kupper)\n",
    "dwlower, _ = torch.kthvalue(k1, klower)\n",
    "k1[k1 > dwupper] = dwupper\n",
    "k1[k1 < dwlower] = dwlower\n",
    "kupper = int(k2.shape[0] * 0.95)\n",
    "klower = int(k2.shape[0] * 0.05)\n",
    "krupper, _ = torch.kthvalue(k2, kupper)\n",
    "krlower, _ = torch.kthvalue(k2, klower)\n",
    "k2[k2 > krupper] = krupper\n",
    "k2[k2 < krlower] = krlower"
   ]
  },
  {
   "cell_type": "code",
   "execution_count": 9,
   "metadata": {},
   "outputs": [],
   "source": [
    "kupper = int(DwKr.shape[0] * 0.95)\n",
    "klower = int(DwKr.shape[0] * 0.05)\n",
    "dwupper, _ = torch.kthvalue(DwKr, kupper)\n",
    "dwlower, _ = torch.kthvalue(DwKr, klower)\n",
    "DwKr[DwKr > dwupper] = dwupper\n",
    "DwKr[DwKr < dwlower] = dwlower\n",
    "kupper = int(kr.shape[0] * 0.95)\n",
    "klower = int(kr.shape[0] * 0.05)\n",
    "krupper, _ = torch.kthvalue(kr, kupper)\n",
    "krlower, _ = torch.kthvalue(kr, klower)\n",
    "kr[kr > krupper] = krupper\n",
    "kr[kr < krlower] = krlower"
   ]
  },
  {
   "cell_type": "code",
   "execution_count": 10,
   "metadata": {},
   "outputs": [],
   "source": [
    "kupper = int(sctest.shape[0] * 0.95)\n",
    "klower = int(sctest.shape[0] * 0.05)\n",
    "scupper, _ = torch.kthvalue(sctest, kupper)\n",
    "sclower, _ = torch.kthvalue(sctest, klower)\n",
    "sctest[sctest > scupper] = scupper\n",
    "sctest[sctest < sclower] = sclower\n",
    "\n",
    "kupper = int(krf.shape[0] * 0.95)\n",
    "klower = int(krf.shape[0] * 0.05)\n",
    "scupper, _ = torch.kthvalue(krf, kupper)\n",
    "sclower, _ = torch.kthvalue(krf, klower)\n",
    "krf[krf > scupper] = scupper\n",
    "krf[krf < sclower] = sclower"
   ]
  },
  {
   "cell_type": "markdown",
   "metadata": {},
   "source": [
    "Now we can visualize our results on the mesh using meshplot."
   ]
  },
  {
   "cell_type": "code",
   "execution_count": 11,
   "metadata": {},
   "outputs": [
    {
     "data": {
      "application/vnd.jupyter.widget-view+json": {
       "model_id": "eecc957596cf4aa2bab4aa75ce6c6c3a",
       "version_major": 2,
       "version_minor": 0
      },
      "text/plain": [
       "Renderer(camera=PerspectiveCamera(children=(DirectionalLight(color='white', intensity=0.6, position=(-0.016840…"
      ]
     },
     "metadata": {},
     "output_type": "display_data"
    },
    {
     "data": {
      "text/plain": [
       "<meshplot.Viewer.Viewer at 0x7f53858bd9b0>"
      ]
     },
     "execution_count": 11,
     "metadata": {},
     "output_type": "execute_result"
    }
   ],
   "source": [
    "mp.plot(mesh.vertices.numpy(), mesh.faces.numpy(), c=k1.to(device=torch.device('cpu')).numpy(),\n",
    "        shading={'colormap': \"jet_r\"})"
   ]
  },
  {
   "cell_type": "code",
   "execution_count": 12,
   "metadata": {},
   "outputs": [
    {
     "data": {
      "application/vnd.jupyter.widget-view+json": {
       "model_id": "61000a9e0c8242adad93f1cd492ad7a3",
       "version_major": 2,
       "version_minor": 0
      },
      "text/plain": [
       "Renderer(camera=PerspectiveCamera(children=(DirectionalLight(color='white', intensity=0.6, position=(-0.016840…"
      ]
     },
     "metadata": {},
     "output_type": "display_data"
    },
    {
     "data": {
      "text/plain": [
       "<meshplot.Viewer.Viewer at 0x7f53858bd320>"
      ]
     },
     "execution_count": 12,
     "metadata": {},
     "output_type": "execute_result"
    }
   ],
   "source": [
    "mp.plot(mesh.vertices.numpy(), mesh.faces.numpy(), c=kr.to(device=torch.device('cpu')).numpy(),\n",
    "        shading={'colormap': \"jet_r\"})"
   ]
  },
  {
   "cell_type": "code",
   "execution_count": 13,
   "metadata": {
    "scrolled": true
   },
   "outputs": [
    {
     "data": {
      "application/vnd.jupyter.widget-view+json": {
       "model_id": "5a827e5a752f4eeea4e1dd3f354214c2",
       "version_major": 2,
       "version_minor": 0
      },
      "text/plain": [
       "Renderer(camera=PerspectiveCamera(children=(DirectionalLight(color='white', intensity=0.6, position=(-0.016840…"
      ]
     },
     "metadata": {},
     "output_type": "display_data"
    },
    {
     "data": {
      "text/plain": [
       "<meshplot.Viewer.Viewer at 0x7f5408253cf8>"
      ]
     },
     "execution_count": 13,
     "metadata": {},
     "output_type": "execute_result"
    }
   ],
   "source": [
    "mp.plot(mesh.vertices.numpy(), mesh.faces.numpy(), c=DwKr.to(device=torch.device('cpu')).numpy(),\n",
    "        shading={'colormap': \"jet_r\"})"
   ]
  },
  {
   "cell_type": "code",
   "execution_count": 14,
   "metadata": {},
   "outputs": [
    {
     "data": {
      "application/vnd.jupyter.widget-view+json": {
       "model_id": "148d0faadce54d989056078a4c979f09",
       "version_major": 2,
       "version_minor": 0
      },
      "text/plain": [
       "Renderer(camera=PerspectiveCamera(children=(DirectionalLight(color='white', intensity=0.6, position=(-0.016840…"
      ]
     },
     "metadata": {},
     "output_type": "display_data"
    },
    {
     "data": {
      "text/plain": [
       "<meshplot.Viewer.Viewer at 0x7f53833304e0>"
      ]
     },
     "execution_count": 14,
     "metadata": {},
     "output_type": "execute_result"
    }
   ],
   "source": [
    "mp.plot(mesh.vertices.numpy(), mesh.faces.numpy(), c=sctest.to(device=torch.device('cpu')).numpy(),\n",
    "        shading={'colormap': \"jet_r\"})"
   ]
  }
 ],
 "metadata": {
  "kernelspec": {
   "display_name": "Python 3",
   "language": "python",
   "name": "python3"
  },
  "language_info": {
   "codemirror_mode": {
    "name": "ipython",
    "version": 3
   },
   "file_extension": ".py",
   "mimetype": "text/x-python",
   "name": "python",
   "nbconvert_exporter": "python",
   "pygments_lexer": "ipython3",
   "version": "3.6.12"
  }
 },
 "nbformat": 4,
 "nbformat_minor": 4
}
