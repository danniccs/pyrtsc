{
 "cells": [
  {
   "cell_type": "code",
   "execution_count": 20,
   "metadata": {},
   "outputs": [],
   "source": [
    "import normals_lib\n",
    "import pointareas as pareas\n",
    "import kaolin as kal\n",
    "import torch\n",
    "import numpy as np\n",
    "import meshplot as mp\n",
    "import seaborn as sns\n",
    "import pandas as pd\n",
    "import matplotlib.pyplot as plt\n",
    "\n",
    "%matplotlib tk\n",
    "#mesh = kal.rep.TriangleMesh.from_obj(\"model.obj\") # Modelo de una esfera\n",
    "mesh = kal.rep.TriangleMesh.from_obj(\"stat_triangular.obj\")\n",
    "#mesh = kal.rep.TriangleMesh.from_obj(\"torus.obj\")\n",
    "#mesh = kal.rep.TriangleMesh.from_obj(\"simplified_bunny.obj\")"
   ]
  },
  {
   "cell_type": "code",
   "execution_count": 41,
   "metadata": {},
   "outputs": [],
   "source": [
    "view_coords = torch.load(\"view_coordinates.pt\").to(device=torch.device('cuda'))\n",
    "verts = mesh.vertices.clone()\n",
    "xmed = torch.median(verts[:,0])\n",
    "ymed = torch.median(verts[:,1])\n",
    "zmed = torch.median(verts[:,2])\n",
    "verts[:,0] -= xmed\n",
    "verts[:,1] -= ymed\n",
    "verts[:,2] -= zmed\n",
    "verts /= torch.max(torch.norm(verts, dim=1))\n",
    "#mesh.vertices = verts"
   ]
  },
  {
   "cell_type": "code",
   "execution_count": 2,
   "metadata": {},
   "outputs": [
    {
     "data": {
      "application/vnd.jupyter.widget-view+json": {
       "model_id": "e0c21c4a856f4d7294931d1d822bc178",
       "version_major": 2,
       "version_minor": 0
      },
      "text/plain": [
       "Renderer(camera=PerspectiveCamera(children=(DirectionalLight(color='white', intensity=0.6, position=(-20.83300…"
      ]
     },
     "metadata": {},
     "output_type": "display_data"
    }
   ],
   "source": [
    "normals = normals_lib.compute_simple_vertex_normals(mesh).cpu()\n",
    "pointareas, cornerareas = pareas.compute_pointareas(mesh)\n",
    "normals_lib.visualize_normals(mesh, normals)\n",
    "normals = normals.to(device=torch.device('cuda'))"
   ]
  },
  {
   "cell_type": "code",
   "execution_count": 3,
   "metadata": {},
   "outputs": [],
   "source": [
    "# Calculate principal curvatures and curvature directions\n",
    "import curvature\n",
    "import importlib\n",
    "\n",
    "k1, k2, e1, e2 = curvature.compute_curvatures(mesh, normals=normals, pointareas=pointareas,\n",
    "                                              cornerareas=cornerareas)"
   ]
  },
  {
   "cell_type": "code",
   "execution_count": 38,
   "metadata": {},
   "outputs": [],
   "source": [
    "import dcurv\n",
    "\n",
    "dc = dcurv.compute_dcurvs(mesh, curvs=(k1,k2,e1,e2), normals=normals, pointareas=pointareas,\n",
    "                          cornerareas=cornerareas)"
   ]
  },
  {
   "cell_type": "code",
   "execution_count": 18,
   "metadata": {},
   "outputs": [
    {
     "data": {
      "text/plain": [
       "<module 'curvature' from '/home/danniccs/rtsc_to_torch/curvature.py'>"
      ]
     },
     "execution_count": 18,
     "metadata": {},
     "output_type": "execute_result"
    }
   ],
   "source": [
    "importlib.reload(curvature)"
   ]
  },
  {
   "cell_type": "code",
   "execution_count": 42,
   "metadata": {},
   "outputs": [],
   "source": [
    "DwKr = torch.zeros(12, mesh.vertices.shape[0]).to(device=torch.device('cuda'))\n",
    "kr = torch.zeros(12, mesh.vertices.shape[0]).to(device=torch.device('cuda'))\n",
    "for i in range(0, 12):\n",
    "    DwKr[i], kr[i] = dcurv.compute_DwKr(mesh, normals=normals, curvs=(k1,k2,e1,e2), dcurv=dc,\n",
    "                                        view_coords=view_coords[i])\n",
    "    kupper = int(DwKr[i].shape[0] * 0.9)\n",
    "    klower = int(DwKr[i].shape[0] * 0.1)\n",
    "    dwupper, _ = torch.kthvalue(DwKr[i], kupper)\n",
    "    dwlower, _ = torch.kthvalue(DwKr[i], klower)\n",
    "    DwKr[i][DwKr[i] > dwupper] = dwupper\n",
    "    DwKr[i][DwKr[i] < dwlower] = dwlower\n",
    "    kupper = int(kr[i].shape[0] * 0.9)\n",
    "    klower = int(kr[i].shape[0] * 0.1)\n",
    "    krupper, _ = torch.kthvalue(kr[i], kupper)\n",
    "    krlower, _ = torch.kthvalue(kr[i], klower)\n",
    "    #kr[i][kr[i] > krupper] = krupper\n",
    "    #kr[i][kr[i] < krlower] = krlower"
   ]
  },
  {
   "cell_type": "code",
   "execution_count": 22,
   "metadata": {},
   "outputs": [],
   "source": [
    "DwKr_alt = torch.zeros(12, mesh.vertices.shape[0]).to(device=torch.device('cuda'))\n",
    "kr_alt = torch.zeros(12, mesh.vertices.shape[0]).to(device=torch.device('cuda'))\n",
    "for i in range(0, 12):\n",
    "    DwKr_alt[i], kr_alt[i] = dcurv.compute_DwKr_alt(mesh, normals=normals, curvs=(k1,k2,e1,e2), dcurv=dc,\n",
    "                                                    view_coords=view_coords[i])\n",
    "    kupper = int(DwKr_alt[i].shape[0] * 0.9)\n",
    "    klower = int(DwKr_alt[i].shape[0] * 0.1)\n",
    "    dwupper, _ = torch.kthvalue(DwKr_alt[i], kupper)\n",
    "    dwlower, _ = torch.kthvalue(DwKr_alt[i], klower)\n",
    "    DwKr_alt[i][DwKr_alt[i] > dwupper] = dwupper\n",
    "    DwKr_alt[i][DwKr_alt[i] < dwlower] = dwlower\n",
    "    kupper = int(kr_alt[i].shape[0] * 0.9)\n",
    "    klower = int(kr_alt[i].shape[0] * 0.1)\n",
    "    krupper, _ = torch.kthvalue(kr_alt[i], kupper)\n",
    "    krlower, _ = torch.kthvalue(kr_alt[i], klower)\n",
    "    #kr_alt[i][kr_alt[i] > krupper] = krupper\n",
    "    #kr_alt[i][kr_alt[i] < krlower] = krlower"
   ]
  },
  {
   "cell_type": "code",
   "execution_count": 44,
   "metadata": {},
   "outputs": [],
   "source": [
    "tridc = torch.zeros(dc.shape)\n",
    "dwtri = torch.zeros(12, mesh.vertices.shape[0]).to(device=torch.device('cuda'))\n",
    "krtri = torch.zeros(12, mesh.vertices.shape[0]).to(device=torch.device('cuda'))\n",
    "with open(\"/home/danniccs/rtsc-1.6/dcurv\", \"r\") as myfile:\n",
    "    for i in range(0, dc.shape[0]):\n",
    "        l = myfile.readline()\n",
    "        tridc[i] = torch.tensor([float(n) for n in l[1:-2].split(',')])\n",
    "\n",
    "for i in range(0, 12):\n",
    "    dwtri[i], krtri[i] = dcurv.compute_DwKr(mesh, normals=normals, curvs=(k1,k2,e1,e2), dcurv=tridc.cuda(),\n",
    "                                            view_coords=view_coords[i])"
   ]
  },
  {
   "cell_type": "code",
   "execution_count": 45,
   "metadata": {},
   "outputs": [],
   "source": [
    "for i in range(0, 1):\n",
    "    kupper = int(dwtri[i].shape[0] * 0.9)\n",
    "    klower = int(dwtri[i].shape[0] * 0.1)\n",
    "    dwupper, _ = torch.kthvalue(dwtri[i], kupper)\n",
    "    dwlower, _ = torch.kthvalue(dwtri[i], klower)\n",
    "    dwtri[i][dwtri[i] > dwupper] = dwupper\n",
    "    dwtri[i][dwtri[i] < dwlower] = dwlower\n",
    "    #mp.plot(mesh.vertices.numpy(), mesh.faces.numpy(), c=dwtri[i].to(device=torch.device('cpu')).numpy(),\n",
    "    #        shading={'colormap': \"jet_r\"})"
   ]
  },
  {
   "cell_type": "code",
   "execution_count": 4,
   "metadata": {},
   "outputs": [],
   "source": [
    "trik1 = torch.zeros(k1.shape).cuda()\n",
    "trik2 = torch.zeros(k2.shape).cuda()\n",
    "trie1 = torch.zeros(e1.shape).cuda()\n",
    "trie2 = torch.zeros(e2.shape).cuda()\n",
    "\n",
    "with open(\"/home/danniccs/rtsc-1.6/k1curv\", \"r\") as myfile:\n",
    "    for i in range(0, k1.shape[0]):\n",
    "        l = myfile.readline()\n",
    "        trik1[i] = float(l)\n",
    "\n",
    "with open(\"/home/danniccs/rtsc-1.6/k2curv\", \"r\") as myfile:\n",
    "    for i in range(0, k2.shape[0]):\n",
    "        l = myfile.readline()\n",
    "        trik2[i] = float(l)\n",
    "\n",
    "with open(\"/home/danniccs/rtsc-1.6/pdir1\", \"r\") as myfile:\n",
    "    for i in range(0, e1.shape[0]):\n",
    "        l = myfile.readline()\n",
    "        trie1[i] = torch.tensor([float(n) for n in l[1:-2].split(',')])\n",
    "\n",
    "with open(\"/home/danniccs/rtsc-1.6/pdir2\", \"r\") as myfile:\n",
    "    for i in range(0, e2.shape[0]):\n",
    "        l = myfile.readline()\n",
    "        trie2[i] = torch.tensor([float(n) for n in l[1:-2].split(',')])"
   ]
  },
  {
   "cell_type": "code",
   "execution_count": 26,
   "metadata": {},
   "outputs": [],
   "source": [
    "import shared_algs\n",
    "importlib.reload(shared_algs)\n",
    "ndotv = torch.zeros(12, mesh.vertices.shape[0]).to(device=torch.device('cuda'))\n",
    "krf = torch.zeros(12, mesh.vertices.shape[0]).to(device=torch.device('cuda'))\n",
    "sctest_num = torch.zeros(12, mesh.vertices.shape[0]).to(device=torch.device('cuda'))\n",
    "sctest_den = torch.zeros(12, mesh.vertices.shape[0]).to(device=torch.device('cuda'))\n",
    "sctest = torch.zeros(12, mesh.vertices.shape[0]).to(device=torch.device('cuda'))\n",
    "\n",
    "tridc = tridc.cuda()\n",
    "for i in range(0, 12):\n",
    "    ndotv[i], krf[i], _, sctest_num[i], sctest_den[i] = shared_algs.compute_perview(mesh, normals=normals,\n",
    "                                                                                    curvs=(trik1,trik2,trie1,trie2),\n",
    "                                                                                    dcurv=tridc,\n",
    "                                                                                    view_coords=view_coords[i])\n",
    "    #sctest_den[i][sctest_den[i] == 0] = 0.01\n",
    "    sctest[i] = sctest_num[i] / sctest_den[i]\n",
    "    kupper = int(sctest[i].shape[0] * 0.9)\n",
    "    klower = int(sctest[i].shape[0] * 0.1)\n",
    "    scupper, _ = torch.kthvalue(sctest[i], kupper)\n",
    "    sclower, _ = torch.kthvalue(sctest[i], klower)\n",
    "    sctest[i][sctest[i] > scupper] = scupper\n",
    "    sctest[i][sctest[i] < sclower] = sclower"
   ]
  },
  {
   "cell_type": "code",
   "execution_count": 10,
   "metadata": {},
   "outputs": [
    {
     "data": {
      "application/vnd.jupyter.widget-view+json": {
       "model_id": "c7ad36c4f5c84c9f9e584b72ed051e97",
       "version_major": 2,
       "version_minor": 0
      },
      "text/plain": [
       "HBox(children=(Output(), Output()))"
      ]
     },
     "metadata": {},
     "output_type": "display_data"
    }
   ],
   "source": [
    "mp.jupyter()\n",
    "d = mp.subplot(mesh.vertices.numpy(), mesh.faces.numpy(), c=k1.cpu().numpy(),\n",
    "            shading={'colormap': \"jet_r\"}, s=[1,2,0])\n",
    "mp.subplot(mesh.vertices.numpy(), mesh.faces.numpy(), c=trik1.cpu().numpy(),\n",
    "            shading={'colormap': \"jet_r\"}, s=[1,2,1], data=d)"
   ]
  },
  {
   "cell_type": "code",
   "execution_count": 11,
   "metadata": {
    "scrolled": false
   },
   "outputs": [
    {
     "data": {
      "application/vnd.jupyter.widget-view+json": {
       "model_id": "b9c4241726d54c3aab6be90bd05506b4",
       "version_major": 2,
       "version_minor": 0
      },
      "text/plain": [
       "HBox(children=(Output(), Output()))"
      ]
     },
     "metadata": {},
     "output_type": "display_data"
    }
   ],
   "source": [
    "d = mp.subplot(mesh.vertices.numpy(), mesh.faces.numpy(), c=k2.to(device=torch.device('cpu')).numpy(),\n",
    "            shading={'colormap': \"jet_r\"}, s=[1,2,0])\n",
    "mp.subplot(mesh.vertices.numpy(), mesh.faces.numpy(), c=trik2.to(device=torch.device('cpu')).numpy(),\n",
    "            shading={'colormap': \"jet_r\"}, s=[1,2,1], data=d)"
   ]
  },
  {
   "cell_type": "code",
   "execution_count": 56,
   "metadata": {
    "scrolled": false
   },
   "outputs": [
    {
     "data": {
      "application/vnd.jupyter.widget-view+json": {
       "model_id": "e9a1f16694da43e58b4ae96cdd86abf1",
       "version_major": 2,
       "version_minor": 0
      },
      "text/plain": [
       "HBox(children=(Output(), Output()))"
      ]
     },
     "metadata": {},
     "output_type": "display_data"
    }
   ],
   "source": [
    "d = mp.subplot(mesh.vertices.numpy(), mesh.faces.numpy(), c=e1.to(device=torch.device('cpu')).numpy(),\n",
    "               s=[1,2,0])\n",
    "mp.subplot(mesh.vertices.numpy(), mesh.faces.numpy(), c=trie1.to(device=torch.device('cpu')).numpy(),\n",
    "               s=[1,2,1], data=d)"
   ]
  },
  {
   "cell_type": "code",
   "execution_count": 51,
   "metadata": {},
   "outputs": [
    {
     "data": {
      "application/vnd.jupyter.widget-view+json": {
       "model_id": "",
       "version_major": 2,
       "version_minor": 0
      },
      "text/plain": [
       "HBox(children=(Output(), Output()))"
      ]
     },
     "metadata": {},
     "output_type": "display_data"
    },
    {
     "data": {
      "application/vnd.jupyter.widget-view+json": {
       "model_id": "",
       "version_major": 2,
       "version_minor": 0
      },
      "text/plain": [
       "HBox(children=(Output(), Output()))"
      ]
     },
     "metadata": {},
     "output_type": "display_data"
    }
   ],
   "source": [
    "d = mp.subplot(mesh.vertices.numpy(), mesh.faces.numpy(), c=DwKr[0].to(device=torch.device('cpu')).numpy(),\n",
    "            shading={'colormap': \"jet_r\"}, s=[2,2,0])\n",
    "mp.subplot(mesh.vertices.numpy(), mesh.faces.numpy(), c=DwKr_alt[0].to(device=torch.device('cpu')).numpy(),\n",
    "            shading={'colormap': \"jet_r\"}, s=[2,2,1], data=d)\n",
    "mp.subplot(mesh.vertices.numpy(), mesh.faces.numpy(), c=k1.to(device=torch.device('cpu')).numpy(),\n",
    "            shading={'colormap': \"jet_r\"}, s=[2,2,2], data=d)\n",
    "mp.subplot(mesh.vertices.numpy(), mesh.faces.numpy(), c=trik1.to(device=torch.device('cpu')).numpy(),\n",
    "            shading={'colormap': \"jet_r\"}, s=[2,2,3], data=d)"
   ]
  },
  {
   "cell_type": "code",
   "execution_count": 10,
   "metadata": {},
   "outputs": [
    {
     "data": {
      "application/vnd.jupyter.widget-view+json": {
       "model_id": "946292c551d54ed8a34bfadcacb88c5f",
       "version_major": 2,
       "version_minor": 0
      },
      "text/plain": [
       "HBox(children=(Output(), Output()))"
      ]
     },
     "metadata": {},
     "output_type": "display_data"
    },
    {
     "data": {
      "application/vnd.jupyter.widget-view+json": {
       "model_id": "9ee88339b3684f7d992c027682a030ac",
       "version_major": 2,
       "version_minor": 0
      },
      "text/plain": [
       "HBox(children=(Output(), Output()))"
      ]
     },
     "metadata": {},
     "output_type": "display_data"
    }
   ],
   "source": [
    "d = mp.subplot(mesh.vertices.numpy(), mesh.faces.numpy(), c=DwKr[1].to(device=torch.device('cpu')).numpy(),\n",
    "            shading={'colormap': \"jet_r\"}, s=[2,2,0])\n",
    "mp.subplot(mesh.vertices.numpy(), mesh.faces.numpy(), c=DwKr_alt[1].to(device=torch.device('cpu')).numpy(),\n",
    "            shading={'colormap': \"jet_r\"}, s=[2,2,1], data=d)\n",
    "mp.subplot(mesh.vertices.numpy(), mesh.faces.numpy(), c=sctest_num[1].to(device=torch.device('cpu')).numpy(),\n",
    "            shading={'colormap': \"jet_r\"}, s=[2,2,2], data=d)\n",
    "mp.subplot(mesh.vertices.numpy(), mesh.faces.numpy(), c=kr[1].to(device=torch.device('cpu')).numpy(),\n",
    "            shading={'colormap': \"jet_r\"}, s=[2,2,3], data=d)"
   ]
  },
  {
   "cell_type": "code",
   "execution_count": 17,
   "metadata": {},
   "outputs": [
    {
     "data": {
      "application/vnd.jupyter.widget-view+json": {
       "model_id": "47091a20687b495ab054fa2945e9fb53",
       "version_major": 2,
       "version_minor": 0
      },
      "text/plain": [
       "HBox(children=(Output(), Output()))"
      ]
     },
     "metadata": {},
     "output_type": "display_data"
    },
    {
     "data": {
      "application/vnd.jupyter.widget-view+json": {
       "model_id": "4fe8d9772b954e1f91c42107bbf8959a",
       "version_major": 2,
       "version_minor": 0
      },
      "text/plain": [
       "HBox(children=(Output(), Output()))"
      ]
     },
     "metadata": {},
     "output_type": "display_data"
    }
   ],
   "source": [
    "d = mp.subplot(mesh.vertices.numpy(), mesh.faces.numpy(), c=DwKr[2].to(device=torch.device('cpu')).numpy(),\n",
    "            shading={'colormap': \"jet_r\"}, s=[2,2,0])\n",
    "mp.subplot(mesh.vertices.numpy(), mesh.faces.numpy(), c=DwKr_alt[2].to(device=torch.device('cpu')).numpy(),\n",
    "            shading={'colormap': \"jet_r\"}, s=[2,2,1], data=d)\n",
    "mp.subplot(mesh.vertices.numpy(), mesh.faces.numpy(), c=sctest_num[2].to(device=torch.device('cpu')).numpy(),\n",
    "            shading={'colormap': \"jet_r\"}, s=[2,2,2], data=d)\n",
    "mp.subplot(mesh.vertices.numpy(), mesh.faces.numpy(), c=kr[2].to(device=torch.device('cpu')).numpy(),\n",
    "            shading={'colormap': \"jet_r\"}, s=[2,2,3], data=d)"
   ]
  },
  {
   "cell_type": "code",
   "execution_count": 40,
   "metadata": {},
   "outputs": [
    {
     "data": {
      "application/vnd.jupyter.widget-view+json": {
       "model_id": "176a8267f22044e9bf3e71abe442c0df",
       "version_major": 2,
       "version_minor": 0
      },
      "text/plain": [
       "HBox(children=(Output(), Output()))"
      ]
     },
     "metadata": {},
     "output_type": "display_data"
    },
    {
     "data": {
      "application/vnd.jupyter.widget-view+json": {
       "model_id": "fb8ea8dff46e4b908c2d1c3d1500892c",
       "version_major": 2,
       "version_minor": 0
      },
      "text/plain": [
       "HBox(children=(Output(), Output()))"
      ]
     },
     "metadata": {},
     "output_type": "display_data"
    }
   ],
   "source": [
    "d = mp.subplot(mesh.vertices.numpy(), mesh.faces.numpy(), c=DwKr[3].to(device=torch.device('cpu')).numpy(),\n",
    "            shading={'colormap': \"jet_r\"}, s=[2,2,0])\n",
    "mp.subplot(mesh.vertices.numpy(), mesh.faces.numpy(), c=DwKr_alt[3].to(device=torch.device('cpu')).numpy(),\n",
    "            shading={'colormap': \"jet_r\"}, s=[2,2,1], data=d)\n",
    "mp.subplot(mesh.vertices.numpy(), mesh.faces.numpy(), c=sctest[3].to(device=torch.device('cpu')).numpy(),\n",
    "            shading={'colormap': \"jet_r\"}, s=[2,2,2], data=d)\n",
    "mp.subplot(mesh.vertices.numpy(), mesh.faces.numpy(), c=kr[3].to(device=torch.device('cpu')).numpy(),\n",
    "            shading={'colormap': \"jet_r\"}, s=[2,2,3], data=d)"
   ]
  },
  {
   "cell_type": "code",
   "execution_count": 94,
   "metadata": {},
   "outputs": [
    {
     "data": {
      "application/vnd.jupyter.widget-view+json": {
       "model_id": "7581702beb4544c8b22513683b31355f",
       "version_major": 2,
       "version_minor": 0
      },
      "text/plain": [
       "HBox(children=(Output(), Output()))"
      ]
     },
     "metadata": {},
     "output_type": "display_data"
    },
    {
     "data": {
      "application/vnd.jupyter.widget-view+json": {
       "model_id": "13322b63347c41c2a19bc7d1d7edd7a4",
       "version_major": 2,
       "version_minor": 0
      },
      "text/plain": [
       "HBox(children=(Output(), Output()))"
      ]
     },
     "metadata": {},
     "output_type": "display_data"
    }
   ],
   "source": [
    "d = mp.subplot(mesh.vertices.numpy(), mesh.faces.numpy(), c=DwKr[4].to(device=torch.device('cpu')).numpy(),\n",
    "            shading={'colormap': \"jet_r\"}, s=[2,2,0])\n",
    "mp.subplot(mesh.vertices.numpy(), mesh.faces.numpy(), c=DwKr_alt[4].to(device=torch.device('cpu')).numpy(),\n",
    "            shading={'colormap': \"jet_r\"}, s=[2,2,1], data=d)\n",
    "mp.subplot(mesh.vertices.numpy(), mesh.faces.numpy(), c=sctest_num[4].to(device=torch.device('cpu')).numpy(),\n",
    "            shading={'colormap': \"jet_r\"}, s=[2,2,2], data=d)\n",
    "mp.subplot(mesh.vertices.numpy(), mesh.faces.numpy(), c=kr[4].to(device=torch.device('cpu')).numpy(),\n",
    "            shading={'colormap': \"jet_r\"}, s=[2,2,3], data=d)"
   ]
  },
  {
   "cell_type": "code",
   "execution_count": 87,
   "metadata": {},
   "outputs": [
    {
     "data": {
      "application/vnd.jupyter.widget-view+json": {
       "model_id": "5bd63c8bb12948c28282cfa8712b81c4",
       "version_major": 2,
       "version_minor": 0
      },
      "text/plain": [
       "HBox(children=(Output(), Output()))"
      ]
     },
     "metadata": {},
     "output_type": "display_data"
    },
    {
     "data": {
      "application/vnd.jupyter.widget-view+json": {
       "model_id": "9d7fa232b2bd49628bf0ba91a3e4b7f2",
       "version_major": 2,
       "version_minor": 0
      },
      "text/plain": [
       "HBox(children=(Output(), Output()))"
      ]
     },
     "metadata": {},
     "output_type": "display_data"
    }
   ],
   "source": [
    "d = mp.subplot(mesh.vertices.numpy(), mesh.faces.numpy(), c=DwKr[5].to(device=torch.device('cpu')).numpy(),\n",
    "            shading={'colormap': \"jet_r\"}, s=[2,2,0])\n",
    "mp.subplot(mesh.vertices.numpy(), mesh.faces.numpy(), c=DwKr_alt[5].to(device=torch.device('cpu')).numpy(),\n",
    "            shading={'colormap': \"jet_r\"}, s=[2,2,1], data=d)\n",
    "mp.subplot(mesh.vertices.numpy(), mesh.faces.numpy(), c=sctest_num[5].to(device=torch.device('cpu')).numpy(),\n",
    "            shading={'colormap': \"jet_r\"}, s=[2,2,2], data=d)\n",
    "mp.subplot(mesh.vertices.numpy(), mesh.faces.numpy(), c=kr[5].to(device=torch.device('cpu')).numpy(),\n",
    "            shading={'colormap': \"jet_r\"}, s=[2,2,3], data=d)"
   ]
  },
  {
   "cell_type": "code",
   "execution_count": 88,
   "metadata": {},
   "outputs": [
    {
     "data": {
      "application/vnd.jupyter.widget-view+json": {
       "model_id": "2124fa4d69dd4d45bcc9bd092154172a",
       "version_major": 2,
       "version_minor": 0
      },
      "text/plain": [
       "HBox(children=(Output(), Output()))"
      ]
     },
     "metadata": {},
     "output_type": "display_data"
    },
    {
     "data": {
      "application/vnd.jupyter.widget-view+json": {
       "model_id": "dd3fbae336324dcf87acf1b15ad7548d",
       "version_major": 2,
       "version_minor": 0
      },
      "text/plain": [
       "HBox(children=(Output(), Output()))"
      ]
     },
     "metadata": {},
     "output_type": "display_data"
    }
   ],
   "source": [
    "d = mp.subplot(mesh.vertices.numpy(), mesh.faces.numpy(), c=DwKr[6].to(device=torch.device('cpu')).numpy(),\n",
    "            shading={'colormap': \"jet_r\"}, s=[2,2,0])\n",
    "mp.subplot(mesh.vertices.numpy(), mesh.faces.numpy(), c=DwKr_alt[6].to(device=torch.device('cpu')).numpy(),\n",
    "            shading={'colormap': \"jet_r\"}, s=[2,2,1], data=d)\n",
    "mp.subplot(mesh.vertices.numpy(), mesh.faces.numpy(), c=sctest_num[6].to(device=torch.device('cpu')).numpy(),\n",
    "            shading={'colormap': \"jet_r\"}, s=[2,2,2], data=d)\n",
    "mp.subplot(mesh.vertices.numpy(), mesh.faces.numpy(), c=kr[6].to(device=torch.device('cpu')).numpy(),\n",
    "            shading={'colormap': \"jet_r\"}, s=[2,2,3], data=d)"
   ]
  },
  {
   "cell_type": "code",
   "execution_count": 89,
   "metadata": {},
   "outputs": [
    {
     "data": {
      "application/vnd.jupyter.widget-view+json": {
       "model_id": "314fa65581c14ecda743e3b45a403603",
       "version_major": 2,
       "version_minor": 0
      },
      "text/plain": [
       "HBox(children=(Output(), Output()))"
      ]
     },
     "metadata": {},
     "output_type": "display_data"
    },
    {
     "data": {
      "application/vnd.jupyter.widget-view+json": {
       "model_id": "e13e10eb520a423688ca992731a1ca9d",
       "version_major": 2,
       "version_minor": 0
      },
      "text/plain": [
       "HBox(children=(Output(), Output()))"
      ]
     },
     "metadata": {},
     "output_type": "display_data"
    }
   ],
   "source": [
    "d = mp.subplot(mesh.vertices.numpy(), mesh.faces.numpy(), c=DwKr[7].to(device=torch.device('cpu')).numpy(),\n",
    "            shading={'colormap': \"jet_r\"}, s=[2,2,0])\n",
    "mp.subplot(mesh.vertices.numpy(), mesh.faces.numpy(), c=DwKr_alt[7].to(device=torch.device('cpu')).numpy(),\n",
    "            shading={'colormap': \"jet_r\"}, s=[2,2,1], data=d)\n",
    "mp.subplot(mesh.vertices.numpy(), mesh.faces.numpy(), c=sctest_num[7].to(device=torch.device('cpu')).numpy(),\n",
    "            shading={'colormap': \"jet_r\"}, s=[2,2,2], data=d)\n",
    "mp.subplot(mesh.vertices.numpy(), mesh.faces.numpy(), c=kr[7].to(device=torch.device('cpu')).numpy(),\n",
    "            shading={'colormap': \"jet_r\"}, s=[2,2,3], data=d)"
   ]
  },
  {
   "cell_type": "code",
   "execution_count": 90,
   "metadata": {},
   "outputs": [
    {
     "data": {
      "application/vnd.jupyter.widget-view+json": {
       "model_id": "139b6fcf1e3f48ba98633c52ce086505",
       "version_major": 2,
       "version_minor": 0
      },
      "text/plain": [
       "HBox(children=(Output(), Output()))"
      ]
     },
     "metadata": {},
     "output_type": "display_data"
    },
    {
     "data": {
      "application/vnd.jupyter.widget-view+json": {
       "model_id": "83e62127b12047f5b2f0d1eb2e9e3da4",
       "version_major": 2,
       "version_minor": 0
      },
      "text/plain": [
       "HBox(children=(Output(), Output()))"
      ]
     },
     "metadata": {},
     "output_type": "display_data"
    }
   ],
   "source": [
    "d = mp.subplot(mesh.vertices.numpy(), mesh.faces.numpy(), c=DwKr[8].to(device=torch.device('cpu')).numpy(),\n",
    "            shading={'colormap': \"jet_r\"}, s=[2,2,0])\n",
    "mp.subplot(mesh.vertices.numpy(), mesh.faces.numpy(), c=DwKr_alt[8].to(device=torch.device('cpu')).numpy(),\n",
    "            shading={'colormap': \"jet_r\"}, s=[2,2,1], data=d)\n",
    "mp.subplot(mesh.vertices.numpy(), mesh.faces.numpy(), c=sctest_num[8].to(device=torch.device('cpu')).numpy(),\n",
    "            shading={'colormap': \"jet_r\"}, s=[2,2,2], data=d)\n",
    "mp.subplot(mesh.vertices.numpy(), mesh.faces.numpy(), c=kr[8].to(device=torch.device('cpu')).numpy(),\n",
    "            shading={'colormap': \"jet_r\"}, s=[2,2,3], data=d)"
   ]
  },
  {
   "cell_type": "code",
   "execution_count": 91,
   "metadata": {},
   "outputs": [
    {
     "data": {
      "application/vnd.jupyter.widget-view+json": {
       "model_id": "d3b4d4b1945d4f1496da3abfea2d48f1",
       "version_major": 2,
       "version_minor": 0
      },
      "text/plain": [
       "HBox(children=(Output(), Output()))"
      ]
     },
     "metadata": {},
     "output_type": "display_data"
    },
    {
     "data": {
      "application/vnd.jupyter.widget-view+json": {
       "model_id": "a3429649d4bc4ec5ae4cdf564cac4ae5",
       "version_major": 2,
       "version_minor": 0
      },
      "text/plain": [
       "HBox(children=(Output(), Output()))"
      ]
     },
     "metadata": {},
     "output_type": "display_data"
    }
   ],
   "source": [
    "d = mp.subplot(mesh.vertices.numpy(), mesh.faces.numpy(), c=DwKr[9].to(device=torch.device('cpu')).numpy(),\n",
    "            shading={'colormap': \"jet_r\"}, s=[2,2,0])\n",
    "mp.subplot(mesh.vertices.numpy(), mesh.faces.numpy(), c=DwKr_alt[9].to(device=torch.device('cpu')).numpy(),\n",
    "            shading={'colormap': \"jet_r\"}, s=[2,2,1], data=d)\n",
    "mp.subplot(mesh.vertices.numpy(), mesh.faces.numpy(), c=sctest_num[9].to(device=torch.device('cpu')).numpy(),\n",
    "            shading={'colormap': \"jet_r\"}, s=[2,2,2], data=d)\n",
    "mp.subplot(mesh.vertices.numpy(), mesh.faces.numpy(), c=kr[9].to(device=torch.device('cpu')).numpy(),\n",
    "            shading={'colormap': \"jet_r\"}, s=[2,2,3], data=d)"
   ]
  },
  {
   "cell_type": "code",
   "execution_count": 92,
   "metadata": {},
   "outputs": [
    {
     "data": {
      "application/vnd.jupyter.widget-view+json": {
       "model_id": "ce4f8f3ec8df445ab54a8e67a8b4d2a6",
       "version_major": 2,
       "version_minor": 0
      },
      "text/plain": [
       "HBox(children=(Output(), Output()))"
      ]
     },
     "metadata": {},
     "output_type": "display_data"
    },
    {
     "data": {
      "application/vnd.jupyter.widget-view+json": {
       "model_id": "aa69386625004d3e9932a8c01d05c729",
       "version_major": 2,
       "version_minor": 0
      },
      "text/plain": [
       "HBox(children=(Output(), Output()))"
      ]
     },
     "metadata": {},
     "output_type": "display_data"
    }
   ],
   "source": [
    "d = mp.subplot(mesh.vertices.numpy(), mesh.faces.numpy(), c=DwKr[10].to(device=torch.device('cpu')).numpy(),\n",
    "            shading={'colormap': \"jet_r\"}, s=[2,2,0])\n",
    "mp.subplot(mesh.vertices.numpy(), mesh.faces.numpy(), c=DwKr_alt[10].to(device=torch.device('cpu')).numpy(),\n",
    "            shading={'colormap': \"jet_r\"}, s=[2,2,1], data=d)\n",
    "mp.subplot(mesh.vertices.numpy(), mesh.faces.numpy(), c=sctest_num[10].to(device=torch.device('cpu')).numpy(),\n",
    "            shading={'colormap': \"jet_r\"}, s=[2,2,2], data=d)\n",
    "mp.subplot(mesh.vertices.numpy(), mesh.faces.numpy(), c=kr[10].to(device=torch.device('cpu')).numpy(),\n",
    "            shading={'colormap': \"jet_r\"}, s=[2,2,3], data=d)"
   ]
  },
  {
   "cell_type": "code",
   "execution_count": 93,
   "metadata": {},
   "outputs": [
    {
     "data": {
      "application/vnd.jupyter.widget-view+json": {
       "model_id": "e289e8cac15744738e253af4db8ca841",
       "version_major": 2,
       "version_minor": 0
      },
      "text/plain": [
       "HBox(children=(Output(), Output()))"
      ]
     },
     "metadata": {},
     "output_type": "display_data"
    },
    {
     "data": {
      "application/vnd.jupyter.widget-view+json": {
       "model_id": "1d6e85df83674d5e8233fb7d54cd9c4f",
       "version_major": 2,
       "version_minor": 0
      },
      "text/plain": [
       "HBox(children=(Output(), Output()))"
      ]
     },
     "metadata": {},
     "output_type": "display_data"
    }
   ],
   "source": [
    "d = mp.subplot(mesh.vertices.numpy(), mesh.faces.numpy(), c=DwKr[11].to(device=torch.device('cpu')).numpy(),\n",
    "            shading={'colormap': \"jet_r\"}, s=[2,2,0])\n",
    "mp.subplot(mesh.vertices.numpy(), mesh.faces.numpy(), c=DwKr_alt[11].to(device=torch.device('cpu')).numpy(),\n",
    "            shading={'colormap': \"jet_r\"}, s=[2,2,1], data=d)\n",
    "mp.subplot(mesh.vertices.numpy(), mesh.faces.numpy(), c=sctest_num[1].to(device=torch.device('cpu')).numpy(),\n",
    "            shading={'colormap': \"jet_r\"}, s=[2,2,2], data=d)\n",
    "mp.subplot(mesh.vertices.numpy(), mesh.faces.numpy(), c=kr[11].to(device=torch.device('cpu')).numpy(),\n",
    "            shading={'colormap': \"jet_r\"}, s=[2,2,3], data=d)"
   ]
  },
  {
   "cell_type": "code",
   "execution_count": 46,
   "metadata": {},
   "outputs": [
    {
     "data": {
      "text/plain": [
       "Text(0.5, 1.0, 'rtsc')"
      ]
     },
     "execution_count": 46,
     "metadata": {},
     "output_type": "execute_result"
    }
   ],
   "source": [
    "fig, axes = plt.subplots(1, 2, sharey=True)\n",
    "fig.suptitle('Comparación de distribuciones de DwKr\\n')\n",
    "\n",
    "hplot = sns.histplot(ax=axes[0], data=DwKr[0].cpu().numpy())\n",
    "hplot.set(xlabel='Valor de DwKr')\n",
    "axes[0].set_title('Nuestra implementación')\n",
    "\n",
    "hplot = sns.histplot(ax=axes[1], data=dwtri[0].cpu().numpy())\n",
    "hplot.set(xlabel='Valor de DwKr')\n",
    "axes[1].set_title('rtsc')\n",
    "#plt.show()"
   ]
  },
  {
   "cell_type": "code",
   "execution_count": 48,
   "metadata": {},
   "outputs": [
    {
     "data": {
      "text/plain": [
       "Text(0.5, 1.0, 'rtsc')"
      ]
     },
     "execution_count": 48,
     "metadata": {},
     "output_type": "execute_result"
    }
   ],
   "source": [
    "fig, axes = plt.subplots(1, 2, sharey=True)\n",
    "fig.suptitle('Comparación de distribuciones de DwKr\\n')\n",
    "\n",
    "hplot = sns.histplot(ax=axes[0], data=DwKr[0].cpu().numpy())\n",
    "hplot.set(xlabel='Valor de DwKr')\n",
    "axes[0].set_title('Nuestra implementación')\n",
    "\n",
    "hplot = sns.histplot(ax=axes[1], data=sctest[0].cpu().numpy())\n",
    "hplot.set(xlabel='Valor de DwKr')\n",
    "axes[1].set_title('rtsc')\n",
    "#plt.show()"
   ]
  },
  {
   "cell_type": "code",
   "execution_count": 47,
   "metadata": {},
   "outputs": [
    {
     "data": {
      "text/plain": [
       "Text(0.5, 1.0, 'rtsc')"
      ]
     },
     "execution_count": 47,
     "metadata": {},
     "output_type": "execute_result"
    }
   ],
   "source": [
    "fig, axes = plt.subplots(1, 2, sharey=True)\n",
    "fig.suptitle('Comparación de distribuciones de curvaturas radiales\\n')\n",
    "\n",
    "hplot = sns.histplot(ax=axes[0], data=kr[0].cpu().numpy())\n",
    "hplot.set(xlabel='Valor de kr')\n",
    "axes[0].set_title('Nuestra implementación')\n",
    "\n",
    "hplot = sns.histplot(ax=axes[1], data=krtri[0].cpu().numpy())\n",
    "hplot.set(xlabel='Valor de kr')\n",
    "axes[1].set_title('rtsc')\n",
    "#plt.show()"
   ]
  },
  {
   "cell_type": "code",
   "execution_count": 47,
   "metadata": {},
   "outputs": [
    {
     "data": {
      "text/plain": [
       "Text(0.5, 1.0, 'rtsc')"
      ]
     },
     "execution_count": 47,
     "metadata": {},
     "output_type": "execute_result"
    }
   ],
   "source": [
    "fig, axes = plt.subplots(1, 2, sharey=True)\n",
    "fig.suptitle('Comparación de distribuciones de curvaturas radiales\\n')\n",
    "\n",
    "hplot = sns.histplot(ax=axes[0], data=kr[0].cpu().numpy())\n",
    "hplot.set(xlabel='Valor de kr')\n",
    "axes[0].set_title('Nuestra implementación')\n",
    "\n",
    "hplot = sns.histplot(ax=axes[1], data=krf[0].cpu().numpy())\n",
    "hplot.set(xlabel='Valor de kr')\n",
    "axes[1].set_title('rtsc')\n",
    "#plt.show()"
   ]
  },
  {
   "cell_type": "code",
   "execution_count": 57,
   "metadata": {},
   "outputs": [
    {
     "data": {
      "text/plain": [
       "Text(0.5, 1.0, 'rtsc')"
      ]
     },
     "execution_count": 57,
     "metadata": {},
     "output_type": "execute_result"
    }
   ],
   "source": [
    "fig, axes = plt.subplots(1, 2, sharey=True)\n",
    "fig.suptitle('Comparación de distribuciones de curvatura principal k1\\n')\n",
    "\n",
    "hplot = sns.histplot(ax=axes[0], data=k1.cpu().numpy())\n",
    "hplot.set(xlabel='Valor de k1')\n",
    "axes[0].set_title('Implementación en Python')\n",
    "\n",
    "hplot = sns.histplot(ax=axes[1], data=trik1.cpu().numpy())\n",
    "hplot.set(xlabel='Valor de k1')\n",
    "axes[1].set_title('rtsc')\n",
    "#plt.show()"
   ]
  },
  {
   "cell_type": "code",
   "execution_count": 31,
   "metadata": {},
   "outputs": [
    {
     "data": {
      "text/plain": [
       "Text(0.5, 1.0, 'rtsc')"
      ]
     },
     "execution_count": 31,
     "metadata": {},
     "output_type": "execute_result"
    }
   ],
   "source": [
    "fig, axes = plt.subplots(1, 2, sharey=True)\n",
    "fig.suptitle('Comparación de distribuciones de curvatura principal k2\\n')\n",
    "\n",
    "hplot = sns.histplot(ax=axes[0], data=k2.cpu().numpy())\n",
    "hplot.set(xlabel='Valor de k2')\n",
    "axes[0].set_title('Implementación en Python')\n",
    "\n",
    "hplot = sns.histplot(ax=axes[1], data=trik2.cpu().numpy())\n",
    "hplot.set(xlabel='Valor de k2')\n",
    "axes[1].set_title('rtsc')\n",
    "#plt.show()"
   ]
  },
  {
   "cell_type": "code",
   "execution_count": 36,
   "metadata": {},
   "outputs": [
    {
     "data": {
      "text/plain": [
       "<PolarAxesSubplot:ylabel='Count'>"
      ]
     },
     "execution_count": 36,
     "metadata": {},
     "output_type": "execute_result"
    }
   ],
   "source": [
    "df = pd.DataFrame(e1.cpu().numpy(), columns=['c1', 'c2', 'c3'])\n",
    "ax = plt.subplot(111, polar=True)\n",
    "sns.histplot(data=df, ax=ax)"
   ]
  },
  {
   "cell_type": "code",
   "execution_count": null,
   "metadata": {},
   "outputs": [],
   "source": []
  }
 ],
 "metadata": {
  "kernelspec": {
   "display_name": "Python 3",
   "language": "python",
   "name": "python3"
  },
  "language_info": {
   "codemirror_mode": {
    "name": "ipython",
    "version": 3
   },
   "file_extension": ".py",
   "mimetype": "text/x-python",
   "name": "python",
   "nbconvert_exporter": "python",
   "pygments_lexer": "ipython3",
   "version": "3.6.12"
  }
 },
 "nbformat": 4,
 "nbformat_minor": 4
}
