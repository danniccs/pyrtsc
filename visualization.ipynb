{
 "cells": [
  {
   "cell_type": "code",
   "execution_count": 1,
   "metadata": {},
   "outputs": [],
   "source": [
    "import normals_lib\n",
    "import kaolin as kal\n",
    "import torch\n",
    "import numpy as np\n",
    "import meshplot as mp\n",
    "\n",
    "#mesh = kal.rep.TriangleMesh.from_obj(\"model.obj\") # Modelo de una esfera\n",
    "#mesh = kal.rep.TriangleMesh.from_obj(\"cow.obj\") # Modelo de vaca\n",
    "mesh = kal.rep.TriangleMesh.from_obj(\"torus.obj\")\n",
    "#mesh = kal.rep.TriangleMesh.from_obj(\"pear.obj\")"
   ]
  },
  {
   "cell_type": "code",
   "execution_count": 2,
   "metadata": {},
   "outputs": [
    {
     "data": {
      "application/vnd.jupyter.widget-view+json": {
       "model_id": "eb23ef73adcb4adfb62b159a2c06409c",
       "version_major": 2,
       "version_minor": 0
      },
      "text/plain": [
       "Renderer(camera=PerspectiveCamera(children=(DirectionalLight(color='white', intensity=0.6, position=(0.0, 0.0,…"
      ]
     },
     "metadata": {},
     "output_type": "display_data"
    }
   ],
   "source": [
    "normals = normals_lib.compute_simple_vertex_normals(mesh).to(device=torch.device('cpu'))\n",
    "normals_lib.visualize_normals(mesh, normals)\n",
    "normals = normals.to(device=torch.device('cuda'))"
   ]
  },
  {
   "cell_type": "code",
   "execution_count": 3,
   "metadata": {},
   "outputs": [],
   "source": [
    "# Calculate principal curvatures and curvature directions\n",
    "import curvature\n",
    "\n",
    "k1, k2, e1, e2 = curvature.compute_curvatures(mesh)"
   ]
  },
  {
   "cell_type": "code",
   "execution_count": 4,
   "metadata": {},
   "outputs": [],
   "source": [
    "import dcurv\n",
    "\n",
    "dc = dcurv.compute_dcurvs(mesh, curvs=(k1,k2,e1,e2))"
   ]
  },
  {
   "cell_type": "code",
   "execution_count": 7,
   "metadata": {},
   "outputs": [
    {
     "data": {
      "text/plain": [
       "<module 'dcurv' from '/home/danniccs/rtsc_to_torch/dcurv.py'>"
      ]
     },
     "execution_count": 7,
     "metadata": {},
     "output_type": "execute_result"
    }
   ],
   "source": [
    "import importlib\n",
    "import shared_algs\n",
    "importlib.reload(dcurv)\n",
    "importlib.reload(shared_algs)"
   ]
  },
  {
   "cell_type": "code",
   "execution_count": 26,
   "metadata": {},
   "outputs": [],
   "source": [
    "view_coords = torch.load(\"view_coordinates.pt\").to(device=torch.device('cuda'))\n",
    "verts = mesh.vertices.clone()\n",
    "xmed = torch.median(verts[:,0])\n",
    "ymed = torch.median(verts[:,1])\n",
    "zmed = torch.median(verts[:,2])\n",
    "verts[:,0] -= xmed\n",
    "verts[:,1] -= ymed\n",
    "verts[:,2] -= zmed\n",
    "verts /= torch.max(torch.norm(verts, dim=1))\n",
    "mesh.vertices = verts"
   ]
  },
  {
   "cell_type": "code",
   "execution_count": 27,
   "metadata": {},
   "outputs": [],
   "source": [
    "DwKr, kr = dcurv.compute_DwKr(mesh, normals=normals, curvs=(k1,k2,e1,e2), dcurv=dc, view_coords=view_coords[0])"
   ]
  },
  {
   "cell_type": "code",
   "execution_count": 47,
   "metadata": {},
   "outputs": [],
   "source": [
    "tridc = torch.zeros(dc.shape)\n",
    "with open(\"/home/danniccs/rtsc-1.6/dcurv\", \"r\") as myfile:\n",
    "    for i in range(0, dc.shape[0]):\n",
    "        l = myfile.readline()\n",
    "        tridc[i] = torch.tensor([float(n) for n in l[1:-2].split(',')])\n",
    "DwKrtri, krtri = dcurv.compute_DwKr(mesh, normals=normals, curvs=(k1,k2,e1,e2), dcurv=tridc.to(device=torch.device('cuda')))"
   ]
  },
  {
   "cell_type": "code",
   "execution_count": 30,
   "metadata": {},
   "outputs": [
    {
     "data": {
      "application/vnd.jupyter.widget-view+json": {
       "model_id": "ce12ebc8f2494d7a86fb2249059c8d82",
       "version_major": 2,
       "version_minor": 0
      },
      "text/plain": [
       "Renderer(camera=PerspectiveCamera(children=(DirectionalLight(color='white', intensity=0.6, position=(0.0, 0.0,…"
      ]
     },
     "metadata": {},
     "output_type": "display_data"
    },
    {
     "data": {
      "application/vnd.jupyter.widget-view+json": {
       "model_id": "18b6e869742f4471a1c203f149aebeb8",
       "version_major": 2,
       "version_minor": 0
      },
      "text/plain": [
       "Renderer(camera=PerspectiveCamera(children=(DirectionalLight(color='white', intensity=0.6, position=(0.0, 0.0,…"
      ]
     },
     "metadata": {},
     "output_type": "display_data"
    },
    {
     "data": {
      "text/plain": [
       "<meshplot.Viewer.Viewer at 0x7f1be9a032b0>"
      ]
     },
     "execution_count": 30,
     "metadata": {},
     "output_type": "execute_result"
    }
   ],
   "source": [
    "colour = torch.zeros(mesh.vertices.shape[0], 3)\n",
    "#colour[:,0] = DwKr.to(device=torch.device('cpu'))\n",
    "mp.plot(verts.numpy(), mesh.faces.numpy(), c=DwKr.to(device=torch.device('cpu')).numpy(),\n",
    "        shading={'colormap': \"jet_r\"})\n",
    "mp.plot(verts.numpy(), mesh.faces.numpy(), c=kr.to(device=torch.device('cpu')).numpy(),\n",
    "        shading={'colormap': \"jet_r\"})"
   ]
  },
  {
   "cell_type": "code",
   "execution_count": 14,
   "metadata": {},
   "outputs": [
    {
     "data": {
      "text/plain": [
       "tensor(1.2500)"
      ]
     },
     "execution_count": 14,
     "metadata": {},
     "output_type": "execute_result"
    }
   ],
   "source": [
    "torch.max(mesh.vertices[:,0])"
   ]
  },
  {
   "cell_type": "code",
   "execution_count": null,
   "metadata": {},
   "outputs": [],
   "source": []
  }
 ],
 "metadata": {
  "kernelspec": {
   "display_name": "Python 3",
   "language": "python",
   "name": "python3"
  },
  "language_info": {
   "codemirror_mode": {
    "name": "ipython",
    "version": 3
   },
   "file_extension": ".py",
   "mimetype": "text/x-python",
   "name": "python",
   "nbconvert_exporter": "python",
   "pygments_lexer": "ipython3",
   "version": "3.6.12"
  }
 },
 "nbformat": 4,
 "nbformat_minor": 4
}
