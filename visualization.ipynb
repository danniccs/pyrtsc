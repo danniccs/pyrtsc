{
 "cells": [
  {
   "cell_type": "code",
   "execution_count": 1,
   "metadata": {},
   "outputs": [],
   "source": [
    "import normals_lib\n",
    "import kaolin as kal\n",
    "import torch\n",
    "import numpy as np\n",
    "import meshplot as mp\n",
    "\n",
    "mesh = kal.rep.TriangleMesh.from_obj(\"model.obj\") # Modelo de una esfera\n",
    "#mesh = kal.rep.TriangleMesh.from_obj(\"cow.obj\") # Modelo de vaca\n",
    "#mesh = kal.rep.TriangleMesh.from_obj(\"torus.obj\")"
   ]
  },
  {
   "cell_type": "code",
   "execution_count": null,
   "metadata": {},
   "outputs": [],
   "source": [
    "normals = normals_lib.compute_simple_vertex_normals(mesh).to(device=torch.device('cpu'))\n",
    "normals_lib.visualize_normals(mesh, normals)"
   ]
  },
  {
   "cell_type": "code",
   "execution_count": null,
   "metadata": {},
   "outputs": [],
   "source": [
    "import pointareas\n",
    "\n",
    "pa, ca = pointareas.compute_pointareas(mesh)\n",
    "pointareas.visualize_pointareas(mesh, pa)\n",
    "\n",
    "f = open(\"/home/danniccs/rtsc-1.6/model_pointareas\", \"r\")\n",
    "tri_pa = [float(l) for l in f]\n",
    "tri_pa_tens = torch.tensor(tri_pa)\n",
    "pointareas.visualize_pointareas(mesh, tri_pa_tens)"
   ]
  },
  {
   "cell_type": "code",
   "execution_count": 2,
   "metadata": {},
   "outputs": [],
   "source": [
    "# Calculate principal curvatures and curvature directions\n",
    "import curvature\n",
    "\n",
    "k1, k2, e1, e2 = curvature.compute_curvatures(mesh)"
   ]
  },
  {
   "cell_type": "code",
   "execution_count": null,
   "metadata": {},
   "outputs": [],
   "source": [
    "with open(\"/home/danniccs/rtsc-1.6/k1curv\", \"r\") as f:\n",
    "    tri_k1 = [float(l) for l in f]\n",
    "tri_k1_tens = torch.tensor(tri_k1)\n",
    "\n",
    "with open(\"/home/danniccs/rtsc-1.6/k2curv\", \"r\") as f:\n",
    "    tri_k2 = [float(l) for l in f]\n",
    "tri_k2_tens = torch.tensor(tri_k2)\n",
    "\n",
    "with open(\"/home/danniccs/rtsc-1.6/pdir1\", \"r\") as f:\n",
    "    splitLines = [l.replace('(', '').replace(')', '').split(', ') for l in f]\n",
    "tri_e1 = [[float(el[0]), float(el[1]), float(el[2])] for el in splitLines]\n",
    "tri_e1_tens = torch.tensor(tri_e1)"
   ]
  },
  {
   "cell_type": "code",
   "execution_count": 3,
   "metadata": {},
   "outputs": [
    {
     "data": {
      "application/vnd.jupyter.widget-view+json": {
       "model_id": "ad2b03a620644d59b92b7b4d9c355438",
       "version_major": 2,
       "version_minor": 0
      },
      "text/plain": [
       "Renderer(camera=PerspectiveCamera(children=(DirectionalLight(color='white', intensity=0.6, position=(0.7761263…"
      ]
     },
     "metadata": {},
     "output_type": "display_data"
    },
    {
     "data": {
      "text/plain": [
       "<meshplot.Viewer.Viewer at 0x7f18b9981fd0>"
      ]
     },
     "execution_count": 3,
     "metadata": {},
     "output_type": "execute_result"
    }
   ],
   "source": [
    "mp.plot(mesh.vertices.numpy(), mesh.faces.numpy(), c=k1.to(device=torch.device('cpu')).numpy(),\n",
    "        shading={\"colormap\": \"bwr\"})"
   ]
  },
  {
   "cell_type": "code",
   "execution_count": null,
   "metadata": {},
   "outputs": [],
   "source": [
    "mp.plot(mesh.vertices.numpy(), mesh.faces.numpy(), c=tri_k1_tens.numpy(),\n",
    "        shading={\"colormap\": \"bwr\"})"
   ]
  },
  {
   "cell_type": "code",
   "execution_count": null,
   "metadata": {},
   "outputs": [],
   "source": [
    "mp.plot(mesh.vertices.numpy(), mesh.faces.numpy(), k2.numpy(),\n",
    "        shading={\"colormap\": \"bwr\"})"
   ]
  },
  {
   "cell_type": "code",
   "execution_count": null,
   "metadata": {},
   "outputs": [],
   "source": [
    "mp.plot(mesh.vertices.numpy(), mesh.faces.numpy(), tri_k2_tens.numpy(),\n",
    "        shading={\"colormap\": \"bwr\"})"
   ]
  },
  {
   "cell_type": "code",
   "execution_count": null,
   "metadata": {},
   "outputs": [],
   "source": [
    "normals_lib.visualize_normals(mesh, e1)"
   ]
  },
  {
   "cell_type": "code",
   "execution_count": null,
   "metadata": {},
   "outputs": [],
   "source": [
    "normals_lib.visualize_normals(mesh, tri_e1_tens)"
   ]
  },
  {
   "cell_type": "code",
   "execution_count": 2,
   "metadata": {},
   "outputs": [],
   "source": [
    "import dcurv\n",
    "\n",
    "dc = dcurv.compute_dcurvs(mesh)"
   ]
  },
  {
   "cell_type": "code",
   "execution_count": null,
   "metadata": {},
   "outputs": [],
   "source": []
  }
 ],
 "metadata": {
  "kernelspec": {
   "display_name": "Python 3",
   "language": "python",
   "name": "python3"
  },
  "language_info": {
   "codemirror_mode": {
    "name": "ipython",
    "version": 3
   },
   "file_extension": ".py",
   "mimetype": "text/x-python",
   "name": "python",
   "nbconvert_exporter": "python",
   "pygments_lexer": "ipython3",
   "version": "3.6.10"
  }
 },
 "nbformat": 4,
 "nbformat_minor": 4
}
