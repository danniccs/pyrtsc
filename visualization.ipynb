{
 "cells": [
  {
   "cell_type": "code",
   "execution_count": 3,
   "metadata": {},
   "outputs": [
    {
     "data": {
      "application/vnd.jupyter.widget-view+json": {
       "model_id": "fce7895cb9854209b4ef3f401262989a",
       "version_major": 2,
       "version_minor": 0
      },
      "text/plain": [
       "Renderer(camera=PerspectiveCamera(children=(DirectionalLight(color='white', intensity=0.6, position=(0.7761263…"
      ]
     },
     "metadata": {},
     "output_type": "display_data"
    }
   ],
   "source": [
    "import utils\n",
    "import kaolin as kal\n",
    "import torch\n",
    "import numpy as np\n",
    "import ipyvolume as ipv\n",
    "from PIL import Image\n",
    "\n",
    "#mesh = kal.rep.TriangleMesh.from_obj(\"model.obj\") # Modelo de una esfera\n",
    "mesh = kal.rep.TriangleMesh.from_obj(\"cow.obj\") # Modelo de vaca\n",
    "normals = utils.compute_vertex_normals(mesh)\n",
    "utils.visualize_normals(mesh, normals)"
   ]
  },
  {
   "cell_type": "code",
   "execution_count": 5,
   "metadata": {},
   "outputs": [
    {
     "data": {
      "application/vnd.jupyter.widget-view+json": {
       "model_id": "0365ec8cd86f47b9a3c0c5c7f130896c",
       "version_major": 2,
       "version_minor": 0
      },
      "text/plain": [
       "Renderer(camera=PerspectiveCamera(children=(DirectionalLight(color='white', intensity=0.6, position=(0.7761263…"
      ]
     },
     "metadata": {},
     "output_type": "display_data"
    },
    {
     "data": {
      "application/vnd.jupyter.widget-view+json": {
       "model_id": "5c60645d23cd4dc9a5fca113e40bdc03",
       "version_major": 2,
       "version_minor": 0
      },
      "text/plain": [
       "Renderer(camera=PerspectiveCamera(children=(DirectionalLight(color='white', intensity=0.6, position=(0.7761263…"
      ]
     },
     "metadata": {},
     "output_type": "display_data"
    }
   ],
   "source": [
    "import pointareas\n",
    "\n",
    "pa = pointareas.calculate_pointareas(mesh)\n",
    "pointareas.visualize_pointareas(mesh, pa)\n",
    "\n",
    "f = open(\"model_pointareas\", \"r\")\n",
    "tri_pa = [float(l) for l in f]\n",
    "tri_pa_tens = torch.tensor(tri_pa)\n",
    "pointareas.visualize_pointareas(mesh, tri_pa_tens)"
   ]
  },
  {
   "cell_type": "code",
   "execution_count": 15,
   "metadata": {},
   "outputs": [],
   "source": [
    "def norm_sq(v, dim):\n",
    "    return torch.sum(v**2, dim=dim)\n",
    "\n",
    "def calculate_pointareas(mesh):\n",
    "    verts = mesh.vertices\n",
    "    faces = mesh.faces\n",
    "\n",
    "    # Conseguir vectores de bordes\n",
    "    e0 = verts[faces[:,2]] - verts[faces[:,1]]\n",
    "    e1 = verts[faces[:,0]] - verts[faces[:,2]]\n",
    "    e2 = verts[faces[:,1]] - verts[faces[:,0]]\n",
    "\n",
    "    # Computar los pesos en cada esquina, basados en el area\n",
    "    area = 0.5 * torch.norm(torch.cross(e0, e1), dim=1)\n",
    "    l2 = torch.stack([norm_sq(e0, 1), norm_sq(e1, 1), norm_sq(e2, 1)], dim=1)\n",
    "\n",
    "    # Pesos baricéntricos del circumcentro\n",
    "    bcw = torch.stack([l2[:,0] * (l2[:,1] + l2[:,2] - l2[:,0]),\n",
    "                       l2[:,1] * (l2[:,2] + l2[:,0] - l2[:,1]),\n",
    "                       l2[:,2] * (l2[:,0] + l2[:,1] - l2[:,2])], dim=1)\n",
    "\n",
    "    # Calculo las areas en las esquinas en base a los pesos baricéntricos\n",
    "    pointareas = torch.zeros(verts.shape, dtype=verts.dtype)\n",
    "    cornerareas = torch.zeros(faces.shape, dtype=verts.dtype)\n",
    "\n",
    "    for i in range(0, faces.shape[0]):\n",
    "            if bcw[i,0] <= 0.0:\n",
    "                    cornerareas[i,1] = -0.25 * l2[i,2] * area[i] / torch.dot(e0[i], e2[i])\n",
    "                    cornerareas[i,2] = -0.25 * l2[i,1] * area[i] / torch.dot(e0[i], e1[i])\n",
    "                    cornerareas[i,0] = area[i] - cornerareas[i,1] - cornerareas[i,2]\n",
    "\n",
    "            elif bcw[i,1] <= 0.0:\n",
    "                    cornerareas[i,2] = -0.25 * l2[i,0] * area[i] / torch.dot(e1[i], e0[i])\n",
    "                    cornerareas[i,0] = -0.25 * l2[i,2] * area[i] / torch.dot(e1[i], e2[i])\n",
    "                    cornerareas[i,1] = area[i] - cornerareas[i,2] - cornerareas[i,0]\n",
    "\n",
    "            elif bcw[i,2] <= 0.0:\n",
    "                    cornerareas[i,0] = -0.25 * l2[i,1] * area[i] / torch.dot(e2[i], e1[i])\n",
    "                    cornerareas[i,1] = -0.25 * l2[i,0] * area[i] / torch.dot(e2[i], e0[i])\n",
    "                    cornerareas[i,2] = area[i] - cornerareas[i,0] - cornerareas[i,1]\n",
    "\n",
    "            else:\n",
    "                    scale = 0.5 * area[i] / (bcw[i,0] + bcw[i,1] + bcw[i,2])\n",
    "                    cornerareas[i,0] = scale * (bcw[i,1] + bcw[i,2])\n",
    "                    cornerareas[i,1] = scale * (bcw[i,2] + bcw[i,0])\n",
    "                    cornerareas[i,2] = scale * (bcw[i,0] + bcw[i,1])\n",
    "\n",
    "            pointareas[faces[i,0]] += cornerareas[i,0]\n",
    "            pointareas[faces[i,1]] += cornerareas[i,1]\n",
    "            pointareas[faces[i,2]] += cornerareas[i,2]\n",
    "\n",
    "    return pointareas"
   ]
  },
  {
   "cell_type": "code",
   "execution_count": 16,
   "metadata": {},
   "outputs": [
    {
     "name": "stdout",
     "output_type": "stream",
     "text": [
      "tensor([[0.0214, 0.0214, 0.0214],\n",
      "        [0.0353, 0.0353, 0.0353],\n",
      "        [0.0247, 0.0247, 0.0247],\n",
      "        ...,\n",
      "        [0.0046, 0.0046, 0.0046],\n",
      "        [0.0038, 0.0038, 0.0038],\n",
      "        [0.0057, 0.0057, 0.0057]])\n"
     ]
    }
   ],
   "source": [
    "pa = calculate_pointareas(mesh)\n",
    "print(pa)"
   ]
  },
  {
   "cell_type": "code",
   "execution_count": null,
   "metadata": {},
   "outputs": [],
   "source": []
  }
 ],
 "metadata": {
  "kernelspec": {
   "display_name": "Python 3",
   "language": "python",
   "name": "python3"
  },
  "language_info": {
   "codemirror_mode": {
    "name": "ipython",
    "version": 3
   },
   "file_extension": ".py",
   "mimetype": "text/x-python",
   "name": "python",
   "nbconvert_exporter": "python",
   "pygments_lexer": "ipython3",
   "version": "3.6.10"
  }
 },
 "nbformat": 4,
 "nbformat_minor": 4
}
