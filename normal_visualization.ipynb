{
 "cells": [
  {
   "cell_type": "code",
   "execution_count": 1,
   "metadata": {},
   "outputs": [
    {
     "name": "stdout",
     "output_type": "stream",
     "text": [
      "Warning: unable to import datasets/nusc:\n",
      "   No module named 'nuscenes'\n",
      "Warning: unable to import datasets/nusc:\n",
      "   None\n"
     ]
    },
    {
     "name": "stderr",
     "output_type": "stream",
     "text": [
      "Traceback (most recent call last):\n",
      "  File \"/home/danniccs/kaolin/kaolin/datasets/__init__.py\", line 11, in <module>\n",
      "    from .nusc import NuscDetection\n",
      "  File \"/home/danniccs/kaolin/kaolin/datasets/nusc.py\", line 21, in <module>\n",
      "    from nuscenes.utils.geometry_utils import transform_matrix\n",
      "ModuleNotFoundError: No module named 'nuscenes'\n"
     ]
    },
    {
     "data": {
      "application/vnd.jupyter.widget-view+json": {
       "model_id": "bd55b792b4864b34ba6c7ede2e68c48a",
       "version_major": 2,
       "version_minor": 0
      },
      "text/plain": [
       "VBox(children=(Figure(camera=PerspectiveCamera(fov=45.0, position=(0.0, 0.0, 2.0), quaternion=(0.0, 0.0, 0.0, …"
      ]
     },
     "metadata": {},
     "output_type": "display_data"
    }
   ],
   "source": [
    "import utils\n",
    "import kaolin as kal\n",
    "import torch\n",
    "import numpy as np\n",
    "import ipyvolume as ipv\n",
    "from PIL import Image\n",
    "\n",
    "mesh = kal.rep.TriangleMesh.from_obj(\"model.obj\")\n",
    "normals = utils.compute_vertex_normals(mesh)\n",
    "im = Image.open(\"normal_texture.png\")\n",
    "utils.visualize_normals(mesh, im)"
   ]
  },
  {
   "cell_type": "code",
   "execution_count": null,
   "metadata": {},
   "outputs": [],
   "source": []
  }
 ],
 "metadata": {
  "kernelspec": {
   "display_name": "Python 3",
   "language": "python",
   "name": "python3"
  },
  "language_info": {
   "codemirror_mode": {
    "name": "ipython",
    "version": 3
   },
   "file_extension": ".py",
   "mimetype": "text/x-python",
   "name": "python",
   "nbconvert_exporter": "python",
   "pygments_lexer": "ipython3",
   "version": "3.6.10"
  }
 },
 "nbformat": 4,
 "nbformat_minor": 4
}
