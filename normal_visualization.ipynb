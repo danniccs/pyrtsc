{
 "cells": [
  {
   "cell_type": "code",
   "execution_count": 1,
   "metadata": {},
   "outputs": [
    {
     "data": {
      "application/vnd.jupyter.widget-view+json": {
       "model_id": "b606473996fa48c7849a0d4b6d9da67e",
       "version_major": 2,
       "version_minor": 0
      },
      "text/plain": [
       "Renderer(camera=PerspectiveCamera(children=(DirectionalLight(color='white', intensity=0.6, position=(0.7761263…"
      ]
     },
     "metadata": {},
     "output_type": "display_data"
    }
   ],
   "source": [
    "import utils\n",
    "import kaolin as kal\n",
    "import torch\n",
    "import numpy as np\n",
    "import ipyvolume as ipv\n",
    "from PIL import Image\n",
    "\n",
    "#mesh = kal.rep.TriangleMesh.from_obj(\"model.obj\") # Modelo de una esfera\n",
    "mesh = kal.rep.TriangleMesh.from_obj(\"cow.obj\") # Modelo de vaca\n",
    "normals = utils.compute_vertex_normals(mesh)\n",
    "utils.visualize_normals(mesh, normals)"
   ]
  },
  {
   "cell_type": "code",
   "execution_count": null,
   "metadata": {},
   "outputs": [],
   "source": []
  }
 ],
 "metadata": {
  "kernelspec": {
   "display_name": "Python 3",
   "language": "python",
   "name": "python3"
  },
  "language_info": {
   "codemirror_mode": {
    "name": "ipython",
    "version": 3
   },
   "file_extension": ".py",
   "mimetype": "text/x-python",
   "name": "python",
   "nbconvert_exporter": "python",
   "pygments_lexer": "ipython3",
   "version": "3.6.10"
  }
 },
 "nbformat": 4,
 "nbformat_minor": 4
}
